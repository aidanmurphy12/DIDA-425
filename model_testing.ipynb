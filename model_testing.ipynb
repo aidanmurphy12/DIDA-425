{
  "nbformat": 4,
  "nbformat_minor": 0,
  "metadata": {
    "colab": {
      "provenance": []
    },
    "kernelspec": {
      "name": "python3",
      "display_name": "Python 3"
    },
    "language_info": {
      "name": "python"
    }
  },
  "cells": [
    {
      "cell_type": "markdown",
      "source": [
        "#Testing with input"
      ],
      "metadata": {
        "id": "7Yrd-ScwLhNn"
      }
    },
    {
      "cell_type": "code",
      "execution_count": null,
      "metadata": {
        "colab": {
          "base_uri": "https://localhost:8080/"
        },
        "id": "9mNNfV4w9k4S",
        "outputId": "1b268ec6-aa39-4ad6-9f2f-1da86ee27e5c"
      },
      "outputs": [
        {
          "output_type": "stream",
          "name": "stdout",
          "text": [
            "Mounted at /content/gdrive\n"
          ]
        }
      ],
      "source": [
        "from google.colab import drive\n",
        "drive.mount('/content/gdrive')"
      ]
    },
    {
      "cell_type": "code",
      "execution_count": null,
      "metadata": {
        "id": "Jzzaj6GSlAc1"
      },
      "outputs": [],
      "source": [
        "import re\n",
        "import pickle\n",
        "input_text = input(\"Paste the text\")\n",
        "input_text = f\"\"\"{text}\"\"\"\n",
        "input_text = re.sub(r'[\\'\"‘’“”]', '', input_text)\n",
        "input_text = re.sub('^.*\\(Reuters\\)\\s*-\\s*', '', input_text)"
      ]
    },
    {
      "cell_type": "code",
      "execution_count": null,
      "metadata": {
        "id": "6BHWc3L2JAbJ"
      },
      "outputs": [],
      "source": [
        "input_text = [input_text]\n",
        "cv_text = cv.transform(input_text)\n",
        "tfidf_text = tfidf.transform(cv_text)"
      ]
    },
    {
      "cell_type": "code",
      "execution_count": null,
      "metadata": {
        "id": "_NAtWU0AOdH6"
      },
      "outputs": [],
      "source": [
        "def define_labels(prob):\n",
        "  if prob >= 0.5:\n",
        "    predicted_class = \"Real\"  # Real news\n",
        "  else:\n",
        "    predicted_class = \"Fake\"  # Fake news\n",
        "  return predicted_class"
      ]
    },
    {
      "cell_type": "markdown",
      "source": [
        "###Transformers"
      ],
      "metadata": {
        "id": "SYpmk27N-aGa"
      }
    },
    {
      "cell_type": "code",
      "execution_count": null,
      "metadata": {
        "colab": {
          "base_uri": "https://localhost:8080/",
          "height": 35
        },
        "id": "QEjUkMkxE9qJ",
        "outputId": "9008ac84-f2d6-4a46-c37b-cbe31b1401e4"
      },
      "outputs": [
        {
          "output_type": "execute_result",
          "data": {
            "text/plain": [
              "'transformer'"
            ],
            "application/vnd.google.colaboratory.intrinsic+json": {
              "type": "string"
            }
          },
          "metadata": {},
          "execution_count": 4
        }
      ],
      "source": [
        "import shutil\n",
        "import torch\n",
        "# Copy the saved model folder or zip file from Google Drive to Colab\n",
        "# If it's a folder:\n",
        "shutil.copytree(\"/content/gdrive/MyDrive/425 models/transformer\", \"transformer\")"
      ]
    },
    {
      "cell_type": "code",
      "execution_count": null,
      "metadata": {
        "id": "R6Hinj6aE-Yc"
      },
      "outputs": [],
      "source": [
        "from transformers import AutoModelForSequenceClassification, AutoTokenizer\n",
        "\n",
        "# Load the saved model\n",
        "model = AutoModelForSequenceClassification.from_pretrained(\"/content/transformer\")\n",
        "\n",
        "# Load the tokenizer\n",
        "tokenizer = AutoTokenizer.from_pretrained(\"/content/transformer\")"
      ]
    },
    {
      "cell_type": "code",
      "execution_count": null,
      "metadata": {
        "colab": {
          "base_uri": "https://localhost:8080/"
        },
        "id": "iGCiZH2zEO6w",
        "outputId": "7559371a-f413-4b46-e83b-3d3fabab8f33"
      },
      "outputs": [
        {
          "output_type": "stream",
          "name": "stdout",
          "text": [
            "Transformers predicted label: Fake news\n",
            "Transformers predicted score: 0.499073326587677\n"
          ]
        }
      ],
      "source": [
        "inputs = tokenizer(input_text, return_tensors=\"pt\")\n",
        "\n",
        "# Forward pass through the model to obtain logits\n",
        "with torch.no_grad():\n",
        "    outputs = model(**inputs)\n",
        "\n",
        "# Get the predicted class label\n",
        "predicted_label = torch.sigmoid(outputs.logits).squeeze().tolist()  # Assuming binary classification\n",
        "if predicted_label >= 0.5:\n",
        "    predicted_class = \"Real news\"\n",
        "else:\n",
        "    predicted_class = \"Fake news\"\n",
        "\n",
        "predicted_score = torch.sigmoid(outputs.logits).item()  # Assuming binary classification\n",
        "\n",
        "# Print the predicted class and probability score\n",
        "print(\"Transformers predicted label:\", predicted_class)\n",
        "print(\"Transformers predicted score:\", predicted_score)"
      ]
    },
    {
      "cell_type": "markdown",
      "source": [
        "### MLP"
      ],
      "metadata": {
        "id": "kSV5Xvbl-kfJ"
      }
    },
    {
      "cell_type": "code",
      "source": [
        "#Load models in\n",
        "with open('/content/gdrive/MyDrive/425 models/mlp.pkl', 'rb') as f:\n",
        "    mlp_classifier = pickle.load(f)\n",
        "\n",
        "with open('/content/gdrive/MyDrive/425 models/tfidfMLP.pkl', 'rb') as f:\n",
        "    tfidf_vec = pickle.load(f)"
      ],
      "metadata": {
        "id": "T41uEffI-imZ"
      },
      "execution_count": null,
      "outputs": []
    },
    {
      "cell_type": "code",
      "source": [
        "input_tfidf = tfidf_vec.transform(input_text)\n",
        "mlp_prob = mlp_classifier.predict_proba(input_tfidf)\n",
        "mlp_pred_label = define_labels(mlp_prob[0][1])\n",
        "print(\"MLP predicted label: \", mlp_pred_label)\n",
        "print(\"MLP predicted score: \", mlp_prob[0][1])"
      ],
      "metadata": {
        "colab": {
          "base_uri": "https://localhost:8080/"
        },
        "id": "4R4-jLRo_lcp",
        "outputId": "d2583a57-35da-499d-d6aa-284440f0db88"
      },
      "execution_count": null,
      "outputs": [
        {
          "output_type": "stream",
          "name": "stdout",
          "text": [
            "MLP predicted label:  Real\n",
            "MLP predicted score:  0.7527478000548626\n"
          ]
        }
      ]
    },
    {
      "cell_type": "markdown",
      "metadata": {
        "id": "vkU1F46bQXR6"
      },
      "source": [
        "###SVM"
      ]
    },
    {
      "cell_type": "code",
      "execution_count": null,
      "metadata": {
        "id": "AdNsKegOWNHB"
      },
      "outputs": [],
      "source": [
        "#Load models in\n",
        "with open('/content/gdrive/MyDrive/425 models/svm.pkl', 'rb') as f:\n",
        "    svm_classifier = pickle.load(f)\n",
        "\n",
        "with open('/content/gdrive/MyDrive/425 models/vectorizer.pkl', 'rb') as f:\n",
        "    cv = pickle.load(f)\n",
        "\n",
        "with open('/content/gdrive/MyDrive/425 models/tfidf.pkl', 'rb') as f:\n",
        "    tfidf = pickle.load(f)"
      ]
    },
    {
      "cell_type": "code",
      "execution_count": null,
      "metadata": {
        "colab": {
          "base_uri": "https://localhost:8080/"
        },
        "id": "FZ19bLyus56-",
        "outputId": "ba628359-ad68-4b70-aee1-81665017361f"
      },
      "outputs": [
        {
          "output_type": "stream",
          "name": "stdout",
          "text": [
            "SVM predicted label:  Fake\n",
            "SVM predicted score:  0.22558431394877265\n"
          ]
        }
      ],
      "source": [
        "svm_prob = svm_classifier.decision_function(tfidf_text)\n",
        "svm_pred_label = define_labels(svm_prob)\n",
        "print(\"SVM predicted label: \", svm_pred_label)\n",
        "print(\"SVM predicted score: \", svm_prob[0] if svm_prob[0]>0 else 1+svm_prob[0])"
      ]
    },
    {
      "cell_type": "markdown",
      "metadata": {
        "id": "UEI7ajH_QSzd"
      },
      "source": [
        "###Naive Bayes"
      ]
    },
    {
      "cell_type": "code",
      "execution_count": null,
      "metadata": {
        "id": "2lvRvOZwJkJb"
      },
      "outputs": [],
      "source": [
        "with open('/content/gdrive/MyDrive/425 models/naivebayes.pkl', 'rb') as f:\n",
        "    nb_classifier = pickle.load(f)"
      ]
    },
    {
      "cell_type": "code",
      "execution_count": null,
      "metadata": {
        "colab": {
          "base_uri": "https://localhost:8080/"
        },
        "id": "9gG26ga_IydT",
        "outputId": "be76623c-7dc6-455c-edd6-3154aaa698c9"
      },
      "outputs": [
        {
          "output_type": "stream",
          "name": "stdout",
          "text": [
            "Naive Bayes predicted label:  Fake\n",
            "Naive Bayes predicted score:  0.2431653428091772\n"
          ]
        }
      ],
      "source": [
        "nb_prob = nb_classifier.predict_proba(tfidf_text)\n",
        "nb_pred_label = define_labels(nb_prob[0][1])\n",
        "print(\"Naive Bayes predicted label: \", nb_pred_label)\n",
        "print(\"Naive Bayes predicted score: \", nb_prob[0][1])"
      ]
    },
    {
      "cell_type": "code",
      "source": [
        "model_list = [\"Transformers\", \"MLP\", \"SVM\", \"Naive Bayes\"]\n",
        "label_list = [tfm_predicted_class, mlp_pred_label, svm_pred_label, nb_pred_label]\n",
        "score_list = [tfm_predicted_score, mlp_prob[0][1], svm_prob[0] if svm_prob[0]>0 else 1+svm_prob[0], nb_prob[0][1]]\n",
        "result_df = pd.DataFrame({\"Model\": model_list,\n",
        "                        \"Label\": label_list,\n",
        "                        \"Score\": score_list})\n",
        "result_df"
      ],
      "metadata": {
        "colab": {
          "base_uri": "https://localhost:8080/",
          "height": 175
        },
        "id": "YiRpUXYbEH19",
        "outputId": "92c4f0a7-f464-41ab-c1c1-8921aa7ad013"
      },
      "execution_count": null,
      "outputs": [
        {
          "output_type": "execute_result",
          "data": {
            "text/plain": [
              "          Model Label     Score\n",
              "0  Transformers  Fake  0.499073\n",
              "1           MLP  Real  0.752748\n",
              "2           SVM  Fake  0.225584\n",
              "3   Naive Bayes  Fake  0.243165"
            ],
            "text/html": [
              "\n",
              "  <div id=\"df-6d447492-8eeb-4f3a-9e0a-e20f2d205aa9\" class=\"colab-df-container\">\n",
              "    <div>\n",
              "<style scoped>\n",
              "    .dataframe tbody tr th:only-of-type {\n",
              "        vertical-align: middle;\n",
              "    }\n",
              "\n",
              "    .dataframe tbody tr th {\n",
              "        vertical-align: top;\n",
              "    }\n",
              "\n",
              "    .dataframe thead th {\n",
              "        text-align: right;\n",
              "    }\n",
              "</style>\n",
              "<table border=\"1\" class=\"dataframe\">\n",
              "  <thead>\n",
              "    <tr style=\"text-align: right;\">\n",
              "      <th></th>\n",
              "      <th>Model</th>\n",
              "      <th>Label</th>\n",
              "      <th>Score</th>\n",
              "    </tr>\n",
              "  </thead>\n",
              "  <tbody>\n",
              "    <tr>\n",
              "      <th>0</th>\n",
              "      <td>Transformers</td>\n",
              "      <td>Fake</td>\n",
              "      <td>0.499073</td>\n",
              "    </tr>\n",
              "    <tr>\n",
              "      <th>1</th>\n",
              "      <td>MLP</td>\n",
              "      <td>Real</td>\n",
              "      <td>0.752748</td>\n",
              "    </tr>\n",
              "    <tr>\n",
              "      <th>2</th>\n",
              "      <td>SVM</td>\n",
              "      <td>Fake</td>\n",
              "      <td>0.225584</td>\n",
              "    </tr>\n",
              "    <tr>\n",
              "      <th>3</th>\n",
              "      <td>Naive Bayes</td>\n",
              "      <td>Fake</td>\n",
              "      <td>0.243165</td>\n",
              "    </tr>\n",
              "  </tbody>\n",
              "</table>\n",
              "</div>\n",
              "    <div class=\"colab-df-buttons\">\n",
              "\n",
              "  <div class=\"colab-df-container\">\n",
              "    <button class=\"colab-df-convert\" onclick=\"convertToInteractive('df-6d447492-8eeb-4f3a-9e0a-e20f2d205aa9')\"\n",
              "            title=\"Convert this dataframe to an interactive table.\"\n",
              "            style=\"display:none;\">\n",
              "\n",
              "  <svg xmlns=\"http://www.w3.org/2000/svg\" height=\"24px\" viewBox=\"0 -960 960 960\">\n",
              "    <path d=\"M120-120v-720h720v720H120Zm60-500h600v-160H180v160Zm220 220h160v-160H400v160Zm0 220h160v-160H400v160ZM180-400h160v-160H180v160Zm440 0h160v-160H620v160ZM180-180h160v-160H180v160Zm440 0h160v-160H620v160Z\"/>\n",
              "  </svg>\n",
              "    </button>\n",
              "\n",
              "  <style>\n",
              "    .colab-df-container {\n",
              "      display:flex;\n",
              "      gap: 12px;\n",
              "    }\n",
              "\n",
              "    .colab-df-convert {\n",
              "      background-color: #E8F0FE;\n",
              "      border: none;\n",
              "      border-radius: 50%;\n",
              "      cursor: pointer;\n",
              "      display: none;\n",
              "      fill: #1967D2;\n",
              "      height: 32px;\n",
              "      padding: 0 0 0 0;\n",
              "      width: 32px;\n",
              "    }\n",
              "\n",
              "    .colab-df-convert:hover {\n",
              "      background-color: #E2EBFA;\n",
              "      box-shadow: 0px 1px 2px rgba(60, 64, 67, 0.3), 0px 1px 3px 1px rgba(60, 64, 67, 0.15);\n",
              "      fill: #174EA6;\n",
              "    }\n",
              "\n",
              "    .colab-df-buttons div {\n",
              "      margin-bottom: 4px;\n",
              "    }\n",
              "\n",
              "    [theme=dark] .colab-df-convert {\n",
              "      background-color: #3B4455;\n",
              "      fill: #D2E3FC;\n",
              "    }\n",
              "\n",
              "    [theme=dark] .colab-df-convert:hover {\n",
              "      background-color: #434B5C;\n",
              "      box-shadow: 0px 1px 3px 1px rgba(0, 0, 0, 0.15);\n",
              "      filter: drop-shadow(0px 1px 2px rgba(0, 0, 0, 0.3));\n",
              "      fill: #FFFFFF;\n",
              "    }\n",
              "  </style>\n",
              "\n",
              "    <script>\n",
              "      const buttonEl =\n",
              "        document.querySelector('#df-6d447492-8eeb-4f3a-9e0a-e20f2d205aa9 button.colab-df-convert');\n",
              "      buttonEl.style.display =\n",
              "        google.colab.kernel.accessAllowed ? 'block' : 'none';\n",
              "\n",
              "      async function convertToInteractive(key) {\n",
              "        const element = document.querySelector('#df-6d447492-8eeb-4f3a-9e0a-e20f2d205aa9');\n",
              "        const dataTable =\n",
              "          await google.colab.kernel.invokeFunction('convertToInteractive',\n",
              "                                                    [key], {});\n",
              "        if (!dataTable) return;\n",
              "\n",
              "        const docLinkHtml = 'Like what you see? Visit the ' +\n",
              "          '<a target=\"_blank\" href=https://colab.research.google.com/notebooks/data_table.ipynb>data table notebook</a>'\n",
              "          + ' to learn more about interactive tables.';\n",
              "        element.innerHTML = '';\n",
              "        dataTable['output_type'] = 'display_data';\n",
              "        await google.colab.output.renderOutput(dataTable, element);\n",
              "        const docLink = document.createElement('div');\n",
              "        docLink.innerHTML = docLinkHtml;\n",
              "        element.appendChild(docLink);\n",
              "      }\n",
              "    </script>\n",
              "  </div>\n",
              "\n",
              "\n",
              "<div id=\"df-a7714e7c-2ee9-442f-baba-eb5206e31536\">\n",
              "  <button class=\"colab-df-quickchart\" onclick=\"quickchart('df-a7714e7c-2ee9-442f-baba-eb5206e31536')\"\n",
              "            title=\"Suggest charts\"\n",
              "            style=\"display:none;\">\n",
              "\n",
              "<svg xmlns=\"http://www.w3.org/2000/svg\" height=\"24px\"viewBox=\"0 0 24 24\"\n",
              "     width=\"24px\">\n",
              "    <g>\n",
              "        <path d=\"M19 3H5c-1.1 0-2 .9-2 2v14c0 1.1.9 2 2 2h14c1.1 0 2-.9 2-2V5c0-1.1-.9-2-2-2zM9 17H7v-7h2v7zm4 0h-2V7h2v10zm4 0h-2v-4h2v4z\"/>\n",
              "    </g>\n",
              "</svg>\n",
              "  </button>\n",
              "\n",
              "<style>\n",
              "  .colab-df-quickchart {\n",
              "      --bg-color: #E8F0FE;\n",
              "      --fill-color: #1967D2;\n",
              "      --hover-bg-color: #E2EBFA;\n",
              "      --hover-fill-color: #174EA6;\n",
              "      --disabled-fill-color: #AAA;\n",
              "      --disabled-bg-color: #DDD;\n",
              "  }\n",
              "\n",
              "  [theme=dark] .colab-df-quickchart {\n",
              "      --bg-color: #3B4455;\n",
              "      --fill-color: #D2E3FC;\n",
              "      --hover-bg-color: #434B5C;\n",
              "      --hover-fill-color: #FFFFFF;\n",
              "      --disabled-bg-color: #3B4455;\n",
              "      --disabled-fill-color: #666;\n",
              "  }\n",
              "\n",
              "  .colab-df-quickchart {\n",
              "    background-color: var(--bg-color);\n",
              "    border: none;\n",
              "    border-radius: 50%;\n",
              "    cursor: pointer;\n",
              "    display: none;\n",
              "    fill: var(--fill-color);\n",
              "    height: 32px;\n",
              "    padding: 0;\n",
              "    width: 32px;\n",
              "  }\n",
              "\n",
              "  .colab-df-quickchart:hover {\n",
              "    background-color: var(--hover-bg-color);\n",
              "    box-shadow: 0 1px 2px rgba(60, 64, 67, 0.3), 0 1px 3px 1px rgba(60, 64, 67, 0.15);\n",
              "    fill: var(--button-hover-fill-color);\n",
              "  }\n",
              "\n",
              "  .colab-df-quickchart-complete:disabled,\n",
              "  .colab-df-quickchart-complete:disabled:hover {\n",
              "    background-color: var(--disabled-bg-color);\n",
              "    fill: var(--disabled-fill-color);\n",
              "    box-shadow: none;\n",
              "  }\n",
              "\n",
              "  .colab-df-spinner {\n",
              "    border: 2px solid var(--fill-color);\n",
              "    border-color: transparent;\n",
              "    border-bottom-color: var(--fill-color);\n",
              "    animation:\n",
              "      spin 1s steps(1) infinite;\n",
              "  }\n",
              "\n",
              "  @keyframes spin {\n",
              "    0% {\n",
              "      border-color: transparent;\n",
              "      border-bottom-color: var(--fill-color);\n",
              "      border-left-color: var(--fill-color);\n",
              "    }\n",
              "    20% {\n",
              "      border-color: transparent;\n",
              "      border-left-color: var(--fill-color);\n",
              "      border-top-color: var(--fill-color);\n",
              "    }\n",
              "    30% {\n",
              "      border-color: transparent;\n",
              "      border-left-color: var(--fill-color);\n",
              "      border-top-color: var(--fill-color);\n",
              "      border-right-color: var(--fill-color);\n",
              "    }\n",
              "    40% {\n",
              "      border-color: transparent;\n",
              "      border-right-color: var(--fill-color);\n",
              "      border-top-color: var(--fill-color);\n",
              "    }\n",
              "    60% {\n",
              "      border-color: transparent;\n",
              "      border-right-color: var(--fill-color);\n",
              "    }\n",
              "    80% {\n",
              "      border-color: transparent;\n",
              "      border-right-color: var(--fill-color);\n",
              "      border-bottom-color: var(--fill-color);\n",
              "    }\n",
              "    90% {\n",
              "      border-color: transparent;\n",
              "      border-bottom-color: var(--fill-color);\n",
              "    }\n",
              "  }\n",
              "</style>\n",
              "\n",
              "  <script>\n",
              "    async function quickchart(key) {\n",
              "      const quickchartButtonEl =\n",
              "        document.querySelector('#' + key + ' button');\n",
              "      quickchartButtonEl.disabled = true;  // To prevent multiple clicks.\n",
              "      quickchartButtonEl.classList.add('colab-df-spinner');\n",
              "      try {\n",
              "        const charts = await google.colab.kernel.invokeFunction(\n",
              "            'suggestCharts', [key], {});\n",
              "      } catch (error) {\n",
              "        console.error('Error during call to suggestCharts:', error);\n",
              "      }\n",
              "      quickchartButtonEl.classList.remove('colab-df-spinner');\n",
              "      quickchartButtonEl.classList.add('colab-df-quickchart-complete');\n",
              "    }\n",
              "    (() => {\n",
              "      let quickchartButtonEl =\n",
              "        document.querySelector('#df-a7714e7c-2ee9-442f-baba-eb5206e31536 button');\n",
              "      quickchartButtonEl.style.display =\n",
              "        google.colab.kernel.accessAllowed ? 'block' : 'none';\n",
              "    })();\n",
              "  </script>\n",
              "</div>\n",
              "    </div>\n",
              "  </div>\n"
            ],
            "application/vnd.google.colaboratory.intrinsic+json": {
              "type": "dataframe",
              "variable_name": "result_df",
              "summary": "{\n  \"name\": \"result_df\",\n  \"rows\": 4,\n  \"fields\": [\n    {\n      \"column\": \"Model\",\n      \"properties\": {\n        \"dtype\": \"string\",\n        \"num_unique_values\": 4,\n        \"samples\": [\n          \"MLP\",\n          \"Naive Bayes\",\n          \"Transformers\"\n        ],\n        \"semantic_type\": \"\",\n        \"description\": \"\"\n      }\n    },\n    {\n      \"column\": \"Label\",\n      \"properties\": {\n        \"dtype\": \"string\",\n        \"num_unique_values\": 2,\n        \"samples\": [\n          \"Real\",\n          \"Fake\"\n        ],\n        \"semantic_type\": \"\",\n        \"description\": \"\"\n      }\n    },\n    {\n      \"column\": \"Score\",\n      \"properties\": {\n        \"dtype\": \"number\",\n        \"std\": 0.24875030805282441,\n        \"min\": 0.22558431394877265,\n        \"max\": 0.7527478000548626,\n        \"num_unique_values\": 4,\n        \"samples\": [\n          0.7527478000548626,\n          0.2431653428091772\n        ],\n        \"semantic_type\": \"\",\n        \"description\": \"\"\n      }\n    }\n  ]\n}"
            }
          },
          "metadata": {},
          "execution_count": 116
        }
      ]
    }
  ]
}