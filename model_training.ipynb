{
  "cells": [
    {
      "cell_type": "markdown",
      "metadata": {
        "id": "cbQmVjwrFTnK"
      },
      "source": [
        "# LOAD IN DATASET\n",
        "\n"
      ]
    },
    {
      "cell_type": "code",
      "execution_count": null,
      "metadata": {
        "id": "54vgZQHjEUAY"
      },
      "outputs": [],
      "source": [
        "#https://www.kaggle.com/datasets/algord/fake-news/data\n",
        "\n",
        "# New dataset\n",
        "#https://www.kaggle.com/datasets/bhavikjikadara/fake-news-detection/data"
      ]
    },
    {
      "cell_type": "markdown",
      "metadata": {
        "id": "a2C2lLuz0cmF"
      },
      "source": [
        "Checkpoint 1:\n",
        "- look at error rate\n",
        "- remove quotations to clean data, does it have an effect on the model?\n",
        "- maybe weight on accuracy to determine fake vs real news\n",
        "- save predictions on the testing set for SVM  \n",
        "- before running count vectorizor, remove punctuation to see if it changes the accuracy\n",
        "- have a table that summarizes each model- accuracy, precision, recall\n",
        "- confusion matrix for each model\n",
        "- relative word count\n",
        "- flowchart for how each models are combined\n",
        "- ELI5 library- scikit for SVM, have it print out text and it'll highlight fake vs real text - pipeline tutorial\n",
        "- null accuracy\n",
        "\n",
        "Checkpoint 2:\n",
        "- individual words being good indicators\n",
        "- sequence models (transformer and RNNs)\n",
        "- SVM vs Naives Bayes - try some more scikit models\n",
        "- individual words are important! (frequency, not word meaning)\n",
        "- word count visualizations\n",
        "- Notebook 3.2 in DIDA 310 (relative word count)- for Naive Bayes and SVM\n",
        "- build an ensemble model?\n",
        "- Hugging Face, Chpt 2 FastAI txtbook or scikit-learn\n"
      ]
    },
    {
      "cell_type": "markdown",
      "metadata": {
        "id": "WNoPirGJJKMA"
      },
      "source": [
        "Run your own key and password"
      ]
    },
    {
      "cell_type": "code",
      "execution_count": null,
      "metadata": {
        "colab": {
          "base_uri": "https://localhost:8080/"
        },
        "id": "MyIQaqd_HpIv",
        "outputId": "3300ede2-bb08-4d7b-cb32-5e265d396d9d"
      },
      "outputs": [
        {
          "name": "stdout",
          "output_type": "stream",
          "text": [
            "env: KAGGLE_USERNAME=annanguyeen\n",
            "env: KAGGLE_KEY=3eeaefc1b64f8f16063ed8e81910881c\n"
          ]
        }
      ],
      "source": [
        "# ANNA\n",
        "%env KAGGLE_USERNAME=annanguyeen\n",
        "%env KAGGLE_KEY=3eeaefc1b64f8f16063ed8e81910881c"
      ]
    },
    {
      "cell_type": "code",
      "execution_count": 3,
      "metadata": {
        "colab": {
          "base_uri": "https://localhost:8080/"
        },
        "id": "i-DDUqfDH4xo",
        "outputId": "54226401-b807-40d5-f49e-33b9d391c5dc"
      },
      "outputs": [
        {
          "name": "stdout",
          "output_type": "stream",
          "text": [
            "env: KAGGLE_USERNAME=aidan123456\n",
            "env: KAGGLE_KEY=c14b60ef82427afa1cdf686430f9dccc\n"
          ]
        }
      ],
      "source": [
        "# AIDAN\n",
        "%env KAGGLE_USERNAME=aidan123456\n",
        "%env KAGGLE_KEY=c14b60ef82427afa1cdf686430f9dccc"
      ]
    },
    {
      "cell_type": "code",
      "execution_count": null,
      "metadata": {
        "colab": {
          "base_uri": "https://localhost:8080/"
        },
        "id": "8kgT19MCIelG",
        "outputId": "59b34897-319d-4403-e5b4-be81dd338b5b"
      },
      "outputs": [
        {
          "name": "stdout",
          "output_type": "stream",
          "text": [
            "env: KAGGLE_USERNAME=aieshaayub\n",
            "env: KAGGLE_KEY=9e44141b18d723294901dc1ce3792b80\n"
          ]
        }
      ],
      "source": [
        "#Aiesha\n",
        "%env KAGGLE_USERNAME= aieshaayub\n",
        "%env KAGGLE_KEY= 9e44141b18d723294901dc1ce3792b80"
      ]
    },
    {
      "cell_type": "code",
      "execution_count": null,
      "metadata": {
        "colab": {
          "base_uri": "https://localhost:8080/"
        },
        "id": "aJM3dLhmIrZH",
        "outputId": "7c7d6bc4-7250-49fb-ae3e-fd3343a47165"
      },
      "outputs": [
        {
          "name": "stdout",
          "output_type": "stream",
          "text": [
            "env: KAGGLE_USERNAME=jialenewestcott\n",
            "env: KAGGLE_KEY=74e80c63ef591fc491da937f7a7d62fd\n"
          ]
        }
      ],
      "source": [
        "#Jialene\n",
        "%env KAGGLE_USERNAME=jialenewestcott\n",
        "%env KAGGLE_KEY=74e80c63ef591fc491da937f7a7d62fd"
      ]
    },
    {
      "cell_type": "markdown",
      "metadata": {
        "id": "XOUp-5glJSEe"
      },
      "source": [
        "Download the dataset from Kaggle"
      ]
    },
    {
      "cell_type": "code",
      "execution_count": 4,
      "metadata": {
        "colab": {
          "base_uri": "https://localhost:8080/"
        },
        "id": "VoJAOAjYnEt5",
        "outputId": "5b884401-3938-4955-aa6f-c3959a822410"
      },
      "outputs": [
        {
          "name": "stdout",
          "output_type": "stream",
          "text": [
            "fake-news-detection.zip: Skipping, found more recently modified local copy (use --force to force download)\n",
            "Archive:  fake-news-detection.zip\n",
            "replace fake.csv? [y]es, [n]o, [A]ll, [N]one, [r]ename: ^C\n"
          ]
        }
      ],
      "source": [
        "#New dataset\n",
        "!kaggle datasets download -d bhavikjikadara/fake-news-detection\n",
        "!unzip fake-news-detection.zip"
      ]
    },
    {
      "cell_type": "code",
      "execution_count": null,
      "metadata": {
        "id": "TJ1SvzeBIQwZ"
      },
      "outputs": [],
      "source": [
        "# !kaggle datasets download -d algord/fake-news\n",
        "# !unzip fake-news.zip"
      ]
    },
    {
      "cell_type": "markdown",
      "metadata": {
        "id": "8qq7k7YRFe65"
      },
      "source": [
        "# DATA CLEANING"
      ]
    },
    {
      "cell_type": "markdown",
      "metadata": {
        "id": "O0WJwV8kJHly"
      },
      "source": [
        "Load in the libraries"
      ]
    },
    {
      "cell_type": "code",
      "execution_count": 2,
      "metadata": {
        "id": "livfUX-ZFh_n"
      },
      "outputs": [],
      "source": [
        "from fastai.vision.all import *\n",
        "import pandas as pd\n",
        "from fastai.tabular.all import *\n",
        "from fastai.collab import *\n",
        "import torch\n",
        "import numpy as np\n",
        "import matplotlib.pyplot as plt\n",
        "from sklearn.naive_bayes import MultinomialNB\n",
        "from sklearn.feature_extraction.text import *\n",
        "from sklearn.model_selection import train_test_split\n",
        "from sklearn.linear_model import SGDClassifier\n",
        "from sklearn import metrics\n",
        "from sklearn.feature_extraction.text import TfidfVectorizer\n",
        "from sklearn.neural_network import MLPClassifier\n",
        "from sklearn.metrics import accuracy_score, classification_report, confusion_matrix, roc_auc_score, roc_curve\n",
        "from tkinter import *"
      ]
    },
    {
      "cell_type": "markdown",
      "metadata": {
        "id": "1a6mnms3tOdd"
      },
      "source": [
        "Read in the datasets as dataframes, add a \"Label\" column assigning 0 as Fake news, 1 as Real news"
      ]
    },
    {
      "cell_type": "code",
      "execution_count": 5,
      "metadata": {
        "colab": {
          "base_uri": "https://localhost:8080/",
          "height": 1000
        },
        "id": "IF7m0QXef8aL",
        "outputId": "5c9337c9-4aef-4d8d-cd19-0bc63c01bf13"
      },
      "outputs": [
        {
          "data": {
            "text/html": [
              "<div>\n",
              "<style scoped>\n",
              "    .dataframe tbody tr th:only-of-type {\n",
              "        vertical-align: middle;\n",
              "    }\n",
              "\n",
              "    .dataframe tbody tr th {\n",
              "        vertical-align: top;\n",
              "    }\n",
              "\n",
              "    .dataframe thead th {\n",
              "        text-align: right;\n",
              "    }\n",
              "</style>\n",
              "<table border=\"1\" class=\"dataframe\">\n",
              "  <thead>\n",
              "    <tr style=\"text-align: right;\">\n",
              "      <th></th>\n",
              "      <th>title</th>\n",
              "      <th>text</th>\n",
              "      <th>subject</th>\n",
              "      <th>date</th>\n",
              "      <th>label</th>\n",
              "    </tr>\n",
              "  </thead>\n",
              "  <tbody>\n",
              "    <tr>\n",
              "      <th>0</th>\n",
              "      <td>As U.S. budget fight looms, Republicans flip their fiscal script</td>\n",
              "      <td>The head of a conservative Republican faction in the U.S. Congress, who voted this month for a huge expansion of the national debt to pay for tax cuts, called himself a “fiscal conservative” on Sunday and urged budget restraint in 2018. In keeping with a sharp pivot under way among Republicans, U.S. Representative Mark Meadows, speaking on CBS’ “Face the Nation,” drew a hard line on federal spending, which lawmakers are bracing to do battle over in January. When they return from the holidays on Wednesday, lawmakers will begin trying to pass a federal budget in a fight likely to be linked t...</td>\n",
              "      <td>politicsNews</td>\n",
              "      <td>December 31, 2017</td>\n",
              "      <td>1</td>\n",
              "    </tr>\n",
              "    <tr>\n",
              "      <th>1</th>\n",
              "      <td>U.S. military to accept transgender recruits on Monday: Pentagon</td>\n",
              "      <td>Transgender people will be allowed for the first time to enlist in the U.S. military starting on Monday as ordered by federal courts, the Pentagon said on Friday, after President Donald Trump’s administration decided not to appeal rulings that blocked his transgender ban. Two federal appeals courts, one in Washington and one in Virginia, last week rejected the administration’s request to put on hold orders by lower court judges requiring the military to begin accepting transgender recruits on Jan. 1. A Justice Department official said the administration will not challenge those rulings. “T...</td>\n",
              "      <td>politicsNews</td>\n",
              "      <td>December 29, 2017</td>\n",
              "      <td>1</td>\n",
              "    </tr>\n",
              "    <tr>\n",
              "      <th>2</th>\n",
              "      <td>Senior U.S. Republican senator: 'Let Mr. Mueller do his job'</td>\n",
              "      <td>The special counsel investigation of links between Russia and President Trump’s 2016 election campaign should continue without interference in 2018, despite calls from some Trump administration allies and Republican lawmakers to shut it down, a prominent Republican senator said on Sunday. Lindsey Graham, who serves on the Senate armed forces and judiciary committees, said Department of Justice Special Counsel Robert Mueller needs to carry on with his Russia investigation without political interference. “This investigation will go forward. It will be an investigation conducted without polit...</td>\n",
              "      <td>politicsNews</td>\n",
              "      <td>December 31, 2017</td>\n",
              "      <td>1</td>\n",
              "    </tr>\n",
              "    <tr>\n",
              "      <th>3</th>\n",
              "      <td>FBI Russia probe helped by Australian diplomat tip-off: NYT</td>\n",
              "      <td>Trump campaign adviser George Papadopoulos told an Australian diplomat in May 2016 that Russia had political dirt on Democratic presidential candidate Hillary Clinton, the New York Times reported on Saturday. The conversation between Papadopoulos and the diplomat, Alexander Downer, in London was a driving factor behind the FBI’s decision to open a counter-intelligence investigation of Moscow’s contacts with the Trump campaign, the Times reported. Two months after the meeting, Australian officials passed the information that came from Papadopoulos to their American counterparts when leaked ...</td>\n",
              "      <td>politicsNews</td>\n",
              "      <td>December 30, 2017</td>\n",
              "      <td>1</td>\n",
              "    </tr>\n",
              "    <tr>\n",
              "      <th>4</th>\n",
              "      <td>Trump wants Postal Service to charge 'much more' for Amazon shipments</td>\n",
              "      <td>President Donald Trump called on the U.S. Postal Service on Friday to charge “much more” to ship packages for Amazon (AMZN.O), picking another fight with an online retail giant he has criticized in the past.     “Why is the United States Post Office, which is losing many billions of dollars a year, while charging Amazon and others so little to deliver their packages, making Amazon richer and the Post Office dumber and poorer? Should be charging MUCH MORE!” Trump wrote on Twitter.  The president’s tweet drew fresh attention to the fragile finances of the Postal Service at a time when tens o...</td>\n",
              "      <td>politicsNews</td>\n",
              "      <td>December 29, 2017</td>\n",
              "      <td>1</td>\n",
              "    </tr>\n",
              "    <tr>\n",
              "      <th>...</th>\n",
              "      <td>...</td>\n",
              "      <td>...</td>\n",
              "      <td>...</td>\n",
              "      <td>...</td>\n",
              "      <td>...</td>\n",
              "    </tr>\n",
              "    <tr>\n",
              "      <th>21412</th>\n",
              "      <td>'Fully committed' NATO backs new U.S. approach on Afghanistan</td>\n",
              "      <td>NATO allies on Tuesday welcomed President Donald Trump s decision to commit more forces to Afghanistan, as part of a new U.S. strategy he said would require more troops and funding from America s partners. Having run for the White House last year on a pledge to withdraw swiftly from Afghanistan, Trump reversed course on Monday and promised a stepped-up military campaign against  Taliban insurgents, saying:  Our troops will fight to win .  U.S. officials said he had signed off on plans to send about 4,000 more U.S. troops to add to the roughly 8,400 now deployed in Afghanistan. But his spee...</td>\n",
              "      <td>worldnews</td>\n",
              "      <td>August 22, 2017</td>\n",
              "      <td>1</td>\n",
              "    </tr>\n",
              "    <tr>\n",
              "      <th>21413</th>\n",
              "      <td>LexisNexis withdrew two products from Chinese market</td>\n",
              "      <td>LexisNexis, a provider of legal, regulatory and business information, said on Tuesday it had withdrawn two products from the Chinese market in March this year after it was asked to remove some content.  The issue of academic freedom in China hit the headlines this week after the leading British academic publisher,  Cambridge University Press, said it had complied with a request to block online access to some scholarly articles in China.  It later reversed its position.   Earlier this year LexisNexis Business Insight Solutions in China was asked to remove some content from its database,  Le...</td>\n",
              "      <td>worldnews</td>\n",
              "      <td>August 22, 2017</td>\n",
              "      <td>1</td>\n",
              "    </tr>\n",
              "    <tr>\n",
              "      <th>21414</th>\n",
              "      <td>Minsk cultural hub becomes haven from authorities</td>\n",
              "      <td>In the shadow of disused Soviet-era factories in Minsk, a street lined with eclectic bars, art galleries and yoga studios has become a haven from the vigilant eyes of the Belarussian authorities.  This place is like an island,  said Yegor, 21, who works at  popular bar Hooligan.  It s the street of freedom.  The government of President Alexander Lukashenko, who has ruled Belarus for the past 23 years and has boasted that he is  the last and only dictator in Europe  ,has little tolerance for any opposition. A powerful police force and feared state security  keep citizens in check. But polic...</td>\n",
              "      <td>worldnews</td>\n",
              "      <td>August 22, 2017</td>\n",
              "      <td>1</td>\n",
              "    </tr>\n",
              "    <tr>\n",
              "      <th>21415</th>\n",
              "      <td>Vatican upbeat on possibility of Pope Francis visiting Russia</td>\n",
              "      <td>Vatican Secretary of State Cardinal Pietro Parolin said on Tuesday that there was  positive momentum  behind the idea of Pope Francis visiting Russia, but suggested there was more work to be done if it were to happen.  Parolin, speaking at a joint news conference in Moscow alongside Russian Foreign Minister Sergei Lavrov, did not give any date for such a possible visit. The Eastern and Western branches of Christianity split apart in 1054. The pope, leader of the world s 1.2 billion Catholics, is seeking to improve ties, and last year in Cuba held what was the first ever meeting between a R...</td>\n",
              "      <td>worldnews</td>\n",
              "      <td>August 22, 2017</td>\n",
              "      <td>1</td>\n",
              "    </tr>\n",
              "    <tr>\n",
              "      <th>21416</th>\n",
              "      <td>Indonesia to buy $1.14 billion worth of Russian jets</td>\n",
              "      <td>Indonesia will buy 11 Sukhoi fighter jets worth $1.14 billion from Russia in exchange for cash and Indonesian commodities, two cabinet ministers said on Tuesday. The Southeast Asian country has pledged to ship up to $570 million worth of commodities in addition to cash to pay for the Suhkoi SU-35 fighter jets, which are expected to be delivered in stages starting in two years. Indonesian Trade Minister Enggartiasto Lukita said in a joint statement with Defence Minister Ryamizard Ryacudu that details of the type and volume of commodities were  still being negotiated . Previously he had said...</td>\n",
              "      <td>worldnews</td>\n",
              "      <td>August 22, 2017</td>\n",
              "      <td>1</td>\n",
              "    </tr>\n",
              "  </tbody>\n",
              "</table>\n",
              "<p>21417 rows × 5 columns</p>\n",
              "</div>"
            ],
            "text/plain": [
              "                                                                       title  \\\n",
              "0           As U.S. budget fight looms, Republicans flip their fiscal script   \n",
              "1           U.S. military to accept transgender recruits on Monday: Pentagon   \n",
              "2               Senior U.S. Republican senator: 'Let Mr. Mueller do his job'   \n",
              "3                FBI Russia probe helped by Australian diplomat tip-off: NYT   \n",
              "4      Trump wants Postal Service to charge 'much more' for Amazon shipments   \n",
              "...                                                                      ...   \n",
              "21412          'Fully committed' NATO backs new U.S. approach on Afghanistan   \n",
              "21413                   LexisNexis withdrew two products from Chinese market   \n",
              "21414                      Minsk cultural hub becomes haven from authorities   \n",
              "21415          Vatican upbeat on possibility of Pope Francis visiting Russia   \n",
              "21416                   Indonesia to buy $1.14 billion worth of Russian jets   \n",
              "\n",
              "                                                                                                                                                                                                                                                                                                                                                                                                                                                                                                                                                                                                                          text  \\\n",
              "0      The head of a conservative Republican faction in the U.S. Congress, who voted this month for a huge expansion of the national debt to pay for tax cuts, called himself a “fiscal conservative” on Sunday and urged budget restraint in 2018. In keeping with a sharp pivot under way among Republicans, U.S. Representative Mark Meadows, speaking on CBS’ “Face the Nation,” drew a hard line on federal spending, which lawmakers are bracing to do battle over in January. When they return from the holidays on Wednesday, lawmakers will begin trying to pass a federal budget in a fight likely to be linked t...   \n",
              "1      Transgender people will be allowed for the first time to enlist in the U.S. military starting on Monday as ordered by federal courts, the Pentagon said on Friday, after President Donald Trump’s administration decided not to appeal rulings that blocked his transgender ban. Two federal appeals courts, one in Washington and one in Virginia, last week rejected the administration’s request to put on hold orders by lower court judges requiring the military to begin accepting transgender recruits on Jan. 1. A Justice Department official said the administration will not challenge those rulings. “T...   \n",
              "2      The special counsel investigation of links between Russia and President Trump’s 2016 election campaign should continue without interference in 2018, despite calls from some Trump administration allies and Republican lawmakers to shut it down, a prominent Republican senator said on Sunday. Lindsey Graham, who serves on the Senate armed forces and judiciary committees, said Department of Justice Special Counsel Robert Mueller needs to carry on with his Russia investigation without political interference. “This investigation will go forward. It will be an investigation conducted without polit...   \n",
              "3      Trump campaign adviser George Papadopoulos told an Australian diplomat in May 2016 that Russia had political dirt on Democratic presidential candidate Hillary Clinton, the New York Times reported on Saturday. The conversation between Papadopoulos and the diplomat, Alexander Downer, in London was a driving factor behind the FBI’s decision to open a counter-intelligence investigation of Moscow’s contacts with the Trump campaign, the Times reported. Two months after the meeting, Australian officials passed the information that came from Papadopoulos to their American counterparts when leaked ...   \n",
              "4      President Donald Trump called on the U.S. Postal Service on Friday to charge “much more” to ship packages for Amazon (AMZN.O), picking another fight with an online retail giant he has criticized in the past.     “Why is the United States Post Office, which is losing many billions of dollars a year, while charging Amazon and others so little to deliver their packages, making Amazon richer and the Post Office dumber and poorer? Should be charging MUCH MORE!” Trump wrote on Twitter.  The president’s tweet drew fresh attention to the fragile finances of the Postal Service at a time when tens o...   \n",
              "...                                                                                                                                                                                                                                                                                                                                                                                                                                                                                                                                                                                                                        ...   \n",
              "21412  NATO allies on Tuesday welcomed President Donald Trump s decision to commit more forces to Afghanistan, as part of a new U.S. strategy he said would require more troops and funding from America s partners. Having run for the White House last year on a pledge to withdraw swiftly from Afghanistan, Trump reversed course on Monday and promised a stepped-up military campaign against  Taliban insurgents, saying:  Our troops will fight to win .  U.S. officials said he had signed off on plans to send about 4,000 more U.S. troops to add to the roughly 8,400 now deployed in Afghanistan. But his spee...   \n",
              "21413  LexisNexis, a provider of legal, regulatory and business information, said on Tuesday it had withdrawn two products from the Chinese market in March this year after it was asked to remove some content.  The issue of academic freedom in China hit the headlines this week after the leading British academic publisher,  Cambridge University Press, said it had complied with a request to block online access to some scholarly articles in China.  It later reversed its position.   Earlier this year LexisNexis Business Insight Solutions in China was asked to remove some content from its database,  Le...   \n",
              "21414  In the shadow of disused Soviet-era factories in Minsk, a street lined with eclectic bars, art galleries and yoga studios has become a haven from the vigilant eyes of the Belarussian authorities.  This place is like an island,  said Yegor, 21, who works at  popular bar Hooligan.  It s the street of freedom.  The government of President Alexander Lukashenko, who has ruled Belarus for the past 23 years and has boasted that he is  the last and only dictator in Europe  ,has little tolerance for any opposition. A powerful police force and feared state security  keep citizens in check. But polic...   \n",
              "21415  Vatican Secretary of State Cardinal Pietro Parolin said on Tuesday that there was  positive momentum  behind the idea of Pope Francis visiting Russia, but suggested there was more work to be done if it were to happen.  Parolin, speaking at a joint news conference in Moscow alongside Russian Foreign Minister Sergei Lavrov, did not give any date for such a possible visit. The Eastern and Western branches of Christianity split apart in 1054. The pope, leader of the world s 1.2 billion Catholics, is seeking to improve ties, and last year in Cuba held what was the first ever meeting between a R...   \n",
              "21416  Indonesia will buy 11 Sukhoi fighter jets worth $1.14 billion from Russia in exchange for cash and Indonesian commodities, two cabinet ministers said on Tuesday. The Southeast Asian country has pledged to ship up to $570 million worth of commodities in addition to cash to pay for the Suhkoi SU-35 fighter jets, which are expected to be delivered in stages starting in two years. Indonesian Trade Minister Enggartiasto Lukita said in a joint statement with Defence Minister Ryamizard Ryacudu that details of the type and volume of commodities were  still being negotiated . Previously he had said...   \n",
              "\n",
              "            subject                date  label  \n",
              "0      politicsNews  December 31, 2017       1  \n",
              "1      politicsNews  December 29, 2017       1  \n",
              "2      politicsNews  December 31, 2017       1  \n",
              "3      politicsNews  December 30, 2017       1  \n",
              "4      politicsNews  December 29, 2017       1  \n",
              "...             ...                 ...    ...  \n",
              "21412     worldnews    August 22, 2017       1  \n",
              "21413     worldnews    August 22, 2017       1  \n",
              "21414     worldnews    August 22, 2017       1  \n",
              "21415     worldnews    August 22, 2017       1  \n",
              "21416     worldnews    August 22, 2017       1  \n",
              "\n",
              "[21417 rows x 5 columns]"
            ]
          },
          "execution_count": 5,
          "metadata": {},
          "output_type": "execute_result"
        }
      ],
      "source": [
        "real = pd.read_csv(\"true.csv\")\n",
        "real['label'] = 1\n",
        "real['text'] = real['text'].str.replace(r'^.*\\(Reuters\\)\\s*-\\s*', '', regex=True)\n",
        "real"
      ]
    },
    {
      "cell_type": "code",
      "execution_count": 6,
      "metadata": {
        "colab": {
          "base_uri": "https://localhost:8080/",
          "height": 251
        },
        "id": "53qHgOm_nTVq",
        "outputId": "4d8fc5fd-fb47-46c0-8fed-f751b433241d"
      },
      "outputs": [
        {
          "data": {
            "text/html": [
              "<div>\n",
              "<style scoped>\n",
              "    .dataframe tbody tr th:only-of-type {\n",
              "        vertical-align: middle;\n",
              "    }\n",
              "\n",
              "    .dataframe tbody tr th {\n",
              "        vertical-align: top;\n",
              "    }\n",
              "\n",
              "    .dataframe thead th {\n",
              "        text-align: right;\n",
              "    }\n",
              "</style>\n",
              "<table border=\"1\" class=\"dataframe\">\n",
              "  <thead>\n",
              "    <tr style=\"text-align: right;\">\n",
              "      <th></th>\n",
              "      <th>title</th>\n",
              "      <th>text</th>\n",
              "      <th>subject</th>\n",
              "      <th>date</th>\n",
              "      <th>label</th>\n",
              "    </tr>\n",
              "  </thead>\n",
              "  <tbody>\n",
              "    <tr>\n",
              "      <th>0</th>\n",
              "      <td>Donald Trump Sends Out Embarrassing New Year’s Eve Message; This is Disturbing</td>\n",
              "      <td>Donald Trump just couldn t wish all Americans a Happy New Year and leave it at that. Instead, he had to give a shout out to his enemies, haters and  the very dishonest fake news media.  The former reality show star had just one job to do and he couldn t do it. As our Country rapidly grows stronger and smarter, I want to wish all of my friends, supporters, enemies, haters, and even the very dishonest Fake News Media, a Happy and Healthy New Year,  President Angry Pants tweeted.  2018 will be a great year for America! As our Country rapidly grows stronger and smarter, I want to wish all of m...</td>\n",
              "      <td>News</td>\n",
              "      <td>December 31, 2017</td>\n",
              "      <td>0</td>\n",
              "    </tr>\n",
              "    <tr>\n",
              "      <th>1</th>\n",
              "      <td>Drunk Bragging Trump Staffer Started Russian Collusion Investigation</td>\n",
              "      <td>House Intelligence Committee Chairman Devin Nunes is going to have a bad day. He s been under the assumption, like many of us, that the Christopher Steele-dossier was what prompted the Russia investigation so he s been lashing out at the Department of Justice and the FBI in order to protect Trump. As it happens, the dossier is not what started the investigation, according to documents obtained by the New York Times.Former Trump campaign adviser George Papadopoulos was drunk in a wine bar when he revealed knowledge of Russian opposition research on Hillary Clinton.On top of that, Papadopoul...</td>\n",
              "      <td>News</td>\n",
              "      <td>December 31, 2017</td>\n",
              "      <td>0</td>\n",
              "    </tr>\n",
              "  </tbody>\n",
              "</table>\n",
              "</div>"
            ],
            "text/plain": [
              "                                                                             title  \\\n",
              "0   Donald Trump Sends Out Embarrassing New Year’s Eve Message; This is Disturbing   \n",
              "1             Drunk Bragging Trump Staffer Started Russian Collusion Investigation   \n",
              "\n",
              "                                                                                                                                                                                                                                                                                                                                                                                                                                                                                                                                                                                                                      text  \\\n",
              "0  Donald Trump just couldn t wish all Americans a Happy New Year and leave it at that. Instead, he had to give a shout out to his enemies, haters and  the very dishonest fake news media.  The former reality show star had just one job to do and he couldn t do it. As our Country rapidly grows stronger and smarter, I want to wish all of my friends, supporters, enemies, haters, and even the very dishonest Fake News Media, a Happy and Healthy New Year,  President Angry Pants tweeted.  2018 will be a great year for America! As our Country rapidly grows stronger and smarter, I want to wish all of m...   \n",
              "1  House Intelligence Committee Chairman Devin Nunes is going to have a bad day. He s been under the assumption, like many of us, that the Christopher Steele-dossier was what prompted the Russia investigation so he s been lashing out at the Department of Justice and the FBI in order to protect Trump. As it happens, the dossier is not what started the investigation, according to documents obtained by the New York Times.Former Trump campaign adviser George Papadopoulos was drunk in a wine bar when he revealed knowledge of Russian opposition research on Hillary Clinton.On top of that, Papadopoul...   \n",
              "\n",
              "  subject               date  label  \n",
              "0    News  December 31, 2017      0  \n",
              "1    News  December 31, 2017      0  "
            ]
          },
          "execution_count": 6,
          "metadata": {},
          "output_type": "execute_result"
        }
      ],
      "source": [
        "fake = pd.read_csv(\"fake.csv\")\n",
        "fake['label'] = 0 # 0 as fake, 1 as real\n",
        "fake.head(2)"
      ]
    },
    {
      "cell_type": "code",
      "execution_count": null,
      "metadata": {
        "id": "HBiI1FLfJi96"
      },
      "outputs": [],
      "source": [
        "# fakenews = pd.read_csv(\"/content/FakeNewsNet.csv\")\n",
        "# fakenews.head(5)"
      ]
    },
    {
      "cell_type": "code",
      "execution_count": 7,
      "metadata": {
        "colab": {
          "base_uri": "https://localhost:8080/",
          "height": 640
        },
        "id": "63FemJX_iV1T",
        "outputId": "b702be4c-bdd3-402f-fbc8-99250b125795"
      },
      "outputs": [
        {
          "data": {
            "text/html": [
              "<div>\n",
              "<style scoped>\n",
              "    .dataframe tbody tr th:only-of-type {\n",
              "        vertical-align: middle;\n",
              "    }\n",
              "\n",
              "    .dataframe tbody tr th {\n",
              "        vertical-align: top;\n",
              "    }\n",
              "\n",
              "    .dataframe thead th {\n",
              "        text-align: right;\n",
              "    }\n",
              "</style>\n",
              "<table border=\"1\" class=\"dataframe\">\n",
              "  <thead>\n",
              "    <tr style=\"text-align: right;\">\n",
              "      <th></th>\n",
              "      <th>title</th>\n",
              "      <th>text</th>\n",
              "      <th>subject</th>\n",
              "      <th>date</th>\n",
              "      <th>label</th>\n",
              "    </tr>\n",
              "  </thead>\n",
              "  <tbody>\n",
              "    <tr>\n",
              "      <th>0</th>\n",
              "      <td>Here’s The Ted Cruz Ad Starring An Adult Film Star He Doesn’t Want You To See (VIDEO)</td>\n",
              "      <td>Here’s The Ted Cruz Ad Starring An Adult Film Star He Doesn’t Want You To See (VIDEO) Ted Cruz s presidential campaign has pulled an ad featuring a softcore adult film star. The ad, titled  Conservatives Anonymous,  was an attack ad focused on Senator Marco Rubio. In the production, a support group for conservatives talks about being betrayed by Rubio and his flip-flop on immigration.One of the conservatives in the group is played by actress Amy Lindsay, who tells the group,  maybe you should vote for more than just a pretty face next time. When they were asked about Lindsay, the Cruz cam...</td>\n",
              "      <td>News</td>\n",
              "      <td>February 11, 2016</td>\n",
              "      <td>0</td>\n",
              "    </tr>\n",
              "    <tr>\n",
              "      <th>1</th>\n",
              "      <td>North Korea dismisses report that sixth nuclear test killed many people</td>\n",
              "      <td>North Korea dismisses report that sixth nuclear test killed many people North Korea s state media on Thursday dismissed as  misinformation  a recent media report that the North s sixth nuclear test killed many people. Japanese broadcaster TV Asahi reported on Tuesday, citing unnamed sources familiar with the issue, that North Korea s nuclear test site collapsed after Pyongyang s sixth atomic test in September, possibly killing more than 200 people. The North s official KCNA said it was a  false report  intended to slander the country and its advances in nuclear development.</td>\n",
              "      <td>worldnews</td>\n",
              "      <td>November 2, 2017</td>\n",
              "      <td>1</td>\n",
              "    </tr>\n",
              "    <tr>\n",
              "      <th>2</th>\n",
              "      <td>HOLY MUSLIM INDOCTRINATION! Sesame Street Introduces Hijab Wearing Muppet</td>\n",
              "      <td>HOLY MUSLIM INDOCTRINATION! Sesame Street Introduces Hijab Wearing Muppet Where s The Muppet Dressed As A Nun?Oh wait that would probably be offensive to non-Christians Sesame Street unveiled a fresh face Thursday: a hijab-wearing Afghani Muppet named Zari who will teach kids about  girl empowerment, social and emotional wellbeing. Zari will first appear in season five of Baghch-e-Simsim, which is the Afghan version of Sesame Street.The popular children show s Twitter account was abuzz with Zari content Thursday.Introducing Zari! Our new friend in Afghanistan, joining #BaghcheSimSim for #S...</td>\n",
              "      <td>left-news</td>\n",
              "      <td>Apr 8, 2016</td>\n",
              "      <td>0</td>\n",
              "    </tr>\n",
              "    <tr>\n",
              "      <th>3</th>\n",
              "      <td>Fights erupt at pro-Trump rally on California beach</td>\n",
              "      <td>Fights erupt at pro-Trump rally on California beach Supporters of President Donald Trump holding a rally on a popular southern California beach clashed with counter-protesters on Saturday and four people were arrested, law enforcement said.  Multiple fights broke out and at least one Trump supporter was doused with pepper spray when pro-Trump demonstrators marching along Bolsa Chica State Beach encountered a small group opposed to the Republican president who had gathered to denounce the rally.  Four counter-protesters were arrested, three for illegal use of pepper spray and one for assaul...</td>\n",
              "      <td>politicsNews</td>\n",
              "      <td>March 26, 2017</td>\n",
              "      <td>1</td>\n",
              "    </tr>\n",
              "    <tr>\n",
              "      <th>4</th>\n",
              "      <td>Senator Kirk criticizes fellow Republicans on Garland boycott</td>\n",
              "      <td>Senator Kirk criticizes fellow Republicans on Garland boycott Senator Mark Kirk of Illinois on Tuesday accused many of his fellow Senate Republicans of being “closed-minded” by refusing to consider President Barack Obama’s nomination of Merrick Garland to serve on the U.S. Supreme Court. Kirk, facing a tough re-election battle in his Democratic-leaning state, became the first Republican senator to meet with Garland since Obama nominated the centrist appellate judge and former prosecutor on March 16 to replace conservative Justice Antonin Scalia, who died on Feb. 13. There is a need for “op...</td>\n",
              "      <td>politicsNews</td>\n",
              "      <td>March 29, 2016</td>\n",
              "      <td>1</td>\n",
              "    </tr>\n",
              "  </tbody>\n",
              "</table>\n",
              "</div>"
            ],
            "text/plain": [
              "                                                                                    title  \\\n",
              "0   Here’s The Ted Cruz Ad Starring An Adult Film Star He Doesn’t Want You To See (VIDEO)   \n",
              "1                 North Korea dismisses report that sixth nuclear test killed many people   \n",
              "2               HOLY MUSLIM INDOCTRINATION! Sesame Street Introduces Hijab Wearing Muppet   \n",
              "3                                     Fights erupt at pro-Trump rally on California beach   \n",
              "4                           Senator Kirk criticizes fellow Republicans on Garland boycott   \n",
              "\n",
              "                                                                                                                                                                                                                                                                                                                                                                                                                                                                                                                                                                                                                      text  \\\n",
              "0   Here’s The Ted Cruz Ad Starring An Adult Film Star He Doesn’t Want You To See (VIDEO) Ted Cruz s presidential campaign has pulled an ad featuring a softcore adult film star. The ad, titled  Conservatives Anonymous,  was an attack ad focused on Senator Marco Rubio. In the production, a support group for conservatives talks about being betrayed by Rubio and his flip-flop on immigration.One of the conservatives in the group is played by actress Amy Lindsay, who tells the group,  maybe you should vote for more than just a pretty face next time. When they were asked about Lindsay, the Cruz cam...   \n",
              "1                    North Korea dismisses report that sixth nuclear test killed many people North Korea s state media on Thursday dismissed as  misinformation  a recent media report that the North s sixth nuclear test killed many people. Japanese broadcaster TV Asahi reported on Tuesday, citing unnamed sources familiar with the issue, that North Korea s nuclear test site collapsed after Pyongyang s sixth atomic test in September, possibly killing more than 200 people. The North s official KCNA said it was a  false report  intended to slander the country and its advances in nuclear development.    \n",
              "2  HOLY MUSLIM INDOCTRINATION! Sesame Street Introduces Hijab Wearing Muppet Where s The Muppet Dressed As A Nun?Oh wait that would probably be offensive to non-Christians Sesame Street unveiled a fresh face Thursday: a hijab-wearing Afghani Muppet named Zari who will teach kids about  girl empowerment, social and emotional wellbeing. Zari will first appear in season five of Baghch-e-Simsim, which is the Afghan version of Sesame Street.The popular children show s Twitter account was abuzz with Zari content Thursday.Introducing Zari! Our new friend in Afghanistan, joining #BaghcheSimSim for #S...   \n",
              "3  Fights erupt at pro-Trump rally on California beach Supporters of President Donald Trump holding a rally on a popular southern California beach clashed with counter-protesters on Saturday and four people were arrested, law enforcement said.  Multiple fights broke out and at least one Trump supporter was doused with pepper spray when pro-Trump demonstrators marching along Bolsa Chica State Beach encountered a small group opposed to the Republican president who had gathered to denounce the rally.  Four counter-protesters were arrested, three for illegal use of pepper spray and one for assaul...   \n",
              "4  Senator Kirk criticizes fellow Republicans on Garland boycott Senator Mark Kirk of Illinois on Tuesday accused many of his fellow Senate Republicans of being “closed-minded” by refusing to consider President Barack Obama’s nomination of Merrick Garland to serve on the U.S. Supreme Court. Kirk, facing a tough re-election battle in his Democratic-leaning state, became the first Republican senator to meet with Garland since Obama nominated the centrist appellate judge and former prosecutor on March 16 to replace conservative Justice Antonin Scalia, who died on Feb. 13. There is a need for “op...   \n",
              "\n",
              "        subject               date  label  \n",
              "0          News  February 11, 2016      0  \n",
              "1     worldnews  November 2, 2017       1  \n",
              "2     left-news        Apr 8, 2016      0  \n",
              "3  politicsNews    March 26, 2017       1  \n",
              "4  politicsNews    March 29, 2016       1  "
            ]
          },
          "execution_count": 7,
          "metadata": {},
          "output_type": "execute_result"
        }
      ],
      "source": [
        "# Joined dataset, optional use\n",
        "from random import sample\n",
        "news = pd.concat([fake,real])\n",
        "news['text'] = news['title'] + \" \" + news['text']\n",
        "news = news.sample(frac=1).reset_index(drop=True) #shuffle rows\n",
        "news.head(5)"
      ]
    },
    {
      "cell_type": "code",
      "execution_count": 8,
      "metadata": {
        "id": "heoLG0PnTUVa"
      },
      "outputs": [],
      "source": [
        "news['label'] = news['label'].astype(\"float\")"
      ]
    },
    {
      "cell_type": "code",
      "execution_count": null,
      "metadata": {
        "id": "D47x0zfD41Ty"
      },
      "outputs": [],
      "source": [
        "import pandas as pd\n",
        "import re\n",
        "\n",
        "def remove_punctuation(text):\n",
        "    pattern = r'[\\'\"‘’“”]'\n",
        "    clean_text = re.sub(pattern, '', text)\n",
        "    return clean_text"
      ]
    },
    {
      "cell_type": "code",
      "execution_count": null,
      "metadata": {
        "id": "lyrKBwfM47oE"
      },
      "outputs": [],
      "source": [
        "news['text'] = news['text'].apply(remove_punctuation)"
      ]
    },
    {
      "cell_type": "markdown",
      "metadata": {
        "id": "GfIp4534pOEP"
      },
      "source": [
        "## Split data into train, validation, and test\n",
        "Combining all the splitting steps in all models, making sure all models use the same testing, validation, and training sets\n",
        "\n",
        "Proportion: 80% train, 10% test, 10% validation\n"
      ]
    },
    {
      "cell_type": "code",
      "execution_count": null,
      "metadata": {
        "colab": {
          "base_uri": "https://localhost:8080/"
        },
        "id": "pMx1ZybvaLOl",
        "outputId": "3fccae7a-de5f-4080-d5dd-ddce6f0793a5"
      },
      "outputs": [
        {
          "name": "stdout",
          "output_type": "stream",
          "text": [
            "Training: 35918\n",
            "Test: 4489\n",
            "Validation: 4491\n"
          ]
        }
      ],
      "source": [
        "# split 80% train, 10% test, 10% validation\n",
        "rows = len(news)\n",
        "train_rows = int(rows * 0.8)\n",
        "test_rows = int(rows * 0.1)\n",
        "val_rows = rows - train_rows - test_rows\n",
        "\n",
        "train_df = news[:train_rows]\n",
        "test_df = news[train_rows:train_rows + test_rows]\n",
        "val_df = news[train_rows + test_rows:]\n",
        "\n",
        "print(\"Training:\", len(train_df))\n",
        "print(\"Test:\", len(test_df))\n",
        "print(\"Validation:\", len(val_df))\n",
        "\n"
      ]
    },
    {
      "cell_type": "code",
      "execution_count": null,
      "metadata": {
        "id": "JdQVGRHHfQyH"
      },
      "outputs": [],
      "source": [
        "X = news[\"text\"]\n",
        "y = news[\"label\"]\n",
        "\n",
        "X_train, y_train = train_df['text'], train_df['label']\n",
        "X_test, y_test = test_df['text'], test_df['label']\n",
        "X_val, y_val = val_df['text'], val_df['label']\n",
        "\n",
        "#split into different csv files\n",
        "#shuffle"
      ]
    },
    {
      "cell_type": "markdown",
      "metadata": {
        "id": "dIEDBxGQFitu"
      },
      "source": [
        "# TESTING MODELS\n"
      ]
    },
    {
      "cell_type": "markdown",
      "metadata": {
        "id": "DUBOsm44rGzM"
      },
      "source": [
        "## (1) MLP and Transformers"
      ]
    },
    {
      "cell_type": "markdown",
      "metadata": {
        "id": "OOet17dxFvh6"
      },
      "source": [
        "### Transformers - Anna"
      ]
    },
    {
      "cell_type": "code",
      "execution_count": null,
      "metadata": {
        "id": "3u3_6Dm-U-jD"
      },
      "outputs": [],
      "source": [
        "#####################################################################################################################\n",
        "import os\n",
        "\n",
        "os.environ[\"PYTORCH_CUDA_ALLOC_CONF\"] = \"max_split_size_mb:512\"\n",
        "#####################################################################################################################\n"
      ]
    },
    {
      "cell_type": "code",
      "execution_count": null,
      "metadata": {
        "colab": {
          "base_uri": "https://localhost:8080/",
          "height": 638
        },
        "id": "xy5Gt-ziS2DT",
        "outputId": "60690789-ae18-4ef9-f4ea-3fff6a0175c3"
      },
      "outputs": [
        {
          "name": "stdout",
          "output_type": "stream",
          "text": [
            "Requirement already satisfied: pyarrow in /usr/local/lib/python3.10/dist-packages (14.0.2)\n",
            "Collecting pyarrow\n",
            "  Downloading pyarrow-15.0.2-cp310-cp310-manylinux_2_28_x86_64.whl (38.3 MB)\n",
            "\u001b[2K     \u001b[90m━━━━━━━━━━━━━━━━━━━━━━━━━━━━━━━━━━━━━━━━\u001b[0m \u001b[32m38.3/38.3 MB\u001b[0m \u001b[31m14.7 MB/s\u001b[0m eta \u001b[36m0:00:00\u001b[0m\n",
            "\u001b[?25hCollecting parquet\n",
            "  Downloading parquet-1.3.1-py3-none-any.whl (24 kB)\n",
            "Requirement already satisfied: numpy<2,>=1.16.6 in /usr/local/lib/python3.10/dist-packages (from pyarrow) (1.25.2)\n",
            "Collecting thriftpy2 (from parquet)\n",
            "  Downloading thriftpy2-0.4.20.tar.gz (689 kB)\n",
            "\u001b[2K     \u001b[90m━━━━━━━━━━━━━━━━━━━━━━━━━━━━━━━━━━━━━━━━\u001b[0m \u001b[32m689.0/689.0 kB\u001b[0m \u001b[31m48.3 MB/s\u001b[0m eta \u001b[36m0:00:00\u001b[0m\n",
            "\u001b[?25h  Installing build dependencies ... \u001b[?25l\u001b[?25hdone\n",
            "  Getting requirements to build wheel ... \u001b[?25l\u001b[?25hdone\n",
            "  Installing backend dependencies ... \u001b[?25l\u001b[?25hdone\n",
            "  Preparing metadata (pyproject.toml) ... \u001b[?25l\u001b[?25hdone\n",
            "Collecting ply<4.0,>=3.4 (from thriftpy2->parquet)\n",
            "  Downloading ply-3.11-py2.py3-none-any.whl (49 kB)\n",
            "\u001b[2K     \u001b[90m━━━━━━━━━━━━━━━━━━━━━━━━━━━━━━━━━━━━━━━━\u001b[0m \u001b[32m49.6/49.6 kB\u001b[0m \u001b[31m8.2 MB/s\u001b[0m eta \u001b[36m0:00:00\u001b[0m\n",
            "\u001b[?25hRequirement already satisfied: six~=1.15 in /usr/local/lib/python3.10/dist-packages (from thriftpy2->parquet) (1.16.0)\n",
            "Building wheels for collected packages: thriftpy2\n",
            "  Building wheel for thriftpy2 (pyproject.toml) ... \u001b[?25l\u001b[?25hdone\n",
            "  Created wheel for thriftpy2: filename=thriftpy2-0.4.20-cp310-cp310-linux_x86_64.whl size=1388643 sha256=e1496c4c742169f34677184d2065dc36ba369e103757180f3341cc93bc1e8aa7\n",
            "  Stored in directory: /root/.cache/pip/wheels/9b/1c/2f/97ec7c0e2a61885927d99666f593f1c3bed8a679cb56be635c\n",
            "Successfully built thriftpy2\n",
            "Installing collected packages: ply, thriftpy2, pyarrow, parquet\n",
            "  Attempting uninstall: pyarrow\n",
            "    Found existing installation: pyarrow 14.0.2\n",
            "    Uninstalling pyarrow-14.0.2:\n",
            "      Successfully uninstalled pyarrow-14.0.2\n",
            "Successfully installed parquet-1.3.1 ply-3.11 pyarrow-15.0.2 thriftpy2-0.4.20\n"
          ]
        },
        {
          "data": {
            "application/vnd.colab-display-data+json": {
              "id": "e8fa529b5a72430ab3d4d5f5260a5c76",
              "pip_warning": {
                "packages": [
                  "pyarrow"
                ]
              }
            }
          },
          "metadata": {},
          "output_type": "display_data"
        }
      ],
      "source": [
        "# restarting runtime after this code\n",
        "!pip install --upgrade pyarrow parquet\n",
        "!pip install -q datasets\n",
        "!pip install transformers[torch]\n",
        "!pip install bitsandbytes"
      ]
    },
    {
      "cell_type": "code",
      "execution_count": null,
      "metadata": {
        "colab": {
          "base_uri": "https://localhost:8080/",
          "height": 568
        },
        "id": "x85KDPmtv-1t",
        "outputId": "45cda53f-d819-4488-a0d5-1b527f7a75db"
      },
      "outputs": [
        {
          "name": "stdout",
          "output_type": "stream",
          "text": [
            "Collecting transformers==4.39.1\n",
            "  Downloading transformers-4.39.1-py3-none-any.whl (8.8 MB)\n",
            "\u001b[2K     \u001b[90m━━━━━━━━━━━━━━━━━━━━━━━━━━━━━━━━━━━━━━━━\u001b[0m \u001b[32m8.8/8.8 MB\u001b[0m \u001b[31m78.1 MB/s\u001b[0m eta \u001b[36m0:00:00\u001b[0m\n",
            "\u001b[?25hRequirement already satisfied: filelock in /usr/local/lib/python3.10/dist-packages (from transformers==4.39.1) (3.13.3)\n",
            "Requirement already satisfied: huggingface-hub<1.0,>=0.19.3 in /usr/local/lib/python3.10/dist-packages (from transformers==4.39.1) (0.20.3)\n",
            "Requirement already satisfied: numpy>=1.17 in /usr/local/lib/python3.10/dist-packages (from transformers==4.39.1) (1.25.2)\n",
            "Requirement already satisfied: packaging>=20.0 in /usr/local/lib/python3.10/dist-packages (from transformers==4.39.1) (24.0)\n",
            "Requirement already satisfied: pyyaml>=5.1 in /usr/local/lib/python3.10/dist-packages (from transformers==4.39.1) (6.0.1)\n",
            "Requirement already satisfied: regex!=2019.12.17 in /usr/local/lib/python3.10/dist-packages (from transformers==4.39.1) (2023.12.25)\n",
            "Requirement already satisfied: requests in /usr/local/lib/python3.10/dist-packages (from transformers==4.39.1) (2.31.0)\n",
            "Requirement already satisfied: tokenizers<0.19,>=0.14 in /usr/local/lib/python3.10/dist-packages (from transformers==4.39.1) (0.15.2)\n",
            "Requirement already satisfied: safetensors>=0.4.1 in /usr/local/lib/python3.10/dist-packages (from transformers==4.39.1) (0.4.2)\n",
            "Requirement already satisfied: tqdm>=4.27 in /usr/local/lib/python3.10/dist-packages (from transformers==4.39.1) (4.66.2)\n",
            "Requirement already satisfied: fsspec>=2023.5.0 in /usr/local/lib/python3.10/dist-packages (from huggingface-hub<1.0,>=0.19.3->transformers==4.39.1) (2023.6.0)\n",
            "Requirement already satisfied: typing-extensions>=3.7.4.3 in /usr/local/lib/python3.10/dist-packages (from huggingface-hub<1.0,>=0.19.3->transformers==4.39.1) (4.10.0)\n",
            "Requirement already satisfied: charset-normalizer<4,>=2 in /usr/local/lib/python3.10/dist-packages (from requests->transformers==4.39.1) (3.3.2)\n",
            "Requirement already satisfied: idna<4,>=2.5 in /usr/local/lib/python3.10/dist-packages (from requests->transformers==4.39.1) (3.6)\n",
            "Requirement already satisfied: urllib3<3,>=1.21.1 in /usr/local/lib/python3.10/dist-packages (from requests->transformers==4.39.1) (2.0.7)\n",
            "Requirement already satisfied: certifi>=2017.4.17 in /usr/local/lib/python3.10/dist-packages (from requests->transformers==4.39.1) (2024.2.2)\n",
            "Installing collected packages: transformers\n",
            "  Attempting uninstall: transformers\n",
            "    Found existing installation: transformers 4.38.2\n",
            "    Uninstalling transformers-4.38.2:\n",
            "      Successfully uninstalled transformers-4.38.2\n",
            "Successfully installed transformers-4.39.1\n"
          ]
        },
        {
          "data": {
            "application/vnd.colab-display-data+json": {
              "id": "6e69e7f38f2a46939a7cbcde519556ae",
              "pip_warning": {
                "packages": [
                  "transformers"
                ]
              }
            }
          },
          "metadata": {},
          "output_type": "display_data"
        }
      ],
      "source": [
        "#! pip install -U accelerate\n",
        "#! pip install -U transformers\n",
        "#!pip uninstall transformers\n",
        "!pip install --upgrade transformers==4.39.1\n"
      ]
    },
    {
      "cell_type": "code",
      "execution_count": null,
      "metadata": {
        "id": "8PIMXFtBF6Ea"
      },
      "outputs": [],
      "source": [
        "from datasets import Dataset,DatasetDict\n",
        "from transformers import TrainingArguments,Trainer, AdamW, AutoModelForSequenceClassification,AutoTokenizer, pipeline\n",
        "from sklearn import metrics\n",
        "import bitsandbytes as bnb"
      ]
    },
    {
      "cell_type": "code",
      "execution_count": null,
      "metadata": {
        "id": "h9djAH0z2Mfz"
      },
      "outputs": [],
      "source": [
        "from transformers.data.processors.squad import SquadResult, SquadV1Processor, SquadV2Processor, squad_convert_examples_to_features, squad_convert_example_to_features_init\n",
        "from transformers import AutoTokenizer, AutoConfig, squad_convert_examples_to_features\n"
      ]
    },
    {
      "cell_type": "code",
      "execution_count": null,
      "metadata": {
        "colab": {
          "base_uri": "https://localhost:8080/",
          "height": 269
        },
        "id": "QxFxV72uJFNr",
        "outputId": "1585ef39-0001-4c96-af35-2c6a2c29d327"
      },
      "outputs": [
        {
          "name": "stderr",
          "output_type": "stream",
          "text": [
            "/usr/local/lib/python3.10/dist-packages/huggingface_hub/utils/_token.py:88: UserWarning: \n",
            "The secret `HF_TOKEN` does not exist in your Colab secrets.\n",
            "To authenticate with the Hugging Face Hub, create a token in your settings tab (https://huggingface.co/settings/tokens), set it as secret in your Google Colab and restart your session.\n",
            "You will be able to reuse this secret in all of your notebooks.\n",
            "Please note that authentication is recommended but still optional to access public models or datasets.\n",
            "  warnings.warn(\n"
          ]
        },
        {
          "data": {
            "application/vnd.jupyter.widget-view+json": {
              "model_id": "3b1b5fce023d48dfabf8ac2e90989aa9",
              "version_major": 2,
              "version_minor": 0
            },
            "text/plain": [
              "tokenizer_config.json:   0%|          | 0.00/48.0 [00:00<?, ?B/s]"
            ]
          },
          "metadata": {},
          "output_type": "display_data"
        },
        {
          "data": {
            "application/vnd.jupyter.widget-view+json": {
              "model_id": "5c7f0bfd4f0445bc8f0daf9be16abe27",
              "version_major": 2,
              "version_minor": 0
            },
            "text/plain": [
              "config.json:   0%|          | 0.00/570 [00:00<?, ?B/s]"
            ]
          },
          "metadata": {},
          "output_type": "display_data"
        },
        {
          "data": {
            "application/vnd.jupyter.widget-view+json": {
              "model_id": "da49d5fdb6be4211956135dd5c517457",
              "version_major": 2,
              "version_minor": 0
            },
            "text/plain": [
              "vocab.txt:   0%|          | 0.00/232k [00:00<?, ?B/s]"
            ]
          },
          "metadata": {},
          "output_type": "display_data"
        },
        {
          "data": {
            "application/vnd.jupyter.widget-view+json": {
              "model_id": "5892cfa43e5c42ad9e4c15ca0f157446",
              "version_major": 2,
              "version_minor": 0
            },
            "text/plain": [
              "tokenizer.json:   0%|          | 0.00/466k [00:00<?, ?B/s]"
            ]
          },
          "metadata": {},
          "output_type": "display_data"
        }
      ],
      "source": [
        "model_name = 'bert-base-uncased'\n",
        "tokenizer = AutoTokenizer.from_pretrained(model_name)"
      ]
    },
    {
      "cell_type": "code",
      "execution_count": null,
      "metadata": {
        "id": "EiQneP6anjlH"
      },
      "outputs": [],
      "source": [
        "train_tfm = Dataset.from_pandas(train_df[[\"text\",\"label\"]])\n",
        "test_tfm = Dataset.from_pandas(test_df[[\"text\",\"label\"]])"
      ]
    },
    {
      "cell_type": "code",
      "execution_count": null,
      "metadata": {
        "colab": {
          "base_uri": "https://localhost:8080/",
          "height": 150
        },
        "id": "7T9sLBitnTvs",
        "outputId": "5412f863-44de-4acd-e6a2-2d89e2e38b0e"
      },
      "outputs": [
        {
          "data": {
            "application/vnd.jupyter.widget-view+json": {
              "model_id": "b96777eb18f84eaf8515257e545949f1",
              "version_major": 2,
              "version_minor": 0
            },
            "text/plain": [
              "Map:   0%|          | 0/35918 [00:00<?, ? examples/s]"
            ]
          },
          "metadata": {},
          "output_type": "display_data"
        },
        {
          "data": {
            "application/vnd.jupyter.widget-view+json": {
              "model_id": "f4bb720aabe440bfa7e4f2aaae5e78f5",
              "version_major": 2,
              "version_minor": 0
            },
            "text/plain": [
              "Map:   0%|          | 0/4489 [00:00<?, ? examples/s]"
            ]
          },
          "metadata": {},
          "output_type": "display_data"
        },
        {
          "data": {
            "text/plain": [
              "Dataset({\n",
              "    features: ['text', 'label', 'input_ids', 'token_type_ids', 'attention_mask'],\n",
              "    num_rows: 4489\n",
              "})"
            ]
          },
          "execution_count": 14,
          "metadata": {},
          "output_type": "execute_result"
        }
      ],
      "source": [
        "def tok_func(x):\n",
        "  return tokenizer(x[\"text\"], padding=True, truncation=True, max_length=50, return_tensors=\"tf\",\n",
        "                   add_special_tokens = True)\n",
        "\n",
        "train_tfm = train_tfm.map(tok_func, batched=True)\n",
        "test_tfm = test_tfm.map(tok_func, batched=True)\n",
        "test_tfm"
      ]
    },
    {
      "cell_type": "code",
      "execution_count": null,
      "metadata": {
        "colab": {
          "base_uri": "https://localhost:8080/"
        },
        "id": "XWePcOqxvVd_",
        "outputId": "1796f481-65da-402c-8053-873619e57275"
      },
      "outputs": [
        {
          "data": {
            "application/vnd.google.colaboratory.intrinsic+json": {
              "type": "string"
            },
            "text/plain": [
              "'0.28.0'"
            ]
          },
          "execution_count": 19,
          "metadata": {},
          "output_type": "execute_result"
        }
      ],
      "source": [
        "import accelerate\n",
        "\n",
        "accelerate.__version__"
      ]
    },
    {
      "cell_type": "code",
      "execution_count": null,
      "metadata": {
        "id": "R7DSZBYbspc2"
      },
      "outputs": [],
      "source": [
        "bs = 8\n",
        "epochs = 4\n",
        "lr = 1e-5\n",
        "\n",
        "args = TrainingArguments('outputs', learning_rate=lr, warmup_ratio=0.1, lr_scheduler_type='cosine', fp16=False, #fp16=True\n",
        "    evaluation_strategy=\"epoch\", per_device_train_batch_size=bs, per_device_eval_batch_size=bs*2,\n",
        "    num_train_epochs=epochs, weight_decay=0.01, report_to='none', optim=\"adamw_bnb_8bit\")"
      ]
    },
    {
      "cell_type": "code",
      "execution_count": null,
      "metadata": {
        "colab": {
          "base_uri": "https://localhost:8080/",
          "height": 104
        },
        "id": "84iFE0vswGOQ",
        "outputId": "848f9f3c-cae3-40d6-c90a-e58f7d48bfb9"
      },
      "outputs": [
        {
          "data": {
            "application/vnd.jupyter.widget-view+json": {
              "model_id": "746ed22432254d03be9f5873b8e5b4a5",
              "version_major": 2,
              "version_minor": 0
            },
            "text/plain": [
              "model.safetensors:   0%|          | 0.00/440M [00:00<?, ?B/s]"
            ]
          },
          "metadata": {},
          "output_type": "display_data"
        },
        {
          "name": "stderr",
          "output_type": "stream",
          "text": [
            "Some weights of BertForSequenceClassification were not initialized from the model checkpoint at bert-base-uncased and are newly initialized: ['classifier.bias', 'classifier.weight']\n",
            "You should probably TRAIN this model on a down-stream task to be able to use it for predictions and inference.\n"
          ]
        }
      ],
      "source": [
        "model = AutoModelForSequenceClassification.from_pretrained(model_name, num_labels=1)"
      ]
    },
    {
      "cell_type": "code",
      "execution_count": null,
      "metadata": {
        "colab": {
          "base_uri": "https://localhost:8080/"
        },
        "id": "D1ewFDCGw4Db",
        "outputId": "ae61cf3e-636d-48ed-d182-c3db98eefe4d"
      },
      "outputs": [
        {
          "name": "stderr",
          "output_type": "stream",
          "text": [
            "/usr/local/lib/python3.10/dist-packages/accelerate/accelerator.py:432: FutureWarning: Passing the following arguments to `Accelerator` is deprecated and will be removed in version 1.0 of Accelerate: dict_keys(['dispatch_batches', 'split_batches', 'even_batches', 'use_seedable_sampler']). Please pass an `accelerate.DataLoaderConfiguration` instead: \n",
            "dataloader_config = DataLoaderConfiguration(dispatch_batches=None, split_batches=False, even_batches=True, use_seedable_sampler=True)\n",
            "  warnings.warn(\n"
          ]
        }
      ],
      "source": [
        "def accuracy(x, y):\n",
        "    return ((x > 0.5).reshape(-1) == y).mean()\n",
        "\n",
        "def acc_metric(eval_pred):\n",
        "    return {\"accuracy\": accuracy(*eval_pred)}\n",
        "\n",
        "trainer = Trainer(model, args, train_dataset=train_tfm, eval_dataset=test_tfm,\n",
        "                  tokenizer=tokenizer, compute_metrics=acc_metric)\n"
      ]
    },
    {
      "cell_type": "code",
      "execution_count": null,
      "metadata": {
        "colab": {
          "base_uri": "https://localhost:8080/",
          "height": 253
        },
        "id": "bFzKtRTchNRO",
        "outputId": "77117e66-41b5-4825-b42d-54167a4ec8ca"
      },
      "outputs": [
        {
          "data": {
            "text/html": [
              "\n",
              "    <div>\n",
              "      \n",
              "      <progress value='17960' max='17960' style='width:300px; height:20px; vertical-align: middle;'></progress>\n",
              "      [17960/17960 34:44, Epoch 4/4]\n",
              "    </div>\n",
              "    <table border=\"1\" class=\"dataframe\">\n",
              "  <thead>\n",
              " <tr style=\"text-align: left;\">\n",
              "      <th>Epoch</th>\n",
              "      <th>Training Loss</th>\n",
              "      <th>Validation Loss</th>\n",
              "      <th>Accuracy</th>\n",
              "    </tr>\n",
              "  </thead>\n",
              "  <tbody>\n",
              "    <tr>\n",
              "      <td>1</td>\n",
              "      <td>0.010600</td>\n",
              "      <td>0.006415</td>\n",
              "      <td>0.992649</td>\n",
              "    </tr>\n",
              "    <tr>\n",
              "      <td>2</td>\n",
              "      <td>0.006000</td>\n",
              "      <td>0.007057</td>\n",
              "      <td>0.991535</td>\n",
              "    </tr>\n",
              "    <tr>\n",
              "      <td>3</td>\n",
              "      <td>0.002500</td>\n",
              "      <td>0.003100</td>\n",
              "      <td>0.996436</td>\n",
              "    </tr>\n",
              "    <tr>\n",
              "      <td>4</td>\n",
              "      <td>0.002700</td>\n",
              "      <td>0.002442</td>\n",
              "      <td>0.997104</td>\n",
              "    </tr>\n",
              "  </tbody>\n",
              "</table><p>"
            ],
            "text/plain": [
              "<IPython.core.display.HTML object>"
            ]
          },
          "metadata": {},
          "output_type": "display_data"
        },
        {
          "data": {
            "text/plain": [
              "TrainOutput(global_step=17960, training_loss=0.011283975583241884, metrics={'train_runtime': 2085.7091, 'train_samples_per_second': 68.884, 'train_steps_per_second': 8.611, 'total_flos': 3691538294877600.0, 'train_loss': 0.011283975583241884, 'epoch': 4.0})"
            ]
          },
          "execution_count": 18,
          "metadata": {},
          "output_type": "execute_result"
        }
      ],
      "source": [
        "trainer.train()"
      ]
    },
    {
      "cell_type": "code",
      "execution_count": null,
      "metadata": {
        "colab": {
          "base_uri": "https://localhost:8080/",
          "height": 72
        },
        "id": "D5lpwfZpAQ_2",
        "outputId": "61aa076d-8db0-4909-f678-524fd0a7de5a"
      },
      "outputs": [
        {
          "data": {
            "text/html": [
              "\n",
              "    <div>\n",
              "      \n",
              "      <progress value='281' max='281' style='width:300px; height:20px; vertical-align: middle;'></progress>\n",
              "      [281/281 00:13]\n",
              "    </div>\n",
              "    "
            ],
            "text/plain": [
              "<IPython.core.display.HTML object>"
            ]
          },
          "metadata": {},
          "output_type": "display_data"
        },
        {
          "name": "stdout",
          "output_type": "stream",
          "text": [
            "Accuracy: 0.9971040320784139\n",
            "Error Rate: 0.0028959679215860845\n"
          ]
        }
      ],
      "source": [
        "eval_results = trainer.evaluate(test_tfm)\n",
        "print(f\"Accuracy: {eval_results['eval_accuracy']}\")\n",
        "print(f\"Error Rate: {1 - eval_results['eval_accuracy']}\")"
      ]
    },
    {
      "cell_type": "code",
      "execution_count": null,
      "metadata": {
        "colab": {
          "base_uri": "https://localhost:8080/",
          "height": 17
        },
        "id": "KJQlLI4kNQeI",
        "outputId": "8ff68517-129b-48bd-ad31-c2e634270c15"
      },
      "outputs": [
        {
          "data": {
            "text/html": [],
            "text/plain": [
              "<IPython.core.display.HTML object>"
            ]
          },
          "metadata": {},
          "output_type": "display_data"
        },
        {
          "data": {
            "text/html": [],
            "text/plain": [
              "<IPython.core.display.HTML object>"
            ]
          },
          "metadata": {},
          "output_type": "display_data"
        }
      ],
      "source": [
        "y_pred_train = trainer.predict(train_tfm).predictions\n",
        "y_pred_test  = trainer.predict(test_tfm).predictions"
      ]
    },
    {
      "cell_type": "code",
      "execution_count": null,
      "metadata": {
        "id": "fdfMhB6aUCN4"
      },
      "outputs": [],
      "source": [
        "y_pred_train = (y_pred_train.reshape(-1) > 0.5).astype(\"float\")\n",
        "y_pred_test  = (y_pred_test.reshape(-1) > 0.5).astype(\"float\")"
      ]
    },
    {
      "cell_type": "code",
      "execution_count": null,
      "metadata": {
        "colab": {
          "base_uri": "https://localhost:8080/"
        },
        "id": "SvZAsuV7UG9o",
        "outputId": "315abd5a-e934-4304-ce7a-03c6b06843ae"
      },
      "outputs": [
        {
          "name": "stdout",
          "output_type": "stream",
          "text": [
            "              precision    recall  f1-score   support\n",
            "\n",
            "         0.0       1.00      1.00      1.00     18725\n",
            "         1.0       1.00      1.00      1.00     17193\n",
            "\n",
            "    accuracy                           1.00     35918\n",
            "   macro avg       1.00      1.00      1.00     35918\n",
            "weighted avg       1.00      1.00      1.00     35918\n",
            "\n"
          ]
        }
      ],
      "source": [
        "print(metrics.classification_report(train_tfm[\"label\"], y_pred_train, zero_division=0))"
      ]
    },
    {
      "cell_type": "code",
      "execution_count": null,
      "metadata": {
        "colab": {
          "base_uri": "https://localhost:8080/"
        },
        "id": "fYCUXcUSUIY-",
        "outputId": "663c4395-a301-41a0-8b39-956cc2b9e8ce"
      },
      "outputs": [
        {
          "name": "stdout",
          "output_type": "stream",
          "text": [
            "              precision    recall  f1-score   support\n",
            "\n",
            "         0.0       1.00      1.00      1.00      2386\n",
            "         1.0       1.00      1.00      1.00      2103\n",
            "\n",
            "    accuracy                           1.00      4489\n",
            "   macro avg       1.00      1.00      1.00      4489\n",
            "weighted avg       1.00      1.00      1.00      4489\n",
            "\n"
          ]
        }
      ],
      "source": [
        "print(metrics.classification_report(test_tfm[\"label\"], y_pred_test, zero_division=0))"
      ]
    },
    {
      "cell_type": "markdown",
      "metadata": {
        "id": "CO4YGa5VFrcZ"
      },
      "source": [
        "### MLP - Aidan"
      ]
    },
    {
      "cell_type": "code",
      "execution_count": 12,
      "metadata": {
        "id": "eGMAHYq4z5PE"
      },
      "outputs": [],
      "source": [
        "X_train, X_test, y_train, y_test = train_test_split(\n",
        "    news['text'],\n",
        "    news['label'],\n",
        "    test_size=0.2,\n",
        "    random_state=123456\n",
        ")"
      ]
    },
    {
      "cell_type": "code",
      "execution_count": 13,
      "metadata": {
        "id": "WSq9aBzJ22_s"
      },
      "outputs": [],
      "source": [
        "tfidf_vectorizer = TfidfVectorizer(\n",
        "    stop_words='english',\n",
        "    max_df=0.7,\n",
        "    min_df=10,\n",
        "    ngram_range=(1, 2)\n",
        ")"
      ]
    },
    {
      "cell_type": "code",
      "execution_count": 14,
      "metadata": {
        "id": "KbcY31LD23OC"
      },
      "outputs": [],
      "source": [
        "X_train_tfidf = tfidf_vectorizer.fit_transform(X_train)\n",
        "X_test_tfidf = tfidf_vectorizer.transform(X_test)"
      ]
    },
    {
      "cell_type": "code",
      "execution_count": 15,
      "metadata": {
        "id": "bFhDH9Is23aU"
      },
      "outputs": [],
      "source": [
        "mlp = MLPClassifier(hidden_layer_sizes=(100,),\n",
        "                    activation='relu',\n",
        "                    solver='adam',\n",
        "                    max_iter=200,\n",
        "                    shuffle=True,\n",
        "                    random_state=123456,\n",
        "                    early_stopping=True,\n",
        "                    tol=0.0004,\n",
        "                    n_iter_no_change = 3,\n",
        "                    verbose=True)"
      ]
    },
    {
      "cell_type": "code",
      "execution_count": 17,
      "metadata": {
        "colab": {
          "base_uri": "https://localhost:8080/"
        },
        "id": "vKKGL2e22_Gf",
        "outputId": "1323abcc-d05b-4dd9-fb86-0cf47ad92f93"
      },
      "outputs": [
        {
          "name": "stdout",
          "output_type": "stream",
          "text": [
            "Iteration 1, loss = 0.24577385\n",
            "Validation score: 0.983853\n",
            "Iteration 2, loss = 0.03750201\n",
            "Validation score: 0.991091\n",
            "Iteration 3, loss = 0.01408595\n",
            "Validation score: 0.992205\n",
            "Iteration 4, loss = 0.00800991\n",
            "Validation score: 0.992483\n",
            "Iteration 5, loss = 0.00590947\n",
            "Validation score: 0.993597\n",
            "Iteration 6, loss = 0.00489864\n",
            "Validation score: 0.993318\n",
            "Iteration 7, loss = 0.00430578\n",
            "Validation score: 0.993318\n",
            "Iteration 8, loss = 0.00391134\n",
            "Validation score: 0.993318\n",
            "Iteration 9, loss = 0.00358915\n",
            "Validation score: 0.993597\n",
            "Validation score did not improve more than tol=0.000400 for 3 consecutive epochs. Stopping.\n"
          ]
        }
      ],
      "source": [
        "mlp.fit(X_train_tfidf, y_train)\n",
        "y_pred = mlp.predict(X_test_tfidf)"
      ]
    },
    {
      "cell_type": "code",
      "execution_count": 18,
      "metadata": {
        "colab": {
          "base_uri": "https://localhost:8080/"
        },
        "id": "nU65VR023Cj1",
        "outputId": "f508dc49-f05b-44d3-e46f-3148bc3e235d"
      },
      "outputs": [
        {
          "name": "stdout",
          "output_type": "stream",
          "text": [
            "Accuracy: 99.15%\n",
            "Classification Report:\n",
            "              precision    recall  f1-score   support\n",
            "\n",
            "         0.0       0.99      0.99      0.99      4685\n",
            "         1.0       0.99      0.99      0.99      4295\n",
            "\n",
            "    accuracy                           0.99      8980\n",
            "   macro avg       0.99      0.99      0.99      8980\n",
            "weighted avg       0.99      0.99      0.99      8980\n",
            "\n",
            "\n",
            "Confusion Matrix:\n",
            " [[4647   38]\n",
            " [  38 4257]]\n"
          ]
        }
      ],
      "source": [
        "accuracy = accuracy_score(y_test, y_pred)\n",
        "print(f\"Accuracy: {accuracy * 100:.2f}%\")\n",
        "print(\"Classification Report:\")\n",
        "print(classification_report(y_test, y_pred))\n",
        "print(\"\\nConfusion Matrix:\\n\", confusion_matrix(y_test, y_pred))"
      ]
    },
    {
      "cell_type": "code",
      "execution_count": 19,
      "metadata": {
        "id": "i_SVbJBmPUkf"
      },
      "outputs": [],
      "source": [
        "weights = mlp.coefs_[0]\n",
        "feature_names = tfidf_vectorizer.get_feature_names_out()\n",
        "average_weights = np.mean(np.abs(weights), axis=1)\n",
        "feature_weights = zip(feature_names, average_weights)\n",
        "sorted_features = sorted(feature_weights, key=lambda x: x[1], reverse=True)"
      ]
    },
    {
      "cell_type": "code",
      "execution_count": 20,
      "metadata": {
        "colab": {
          "base_uri": "https://localhost:8080/"
        },
        "id": "wnl4crO_dbNW",
        "outputId": "22dbdb0a-865f-40f8-a71e-cb1de6ac400a"
      },
      "outputs": [
        {
          "name": "stdout",
          "output_type": "stream",
          "text": [
            "Feature: breaking, Average Weight: 0.24004754727194705\n",
            "Feature: president donald, Average Weight: 0.2316910056779909\n",
            "Feature: video, Average Weight: 0.22465011613429187\n",
            "Feature: read, Average Weight: 0.22038977418366887\n",
            "Feature: president trump, Average Weight: 0.20859784625639174\n",
            "Feature: reportedly, Average Weight: 0.2075076050639666\n",
            "Feature: said thursday, Average Weight: 0.20145534959662967\n",
            "Feature: said statement, Average Weight: 0.19862179726823395\n",
            "Feature: factbox, Average Weight: 0.19669832933071277\n",
            "Feature: wednesday, Average Weight: 0.19636002604811076\n"
          ]
        }
      ],
      "source": [
        "for feature, weight in sorted_features[:10]:\n",
        "    print(f\"Feature: {feature}, Average Weight: {weight}\")"
      ]
    },
    {
      "cell_type": "code",
      "execution_count": null,
      "metadata": {
        "colab": {
          "base_uri": "https://localhost:8080/"
        },
        "id": "POu95AaDmoE5",
        "outputId": "ca9984ab-98b7-442f-82c9-47ee0425158e"
      },
      "outputs": [
        {
          "name": "stdout",
          "output_type": "stream",
          "text": [
            "Please input an article\n"
          ]
        }
      ],
      "source": [
        "user_mlp_input = input(\"Please input an article\")"
      ]
    },
    {
      "cell_type": "code",
      "execution_count": null,
      "metadata": {
        "id": "dQSfdVb_mrAU"
      },
      "outputs": [],
      "source": [
        "input_tfidf = tfidf_vectorizer.transform([user_mlp_input])\n",
        "mlp_prediction = mlp.predict(input_tfidf)\n",
        "print(mlp_prediction)"
      ]
    },
    {
      "cell_type": "markdown",
      "metadata": {
        "id": "nudRorE1rNX1"
      },
      "source": [
        "## (2) SVM and Naive Bayes"
      ]
    },
    {
      "cell_type": "markdown",
      "metadata": {
        "id": "bF8ZPO4kF7pi"
      },
      "source": [
        "### SVM- Aiesha Ayub"
      ]
    },
    {
      "cell_type": "code",
      "execution_count": null,
      "metadata": {
        "id": "mucskVCftJhL"
      },
      "outputs": [],
      "source": [
        "cv = CountVectorizer(max_features=10000, stop_words='english')\n",
        "X_train = cv.fit_transform(X_train)\n",
        "\n",
        "tfidf = TfidfTransformer(use_idf=True)\n",
        "X_train = tfidf.fit_transform(X_train)"
      ]
    },
    {
      "cell_type": "code",
      "execution_count": null,
      "metadata": {
        "id": "qebisfbAtLa8"
      },
      "outputs": [],
      "source": [
        "X_test = cv.transform(X_test)\n",
        "X_test = tfidf.transform(X_test)"
      ]
    },
    {
      "cell_type": "code",
      "execution_count": null,
      "metadata": {
        "id": "WZPjewoVtNWa"
      },
      "outputs": [],
      "source": [
        "# Create a classifier model\n",
        "SVM_classifier = SGDClassifier()\n",
        "\n",
        "# Then train the model using the training sets\n",
        "SVM_classifier = SVM_classifier.fit(X_train, y_train)"
      ]
    },
    {
      "cell_type": "code",
      "execution_count": null,
      "metadata": {
        "colab": {
          "base_uri": "https://localhost:8080/"
        },
        "id": "EHY30I7TtPRL",
        "outputId": "34c20578-ef05-40f5-abb2-98873718c1df"
      },
      "outputs": [
        {
          "data": {
            "text/plain": [
              "0.0    0.522985\n",
              "1.0    0.477015\n",
              "Name: label, dtype: float64"
            ]
          },
          "execution_count": 35,
          "metadata": {},
          "output_type": "execute_result"
        }
      ],
      "source": [
        "# First, what's the worst the model could do?\n",
        "y.value_counts(normalize=True)"
      ]
    },
    {
      "cell_type": "code",
      "execution_count": null,
      "metadata": {
        "colab": {
          "base_uri": "https://localhost:8080/"
        },
        "id": "SvyLKjPBtRGU",
        "outputId": "27ec68da-1dfc-4e8f-810e-0dd1ff2f056b"
      },
      "outputs": [
        {
          "data": {
            "text/plain": [
              "0.9954897265994765"
            ]
          },
          "execution_count": 36,
          "metadata": {},
          "output_type": "execute_result"
        }
      ],
      "source": [
        "# How well did the model do on the training data?\n",
        "# Compare the predictions with the\n",
        "y_pred_train = SVM_classifier.predict(X_train)\n",
        "metrics.accuracy_score(y_train, y_pred_train)"
      ]
    },
    {
      "cell_type": "code",
      "execution_count": null,
      "metadata": {
        "colab": {
          "base_uri": "https://localhost:8080/"
        },
        "id": "8n6PHgXGtS4-",
        "outputId": "44590365-5a47-494d-d6ce-71de8824dde2"
      },
      "outputs": [
        {
          "data": {
            "text/plain": [
              "0.9933169971040321"
            ]
          },
          "execution_count": 37,
          "metadata": {},
          "output_type": "execute_result"
        }
      ],
      "source": [
        "# Now, determine how well it did on the testing set\n",
        "# It will be lower, but hopefully not too much.\n",
        "# If it's anywhere near random guessing, we've got a bad fit.\n",
        "y_pred_test = SVM_classifier.predict(X_test)\n",
        "metrics.accuracy_score(y_test, y_pred_test)"
      ]
    },
    {
      "cell_type": "code",
      "execution_count": null,
      "metadata": {
        "colab": {
          "base_uri": "https://localhost:8080/"
        },
        "id": "dyhwlEebuhhj",
        "outputId": "13769bea-157e-46f0-ff72-3b41d8bf5750"
      },
      "outputs": [
        {
          "name": "stdout",
          "output_type": "stream",
          "text": [
            "              precision    recall  f1-score   support\n",
            "\n",
            "         0.0       1.00      0.99      0.99      2387\n",
            "         1.0       0.99      1.00      0.99      2102\n",
            "\n",
            "    accuracy                           0.99      4489\n",
            "   macro avg       0.99      0.99      0.99      4489\n",
            "weighted avg       0.99      0.99      0.99      4489\n",
            "\n"
          ]
        }
      ],
      "source": [
        "# Print out a report of how wel the classifier does\n",
        "# precision of X = If I predict something is X, what % of the time am I right?\n",
        "# recall of X = what % of X do I find?\n",
        "print(metrics.classification_report(y_test, y_pred_test, zero_division=0))"
      ]
    },
    {
      "cell_type": "code",
      "execution_count": null,
      "metadata": {
        "colab": {
          "base_uri": "https://localhost:8080/",
          "height": 578
        },
        "id": "rstpIH0CumnX",
        "outputId": "e8f9e5a9-a2e3-46ef-a7fc-f7d72016deae"
      },
      "outputs": [
        {
          "data": {
            "image/png": "[encoded data removed]",
            "text/plain": [
              "<Figure size 800x600 with 1 Axes>"
            ]
          },
          "metadata": {},
          "output_type": "display_data"
        }
      ],
      "source": [
        "import seaborn as sns\n",
        "from sklearn.metrics import confusion_matrix\n",
        "\n",
        "conf_matrix = confusion_matrix(y_test, y_pred_test)\n",
        "\n",
        "plt.figure(figsize=(8, 6))\n",
        "sns.set(font_scale=1.2)\n",
        "sns.heatmap(conf_matrix, annot=True, fmt='g', cmap='Blues', cbar=False,\n",
        "            xticklabels=['Fake', 'Real'], yticklabels=['Fake', 'Real'])\n",
        "plt.xlabel('Predicted Label')\n",
        "plt.ylabel('True Label')\n",
        "plt.title('Confusion Matrix')\n",
        "plt.show()"
      ]
    },
    {
      "cell_type": "markdown",
      "metadata": {
        "id": "rf3ob8l3GB2K"
      },
      "source": [
        "### Naive Bayes- Jialene"
      ]
    },
    {
      "cell_type": "code",
      "execution_count": null,
      "metadata": {
        "colab": {
          "base_uri": "https://localhost:8080/"
        },
        "id": "0v9FzqGCGFCL",
        "outputId": "c61cbd1e-a811-4583-ed8f-19b63096b429"
      },
      "outputs": [
        {
          "name": "stdout",
          "output_type": "stream",
          "text": [
            "<class 'pandas.core.frame.DataFrame'>\n",
            "RangeIndex: 44898 entries, 0 to 44897\n",
            "Data columns (total 5 columns):\n",
            " #   Column   Non-Null Count  Dtype  \n",
            "---  ------   --------------  -----  \n",
            " 0   title    44898 non-null  object \n",
            " 1   text     44898 non-null  object \n",
            " 2   subject  44898 non-null  object \n",
            " 3   date     44898 non-null  object \n",
            " 4   label    44898 non-null  float64\n",
            "dtypes: float64(1), object(4)\n",
            "memory usage: 1.7+ MB\n"
          ]
        }
      ],
      "source": [
        "news.info()"
      ]
    },
    {
      "cell_type": "code",
      "execution_count": null,
      "metadata": {
        "id": "6yiC81VgCgeB"
      },
      "outputs": [],
      "source": [
        "NB_classifier = MultinomialNB()\n",
        "NB_classifier = NB_classifier.fit(X_train, y_train)"
      ]
    },
    {
      "cell_type": "code",
      "execution_count": null,
      "metadata": {
        "colab": {
          "base_uri": "https://localhost:8080/"
        },
        "id": "F2bHKsWzCs8I",
        "outputId": "4faaa62a-465f-48ab-b2f9-10131119c57f"
      },
      "outputs": [
        {
          "data": {
            "text/plain": [
              "0.0    0.522985\n",
              "1.0    0.477015\n",
              "Name: label, dtype: float64"
            ]
          },
          "execution_count": 50,
          "metadata": {},
          "output_type": "execute_result"
        }
      ],
      "source": [
        "y.value_counts(normalize=True)"
      ]
    },
    {
      "cell_type": "code",
      "execution_count": null,
      "metadata": {
        "colab": {
          "base_uri": "https://localhost:8080/"
        },
        "id": "xQnZUeRBCvje",
        "outputId": "f240017b-0fba-4ff2-c7ab-86b4cf48f983"
      },
      "outputs": [
        {
          "name": "stdout",
          "output_type": "stream",
          "text": [
            "0.944234088757726\n",
            "0.9440855424370684\n"
          ]
        }
      ],
      "source": [
        "y_pred_train = NB_classifier.predict(X_train)\n",
        "print(metrics.accuracy_score(y_train, y_pred_train))\n",
        "\n",
        "y_pred_test = NB_classifier.predict(X_test)\n",
        "print(metrics.accuracy_score(y_test, y_pred_test))"
      ]
    },
    {
      "cell_type": "code",
      "execution_count": null,
      "metadata": {
        "colab": {
          "base_uri": "https://localhost:8080/"
        },
        "id": "Uaps7F-bCyTS",
        "outputId": "db65b9fb-2928-448d-8378-2f76bbb9a74a"
      },
      "outputs": [
        {
          "name": "stdout",
          "output_type": "stream",
          "text": [
            "              precision    recall  f1-score   support\n",
            "\n",
            "         0.0       0.95      0.94      0.95      2331\n",
            "         1.0       0.94      0.95      0.94      2158\n",
            "\n",
            "    accuracy                           0.94      4489\n",
            "   macro avg       0.94      0.94      0.94      4489\n",
            "weighted avg       0.94      0.94      0.94      4489\n",
            "\n"
          ]
        }
      ],
      "source": [
        "print(metrics.classification_report(y_test, y_pred_test, zero_division=0))"
      ]
    },
    {
      "cell_type": "markdown",
      "metadata": {
        "id": "YM4ImFGCfxTV"
      },
      "source": [
        "# SAVING MODELS\n",
        "Already ran this to save to drive. DON'T run again!\n",
        "TRANSFORMER"
      ]
    },
    {
      "cell_type": "code",
      "execution_count": null,
      "metadata": {
        "id": "UBHN0VIACoGw"
      },
      "outputs": [],
      "source": [
        "#from sklearn.model_selection import GridSearchCV"
      ]
    },
    {
      "cell_type": "code",
      "execution_count": null,
      "metadata": {
        "id": "7xfoGHyReZVm"
      },
      "outputs": [],
      "source": [
        "# from sklearn.ensemble import VotingClassifier\n",
        "# #create a dictionary of our models\n",
        "# estimators=[('rnn', rnn), ('transformer', transformer), ('svm', SVM_classifier), ('nb', NB_classifier)]\n",
        "# #create our voting classifier, inputting our models\n",
        "# ensemble = VotingClassifier(estimators, voting='hard')\n"
      ]
    },
    {
      "cell_type": "code",
      "execution_count": null,
      "metadata": {
        "id": "V5ghV48UNYCz"
      },
      "outputs": [],
      "source": [
        "gdrive_path = \"/content/gdrive/MyDrive/425 models/\""
      ]
    },
    {
      "cell_type": "code",
      "execution_count": null,
      "metadata": {
        "id": "y52fcH53YGf1"
      },
      "outputs": [],
      "source": [
        "trainer.save_model(\"./transformer\")"
      ]
    },
    {
      "cell_type": "code",
      "execution_count": null,
      "metadata": {
        "colab": {
          "base_uri": "https://localhost:8080/",
          "height": 73
        },
        "id": "tTBUU87qchQL",
        "outputId": "cd4cace4-1a5c-4e38-fb14-692e044070a1"
      },
      "outputs": [
        {
          "name": "stdout",
          "output_type": "stream",
          "text": [
            "Drive already mounted at /content/gdrive; to attempt to forcibly remount, call drive.mount(\"/content/gdrive\", force_remount=True).\n"
          ]
        },
        {
          "data": {
            "application/vnd.google.colaboratory.intrinsic+json": {
              "type": "string"
            },
            "text/plain": [
              "'/content/gdrive/MyDrive/425 models/transformers'"
            ]
          },
          "execution_count": 27,
          "metadata": {},
          "output_type": "execute_result"
        }
      ],
      "source": [
        "from google.colab import drive\n",
        "drive.mount('/content/gdrive')\n",
        "shutil.copytree(\"./transformer\", \"/content/gdrive/MyDrive/425 models/transformers\")\n"
      ]
    },
    {
      "cell_type": "markdown",
      "metadata": {
        "id": "B5mjr9rER9fN"
      },
      "source": [
        "###MLP"
      ]
    },
    {
      "cell_type": "code",
      "execution_count": null,
      "metadata": {
        "id": "7PxwLo2qR_x6"
      },
      "outputs": [],
      "source": [
        "import pickle\n"
      ]
    },
    {
      "cell_type": "markdown",
      "metadata": {
        "id": "mpnbStDtK2-e"
      },
      "source": [
        "SVM"
      ]
    },
    {
      "cell_type": "code",
      "execution_count": null,
      "metadata": {
        "id": "8nON64KnJH8x"
      },
      "outputs": [],
      "source": [
        "with open('/content/gdrive/MyDrive/425 models/svm_model.pkl', 'wb') as f:\n",
        "    pickle.dump(SVM_classifier, f)"
      ]
    },
    {
      "cell_type": "code",
      "execution_count": null,
      "metadata": {
        "id": "Q2hj8GwuP4M9"
      },
      "outputs": [],
      "source": [
        "with open('/content/gdrive/MyDrive/425 models/tfidf.pkl', 'wb') as f:\n",
        "    pickle.dump(tfidf, f)\n",
        "\n",
        "with open('/content/gdrive/MyDrive/425 models/vectorizer.pkl', 'wb') as f:\n",
        "    pickle.dump(cv, f)"
      ]
    },
    {
      "cell_type": "markdown",
      "metadata": {
        "id": "SyttF3qOK4TY"
      },
      "source": [
        "NAIVE BAYES"
      ]
    },
    {
      "cell_type": "code",
      "execution_count": null,
      "metadata": {
        "id": "Xl7pdPpyP6dQ"
      },
      "outputs": [],
      "source": [
        "with open('/content/gdrive/MyDrive/425 models/naivebayes.pkl', 'wb') as f:\n",
        "    pickle.dump(NB_classifier, f)"
      ]
    },
    {
      "cell_type": "markdown",
      "metadata": {
        "id": "_68Tphq7UmuC"
      },
      "source": [
        "MLP"
      ]
    },
    {
      "cell_type": "code",
      "execution_count": null,
      "metadata": {
        "id": "10gDzPKOVVHp"
      },
      "outputs": [],
      "source": [
        "with open('/content/gdrive/MyDrive/425 models/mlp.pkl', 'wb') as f:\n",
        "    pickle.dump(mlp, f)"
      ]
    },
    {
      "cell_type": "markdown",
      "metadata": {
        "id": "ro9qDtNheaAv"
      },
      "source": [
        "# ENSEMBLE MODEL\n",
        "save the accuracy of all models into csv files/dataframe\n",
        "-> pull out the average accuracy/**label**"
      ]
    },
    {
      "cell_type": "code",
      "execution_count": null,
      "metadata": {
        "colab": {
          "base_uri": "https://localhost:8080/"
        },
        "id": "9mNNfV4w9k4S",
        "outputId": "3f034b5f-1f4a-4fd8-f37f-8708f9dbf036"
      },
      "outputs": [
        {
          "name": "stdout",
          "output_type": "stream",
          "text": [
            "Mounted at /content/gdrive\n"
          ]
        }
      ],
      "source": [
        "from google.colab import drive\n",
        "drive.mount('/content/gdrive')"
      ]
    },
    {
      "cell_type": "code",
      "execution_count": null,
      "metadata": {
        "id": "Jzzaj6GSlAc1"
      },
      "outputs": [],
      "source": [
        "import re\n",
        "import pickle\n",
        "input_text = \"\"\"WASHINGTON — The economy is improving, inflation is falling, joblessness is down, and the stock market is hitting record highs. Crime is dropping. U.S. crude oil production is at an all-time high. A special counsel declined to bring charges against President Joe Biden for mishandling classified information, and the Republican impeachment inquiry is flailing.\n",
        "\n",
        "Biden's case for re-election is strengthening, but he still enters the general election in a weaker position than he did in 2020, when he consistently led Donald Trump in national and swing state surveys, often by wide margins. His struggles come despite Trump’s mounting legal bills and four criminal cases, with one trial set to begin next month.\n",
        "\n",
        "Democrats offer a variety of theories as to why.\n",
        "\n",
        "“Because we haven’t made our argument yet,” Sen. Brian Schatz, D-Hawaii, said in an interview.\n",
        "\n",
        "“Democrats’ record on the economy, on crime, on making prescription drugs less expensive, on climate action, on civil rights, on human rights, on gun safety — our record is strong, and [Trump’s] record was catastrophically bad,\" he said. \"But we haven’t spent any money and any time making that argument because we’ve been too busy doing the work. As we move into a different season, we’re going to be making that argument. Once people hear it, the votes move.”\"\"\"\n",
        "input_text = re.sub(r'[\\'\"‘’“”]', '', input_text)\n",
        "input_text = re.sub('^.*\\(Reuters\\)\\s*-\\s*', '', input_text)"
      ]
    },
    {
      "cell_type": "code",
      "execution_count": null,
      "metadata": {
        "id": "6BHWc3L2JAbJ"
      },
      "outputs": [],
      "source": [
        "input_text = [input_text]\n",
        "cv_text = cv.transform(input_text)\n",
        "tfidf_text = tfidf.transform(cv_text)"
      ]
    },
    {
      "cell_type": "code",
      "execution_count": null,
      "metadata": {
        "colab": {
          "base_uri": "https://localhost:8080/",
          "height": 35
        },
        "id": "QEjUkMkxE9qJ",
        "outputId": "dc2c4286-8500-4fca-8204-0beef34ca1c0"
      },
      "outputs": [
        {
          "data": {
            "application/vnd.google.colaboratory.intrinsic+json": {
              "type": "string"
            },
            "text/plain": [
              "'transfomer'"
            ]
          },
          "execution_count": 14,
          "metadata": {},
          "output_type": "execute_result"
        }
      ],
      "source": [
        "import shutil\n",
        "\n",
        "# Copy the saved model folder or zip file from Google Drive to Colab\n",
        "# If it's a folder:\n",
        "shutil.copytree(\"/content/gdrive/MyDrive/425 models/transformers\", \"transfomer\")"
      ]
    },
    {
      "cell_type": "code",
      "execution_count": null,
      "metadata": {
        "id": "R6Hinj6aE-Yc"
      },
      "outputs": [],
      "source": [
        "from transformers import AutoModelForSequenceClassification, AutoTokenizer\n",
        "\n",
        "# Load the saved model\n",
        "model = AutoModelForSequenceClassification.from_pretrained(\"/content/transfomer\")\n",
        "\n",
        "# Load the tokenizer\n",
        "tokenizer = AutoTokenizer.from_pretrained(\"/content/transfomer\")"
      ]
    },
    {
      "cell_type": "code",
      "execution_count": null,
      "metadata": {
        "colab": {
          "base_uri": "https://localhost:8080/"
        },
        "id": "iGCiZH2zEO6w",
        "outputId": "5e8cdb4b-10f0-4899-e156-9a11ea7b3e6e"
      },
      "outputs": [
        {
          "name": "stdout",
          "output_type": "stream",
          "text": [
            "Transformers predicted label: Real news\n",
            "Transformers predicted score: 0.5439008474349976\n"
          ]
        }
      ],
      "source": [
        "import torch\n",
        "\n",
        "inputs = tokenizer(input_text, return_tensors=\"pt\")\n",
        "\n",
        "# Forward pass through the model to obtain logits\n",
        "with torch.no_grad():\n",
        "    outputs = model(**inputs)\n",
        "\n",
        "# Get the predicted class label\n",
        "predicted_label = torch.sigmoid(outputs.logits).squeeze().tolist()  # Assuming binary classification\n",
        "if predicted_label >= 0.5:\n",
        "    predicted_class = \"Real news\"\n",
        "else:\n",
        "    predicted_class = \"Fake news\"\n",
        "\n",
        "predicted_score = torch.sigmoid(outputs.logits).item()  # Assuming binary classification\n",
        "\n",
        "# Print the predicted class and probability score\n",
        "print(\"Transformers predicted label:\", predicted_class)\n",
        "print(\"Transformers predicted score:\", predicted_score)"
      ]
    },
    {
      "cell_type": "code",
      "execution_count": null,
      "metadata": {
        "id": "HWFXUGViCphh"
      },
      "outputs": [],
      "source": [
        "# Initialize a list to store the predicted class labels for each text\n",
        "predicted_labels = []\n",
        "\n",
        "# Prediction\n",
        "for index, row in val_df.iterrows():\n",
        "    text = row['text']\n",
        "    inputs = tokenizer(text, return_tensors=\"pt\", padding=True, truncation=True)\n",
        "\n",
        "    with torch.no_grad():\n",
        "        outputs = model(**inputs)\n",
        "    predicted_label = torch.sigmoid(outputs.logits).squeeze().tolist()\n",
        "\n",
        "    if predicted_label >= 0.5:\n",
        "        predicted_class = 1  # Real news\n",
        "    else:\n",
        "        predicted_class = 0  # Fake news\n",
        "\n",
        "    predicted_labels.append(predicted_class)\n",
        "\n",
        "val_df['predicted_label'] = predicted_labels\n",
        "print(val_df)"
      ]
    },
    {
      "cell_type": "code",
      "execution_count": null,
      "metadata": {
        "id": "_NAtWU0AOdH6"
      },
      "outputs": [],
      "source": [
        "def define_labels(prob):\n",
        "  if prob >= 0.5:\n",
        "    predicted_class = \"Real\"  # Real news\n",
        "  else:\n",
        "    predicted_class = \"Fake\"  # Fake news\n",
        "  return predicted_class"
      ]
    },
    {
      "cell_type": "markdown",
      "metadata": {
        "id": "vkU1F46bQXR6"
      },
      "source": [
        "### SVM"
      ]
    },
    {
      "cell_type": "code",
      "execution_count": null,
      "metadata": {
        "id": "AdNsKegOWNHB"
      },
      "outputs": [],
      "source": [
        "#Load models in\n",
        "with open('/content/gdrive/MyDrive/425 models/svm_model.pkl', 'rb') as f:\n",
        "    svm_classifier = pickle.load(f)\n",
        "\n",
        "with open('/content/gdrive/MyDrive/425 models/vectorizer.pkl', 'rb') as f:\n",
        "    cv = pickle.load(f)\n",
        "\n",
        "with open('/content/gdrive/MyDrive/425 models/tfidf.pkl', 'rb') as f:\n",
        "    tfidf = pickle.load(f)"
      ]
    },
    {
      "cell_type": "code",
      "execution_count": null,
      "metadata": {
        "colab": {
          "base_uri": "https://localhost:8080/"
        },
        "id": "FZ19bLyus56-",
        "outputId": "904efd44-33b2-4727-818c-3bdb98b2d08d"
      },
      "outputs": [
        {
          "name": "stdout",
          "output_type": "stream",
          "text": [
            "SVM predicted label:  Real\n",
            "SVM predicted score:  0.5053364307160422\n"
          ]
        }
      ],
      "source": [
        "svm_prob = svm_classifier.decision_function(tfidf_text)\n",
        "svm_pred_label = define_labels(svm_prob)\n",
        "print(\"SVM predicted label: \", svm_pred_label)\n",
        "print(\"SVM predicted score: \", svm_prob[0])"
      ]
    },
    {
      "cell_type": "markdown",
      "metadata": {
        "id": "UEI7ajH_QSzd"
      },
      "source": [
        "### Naive Bayes"
      ]
    },
    {
      "cell_type": "code",
      "execution_count": null,
      "metadata": {
        "id": "2lvRvOZwJkJb"
      },
      "outputs": [],
      "source": [
        "with open('/content/gdrive/MyDrive/425 models/naivebayes.pkl', 'rb') as f:\n",
        "    nb_classifier = pickle.load(f)"
      ]
    },
    {
      "cell_type": "code",
      "execution_count": null,
      "metadata": {
        "colab": {
          "base_uri": "https://localhost:8080/"
        },
        "id": "9gG26ga_IydT",
        "outputId": "6418f424-da03-49f8-e978-90b121e702f5"
      },
      "outputs": [
        {
          "name": "stdout",
          "output_type": "stream",
          "text": [
            "Naive Bayes predicted label:  Real\n",
            "Naive Bayes predicted score:  0.558790696448108\n"
          ]
        }
      ],
      "source": [
        "nb_prob = nb_classifier.predict_proba(tfidf_text)\n",
        "nb_pred_label = define_labels(nb_prob[0][1])\n",
        "print(\"Naive Bayes predicted label: \", nb_pred_label)\n",
        "print(\"Naive Bayes predicted score: \", nb_prob[0][1])"
      ]
    },
    {
      "cell_type": "markdown",
      "metadata": {
        "id": "iF3cGZuqsGyN"
      },
      "source": [
        "# VISUALIZATIONS"
      ]
    },
    {
      "cell_type": "code",
      "execution_count": null,
      "metadata": {
        "colab": {
          "base_uri": "https://localhost:8080/"
        },
        "id": "9H4ARzhI7kTF",
        "outputId": "193ef8fa-3a3f-4345-f59a-221cc432d3a1"
      },
      "outputs": [
        {
          "name": "stdout",
          "output_type": "stream",
          "text": [
            "Collecting tidytext\n",
            "  Downloading tidytext-0.0.1.tar.gz (4.3 kB)\n",
            "  Preparing metadata (setup.py) ... \u001b[?25l\u001b[?25hdone\n",
            "Collecting siuba (from tidytext)\n",
            "  Downloading siuba-0.4.4-py3-none-any.whl (208 kB)\n",
            "\u001b[2K     \u001b[90m━━━━━━━━━━━━━━━━━━━━━━━━━━━━━━━━━━━━━━━━\u001b[0m \u001b[32m208.6/208.6 kB\u001b[0m \u001b[31m2.7 MB/s\u001b[0m eta \u001b[36m0:00:00\u001b[0m\n",
            "\u001b[?25hRequirement already satisfied: pandas<2.1.0,>=0.24.0 in /usr/local/lib/python3.10/dist-packages (from siuba->tidytext) (1.5.3)\n",
            "Requirement already satisfied: numpy>=1.12.0 in /usr/local/lib/python3.10/dist-packages (from siuba->tidytext) (1.25.2)\n",
            "Requirement already satisfied: SQLAlchemy>=1.2.19 in /usr/local/lib/python3.10/dist-packages (from siuba->tidytext) (2.0.28)\n",
            "Requirement already satisfied: PyYAML>=3.0.0 in /usr/local/lib/python3.10/dist-packages (from siuba->tidytext) (6.0.1)\n",
            "Requirement already satisfied: python-dateutil>=2.8.1 in /usr/local/lib/python3.10/dist-packages (from pandas<2.1.0,>=0.24.0->siuba->tidytext) (2.8.2)\n",
            "Requirement already satisfied: pytz>=2020.1 in /usr/local/lib/python3.10/dist-packages (from pandas<2.1.0,>=0.24.0->siuba->tidytext) (2023.4)\n",
            "Requirement already satisfied: typing-extensions>=4.6.0 in /usr/local/lib/python3.10/dist-packages (from SQLAlchemy>=1.2.19->siuba->tidytext) (4.10.0)\n",
            "Requirement already satisfied: greenlet!=0.4.17 in /usr/local/lib/python3.10/dist-packages (from SQLAlchemy>=1.2.19->siuba->tidytext) (3.0.3)\n",
            "Requirement already satisfied: six>=1.5 in /usr/local/lib/python3.10/dist-packages (from python-dateutil>=2.8.1->pandas<2.1.0,>=0.24.0->siuba->tidytext) (1.16.0)\n",
            "Building wheels for collected packages: tidytext\n",
            "  Building wheel for tidytext (setup.py) ... \u001b[?25l\u001b[?25hdone\n",
            "  Created wheel for tidytext: filename=tidytext-0.0.1-py3-none-any.whl size=3871 sha256=fed8e06d42c42adb1ba2d1046dd6c80280cf5d82202c20b281aa821ec76a40ce\n",
            "  Stored in directory: /root/.cache/pip/wheels/88/40/40/04f8d22d7729547afa13c2cbffb494737351dd4465f2f26288\n",
            "Successfully built tidytext\n",
            "Installing collected packages: siuba, tidytext\n",
            "Successfully installed siuba-0.4.4 tidytext-0.0.1\n"
          ]
        },
        {
          "name": "stderr",
          "output_type": "stream",
          "text": [
            "[nltk_data] Downloading package punkt to /root/nltk_data...\n",
            "[nltk_data]   Unzipping tokenizers/punkt.zip.\n"
          ]
        },
        {
          "data": {
            "text/plain": [
              "True"
            ]
          },
          "execution_count": 28,
          "metadata": {},
          "output_type": "execute_result"
        }
      ],
      "source": [
        "from wordcloud import STOPWORDS\n",
        "import seaborn as sns\n",
        "!pip install tidytext\n",
        "import tidytext\n",
        "# This library is used by tidytext for tokenization\n",
        "import nltk\n",
        "nltk.download('punkt')"
      ]
    },
    {
      "cell_type": "code",
      "execution_count": null,
      "metadata": {
        "colab": {
          "base_uri": "https://localhost:8080/",
          "height": 355
        },
        "id": "XmUOTEBj7qRG",
        "outputId": "eee638b3-1034-4a93-a5b6-830f4ae12caa"
      },
      "outputs": [
        {
          "data": {
            "application/vnd.google.colaboratory.intrinsic+json": {
              "summary": "{\n  \"name\": \"fake\",\n  \"rows\": 23481,\n  \"fields\": [\n    {\n      \"column\": \"title\",\n      \"properties\": {\n        \"dtype\": \"string\",\n        \"num_unique_values\": 17903,\n        \"samples\": [\n          \" Fox News Mocked Into Oblivion After This F*cking STUPID Attempt To Make Steve Bannon Look Sane (TWEETS)\",\n          \"BREAKING: FL GOV RICK SCOTT Calls for FBI Director to Resign\",\n          \" WATCH: Mike Pence\\u2019s Photo Op With Puerto Rico Survivors Just Went TERRIBLY Wrong (VIDEO)\"\n        ],\n        \"semantic_type\": \"\",\n        \"description\": \"\"\n      }\n    },\n    {\n      \"column\": \"text\",\n      \"properties\": {\n        \"dtype\": \"string\",\n        \"num_unique_values\": 17455,\n        \"samples\": [\n          \"The moral decay continues The Kapiolani Medical Center for Women and Children at the University of Hawaii is currently recruiting pregnant girls and women to participate in second-trimester abortions to measure their bleeding during the operation, with and without antihemorrhagic drugs. According to the Clinical Trials website, run by the National Institutes of Health, participants must be at least 14 years old and 18-24 weeks pregnant.The controversial study, led by Bliss Kaneshiro, MD and Kate Whitehouse, DO, will monitor bleeding during D&E abortions to determine the effects of the drug oxytocin, commonly used to minimize blood loss and decrease the risk of hemorrhage.The clinical trial, called  Effects of Oxytocin on Bleeding Outcomes during Dilation and Evacuation  began in October 2014 and is a collaboration between UH, Society of Family Planning and the University of Washington.The Society of Family Planning funds a number of similar research projects, such as experimenting with the dosage of Misoprostol, a uterine contracting agent, prior to surgical abortions at 13-18 weeks and exploring umbilical cord injections to produce fetal death prior to late-term abortions.In the UH study, researchers will carry out a  randomized, double-blinded, placebo-controlled trials,  to determine the effect of oxytocin s use on uterine bleeding, meaning that they will either provide or deny intravenous oxytocin to the women.Reports suggest that some doctors are concerned that withholding oxytocin during surgery may put patients, especially teen girls, at risk. This study is reminiscent of Nazi concentration camp experiments. I pity the poor women who are being treated like lab rats, especially those who are denied the drug to reduce hemorrhaging,  said Troy Newman, President of Operation Rescue.Dilation and evacuation abortions are surgical procedures that involve dismembering the pre-born baby with forceps, scraping the inside of the uterus with a curette to remove any residuals and finally suctioning out the womb to make sure the contents are completely removed.After the abortion, the corpse of the fetus is reassembled and examined to ensure everything was successfully removed and that the abortion was complete.The study is hoping to attract up to 166 test subjects and is expected to conclude in July 2015.Via: Breitbart News\",\n          \"CNN was quick to scoop up Corey Lewandowski after Donald Trump kicked him out of his role as campaign manager, but his first week on the job is going pretty much exactly how you would expect it to go   terribly.Not only has Lewandowski proven himself to be pretty much like a paid spokesman for Trump, but his defense of the disgraced GOP candidate isn t being received well. Earlier this week, Lewandowski revealed that he was under contract and couldn t criticize The Donald, even after being fired from the campaign. Today, Lewandowski got called out by Hillary Clinton surrogate Christine Quinn for hyping Trump up to be an expert on the Brexit decision   a suggestion that was clearly false.On Monday s edition of CNN s New Day, Lewandowski made another pathetic defense of Trump by trying to reframe the candidate s disgusting reaction to Brexit, where he mostly spoke about how much the decision would be good for his Scotland golf resort. Lewandowski s defense was: Obviously the U.S. dollar has become much stronger now against the British pound. If you re going to spend money in Europe, now would actually be a good time to go with the fall of the pound.What you have is a world view, so what you have is someone who is saying,  Let s look at this from the U.S. perspective. If you want to go and travel overseas   just from a monetary perspective   now is the right time to do that because what you re getting is more for your dollar. Quinn wasn t having it. She ripped into Lewandowski, firing back, Donald Trump is not running to be travel agent of the world, he s running to be president of the United States.  She continued: What he said wasn t a commentary on international markets, it was,  When the pound goes down, more people will come to my golf course. Donald Trump s main concern isn t the international markets, it isn t the impact that Brexit will have on hard working Americans  401Ks, it s himself. How can he make more money, how can he put more money in his bank account? Lewandowski compared the Brexit decision to Trump s rise in the GOP, and Quinn once again called him out and put him back in his place. She said: Trump touted that he saw this coming. That s ridiculous because when he was first asked about Brexit by the press, he didn t appear to know what it was. Lewandowski tried to counter by insisting that People are too smart, they are tired of being told what to do.  He then tried to commend Trump for being a selfish moron: You know what Donald Trump said about Brexit? What he said was, you don t have to listen to me because it s not my decision. He didn t weigh in like Hillary Clinton did, like Barack Obama did, saying that you can t do this. Quinn fought back, Because he didn t know what it was. Lewandowski was fighting a losing battle. Trump s reaction to Brexit was just as terrifying as it was humorous   it truly proved that Trump knows nothing about foreign affairs, and hasn t spent any time educating himself since the beginning of his presidential candidacy. If only some of the hours he spent getting into fights on Twitter were being used for learning about how the world works. But instead, he once again exposed himself as an unfit choice for President. And when people like Lewandowski try to make sense of his idiocy, they only make themselves look equally foolish.You can watch the embarrassing video below:Featured image via screen capture\",\n          \"A Michigan woman decided to defend against tyranny? when she and another shopper couldn t agree over who got to buy the last notebook on the shelf at the Novi Towne Center store.According to ABC 13, the brawl   yes, brawl    involved two Farmington Hills residents, ages 46 and 32, and a mother and daughter from South Lyon, ages 51 and 20. In other words, these were all grown adults who should have known better but hey   there was only one notebook on the shelf, and we ve all seen what happens in those post-apocalyptic movies when a store is down to the last gallon of milk, right?Two of the women, one of whom was the unnamed 20-year-old, reached for the notebook at the same time. The 46 and 32-year-olds apparently decided that she wasn t getting their goddamn notebook and began pulling her hair.Then, because this had almost hit peak  trailer park,  the 20-year-old s mother decided to go for bonus points by pulling out her gun. Fortunately, someone pushed her aside before she could do any harm.This is one of the NRA s  responsible gun owners  (conservatives can t dismiss this one, as it is confirmed that she is a concealed carry permit holder)   ready to leap into action at the most minor sign of danger and make things worse by turning the situation potentially deadly.Watch it happen below:Featured image via screengrab\"\n        ],\n        \"semantic_type\": \"\",\n        \"description\": \"\"\n      }\n    },\n    {\n      \"column\": \"subject\",\n      \"properties\": {\n        \"dtype\": \"category\",\n        \"num_unique_values\": 6,\n        \"samples\": [\n          \"News\",\n          \"politics\",\n          \"Middle-east\"\n        ],\n        \"semantic_type\": \"\",\n        \"description\": \"\"\n      }\n    },\n    {\n      \"column\": \"date\",\n      \"properties\": {\n        \"dtype\": \"category\",\n        \"num_unique_values\": 1681,\n        \"samples\": [\n          \"Jun 5, 2015\",\n          \"August 28, 2016\",\n          \"June 3, 2017\"\n        ],\n        \"semantic_type\": \"\",\n        \"description\": \"\"\n      }\n    },\n    {\n      \"column\": \"label\",\n      \"properties\": {\n        \"dtype\": \"category\",\n        \"num_unique_values\": 1,\n        \"samples\": [\n          \"fake\"\n        ],\n        \"semantic_type\": \"\",\n        \"description\": \"\"\n      }\n    }\n  ]\n}",
              "type": "dataframe",
              "variable_name": "fake"
            },
            "text/html": [
              "\n",
              "  <div id=\"df-5f163655-5869-4155-bf17-a7c0bc5ba542\" class=\"colab-df-container\">\n",
              "    <div>\n",
              "<style scoped>\n",
              "    .dataframe tbody tr th:only-of-type {\n",
              "        vertical-align: middle;\n",
              "    }\n",
              "\n",
              "    .dataframe tbody tr th {\n",
              "        vertical-align: top;\n",
              "    }\n",
              "\n",
              "    .dataframe thead th {\n",
              "        text-align: right;\n",
              "    }\n",
              "</style>\n",
              "<table border=\"1\" class=\"dataframe\">\n",
              "  <thead>\n",
              "    <tr style=\"text-align: right;\">\n",
              "      <th></th>\n",
              "      <th>title</th>\n",
              "      <th>text</th>\n",
              "      <th>subject</th>\n",
              "      <th>date</th>\n",
              "      <th>label</th>\n",
              "    </tr>\n",
              "  </thead>\n",
              "  <tbody>\n",
              "    <tr>\n",
              "      <th>0</th>\n",
              "      <td>Donald Trump Sends Out Embarrassing New Year’s Eve Message; This is Disturbing</td>\n",
              "      <td>Donald Trump just couldn t wish all Americans a Happy New Year and leave it at that. Instead, he had to give a shout out to his enemies, haters and  the very dishonest fake news media.  The former reality show star had just one job to do and he couldn t do it. As our Country rapidly grows stronger and smarter, I want to wish all of my friends, supporters, enemies, haters, and even the very dishonest Fake News Media, a Happy and Healthy New Year,  President Angry Pants tweeted.  2018 will be a great year for America! As our Country rapidly grows stronger and smarter, I want to wish all of m...</td>\n",
              "      <td>News</td>\n",
              "      <td>December 31, 2017</td>\n",
              "      <td>fake</td>\n",
              "    </tr>\n",
              "    <tr>\n",
              "      <th>1</th>\n",
              "      <td>Drunk Bragging Trump Staffer Started Russian Collusion Investigation</td>\n",
              "      <td>House Intelligence Committee Chairman Devin Nunes is going to have a bad day. He s been under the assumption, like many of us, that the Christopher Steele-dossier was what prompted the Russia investigation so he s been lashing out at the Department of Justice and the FBI in order to protect Trump. As it happens, the dossier is not what started the investigation, according to documents obtained by the New York Times.Former Trump campaign adviser George Papadopoulos was drunk in a wine bar when he revealed knowledge of Russian opposition research on Hillary Clinton.On top of that, Papadopoul...</td>\n",
              "      <td>News</td>\n",
              "      <td>December 31, 2017</td>\n",
              "      <td>fake</td>\n",
              "    </tr>\n",
              "  </tbody>\n",
              "</table>\n",
              "</div>\n",
              "    <div class=\"colab-df-buttons\">\n",
              "\n",
              "  <div class=\"colab-df-container\">\n",
              "    <button class=\"colab-df-convert\" onclick=\"convertToInteractive('df-5f163655-5869-4155-bf17-a7c0bc5ba542')\"\n",
              "            title=\"Convert this dataframe to an interactive table.\"\n",
              "            style=\"display:none;\">\n",
              "\n",
              "  <svg xmlns=\"http://www.w3.org/2000/svg\" height=\"24px\" viewBox=\"0 -960 960 960\">\n",
              "    <path d=\"M120-120v-720h720v720H120Zm60-500h600v-160H180v160Zm220 220h160v-160H400v160Zm0 220h160v-160H400v160ZM180-400h160v-160H180v160Zm440 0h160v-160H620v160ZM180-180h160v-160H180v160Zm440 0h160v-160H620v160Z\"/>\n",
              "  </svg>\n",
              "    </button>\n",
              "\n",
              "  <style>\n",
              "    .colab-df-container {\n",
              "      display:flex;\n",
              "      gap: 12px;\n",
              "    }\n",
              "\n",
              "    .colab-df-convert {\n",
              "      background-color: #E8F0FE;\n",
              "      border: none;\n",
              "      border-radius: 50%;\n",
              "      cursor: pointer;\n",
              "      display: none;\n",
              "      fill: #1967D2;\n",
              "      height: 32px;\n",
              "      padding: 0 0 0 0;\n",
              "      width: 32px;\n",
              "    }\n",
              "\n",
              "    .colab-df-convert:hover {\n",
              "      background-color: #E2EBFA;\n",
              "      box-shadow: 0px 1px 2px rgba(60, 64, 67, 0.3), 0px 1px 3px 1px rgba(60, 64, 67, 0.15);\n",
              "      fill: #174EA6;\n",
              "    }\n",
              "\n",
              "    .colab-df-buttons div {\n",
              "      margin-bottom: 4px;\n",
              "    }\n",
              "\n",
              "    [theme=dark] .colab-df-convert {\n",
              "      background-color: #3B4455;\n",
              "      fill: #D2E3FC;\n",
              "    }\n",
              "\n",
              "    [theme=dark] .colab-df-convert:hover {\n",
              "      background-color: #434B5C;\n",
              "      box-shadow: 0px 1px 3px 1px rgba(0, 0, 0, 0.15);\n",
              "      filter: drop-shadow(0px 1px 2px rgba(0, 0, 0, 0.3));\n",
              "      fill: #FFFFFF;\n",
              "    }\n",
              "  </style>\n",
              "\n",
              "    <script>\n",
              "      const buttonEl =\n",
              "        document.querySelector('#df-5f163655-5869-4155-bf17-a7c0bc5ba542 button.colab-df-convert');\n",
              "      buttonEl.style.display =\n",
              "        google.colab.kernel.accessAllowed ? 'block' : 'none';\n",
              "\n",
              "      async function convertToInteractive(key) {\n",
              "        const element = document.querySelector('#df-5f163655-5869-4155-bf17-a7c0bc5ba542');\n",
              "        const dataTable =\n",
              "          await google.colab.kernel.invokeFunction('convertToInteractive',\n",
              "                                                    [key], {});\n",
              "        if (!dataTable) return;\n",
              "\n",
              "        const docLinkHtml = 'Like what you see? Visit the ' +\n",
              "          '<a target=\"_blank\" href=https://colab.research.google.com/notebooks/data_table.ipynb>data table notebook</a>'\n",
              "          + ' to learn more about interactive tables.';\n",
              "        element.innerHTML = '';\n",
              "        dataTable['output_type'] = 'display_data';\n",
              "        await google.colab.output.renderOutput(dataTable, element);\n",
              "        const docLink = document.createElement('div');\n",
              "        docLink.innerHTML = docLinkHtml;\n",
              "        element.appendChild(docLink);\n",
              "      }\n",
              "    </script>\n",
              "  </div>\n",
              "\n",
              "\n",
              "<div id=\"df-0dce45a7-2600-4f41-bbf5-5644d705770a\">\n",
              "  <button class=\"colab-df-quickchart\" onclick=\"quickchart('df-0dce45a7-2600-4f41-bbf5-5644d705770a')\"\n",
              "            title=\"Suggest charts\"\n",
              "            style=\"display:none;\">\n",
              "\n",
              "<svg xmlns=\"http://www.w3.org/2000/svg\" height=\"24px\"viewBox=\"0 0 24 24\"\n",
              "     width=\"24px\">\n",
              "    <g>\n",
              "        <path d=\"M19 3H5c-1.1 0-2 .9-2 2v14c0 1.1.9 2 2 2h14c1.1 0 2-.9 2-2V5c0-1.1-.9-2-2-2zM9 17H7v-7h2v7zm4 0h-2V7h2v10zm4 0h-2v-4h2v4z\"/>\n",
              "    </g>\n",
              "</svg>\n",
              "  </button>\n",
              "\n",
              "<style>\n",
              "  .colab-df-quickchart {\n",
              "      --bg-color: #E8F0FE;\n",
              "      --fill-color: #1967D2;\n",
              "      --hover-bg-color: #E2EBFA;\n",
              "      --hover-fill-color: #174EA6;\n",
              "      --disabled-fill-color: #AAA;\n",
              "      --disabled-bg-color: #DDD;\n",
              "  }\n",
              "\n",
              "  [theme=dark] .colab-df-quickchart {\n",
              "      --bg-color: #3B4455;\n",
              "      --fill-color: #D2E3FC;\n",
              "      --hover-bg-color: #434B5C;\n",
              "      --hover-fill-color: #FFFFFF;\n",
              "      --disabled-bg-color: #3B4455;\n",
              "      --disabled-fill-color: #666;\n",
              "  }\n",
              "\n",
              "  .colab-df-quickchart {\n",
              "    background-color: var(--bg-color);\n",
              "    border: none;\n",
              "    border-radius: 50%;\n",
              "    cursor: pointer;\n",
              "    display: none;\n",
              "    fill: var(--fill-color);\n",
              "    height: 32px;\n",
              "    padding: 0;\n",
              "    width: 32px;\n",
              "  }\n",
              "\n",
              "  .colab-df-quickchart:hover {\n",
              "    background-color: var(--hover-bg-color);\n",
              "    box-shadow: 0 1px 2px rgba(60, 64, 67, 0.3), 0 1px 3px 1px rgba(60, 64, 67, 0.15);\n",
              "    fill: var(--button-hover-fill-color);\n",
              "  }\n",
              "\n",
              "  .colab-df-quickchart-complete:disabled,\n",
              "  .colab-df-quickchart-complete:disabled:hover {\n",
              "    background-color: var(--disabled-bg-color);\n",
              "    fill: var(--disabled-fill-color);\n",
              "    box-shadow: none;\n",
              "  }\n",
              "\n",
              "  .colab-df-spinner {\n",
              "    border: 2px solid var(--fill-color);\n",
              "    border-color: transparent;\n",
              "    border-bottom-color: var(--fill-color);\n",
              "    animation:\n",
              "      spin 1s steps(1) infinite;\n",
              "  }\n",
              "\n",
              "  @keyframes spin {\n",
              "    0% {\n",
              "      border-color: transparent;\n",
              "      border-bottom-color: var(--fill-color);\n",
              "      border-left-color: var(--fill-color);\n",
              "    }\n",
              "    20% {\n",
              "      border-color: transparent;\n",
              "      border-left-color: var(--fill-color);\n",
              "      border-top-color: var(--fill-color);\n",
              "    }\n",
              "    30% {\n",
              "      border-color: transparent;\n",
              "      border-left-color: var(--fill-color);\n",
              "      border-top-color: var(--fill-color);\n",
              "      border-right-color: var(--fill-color);\n",
              "    }\n",
              "    40% {\n",
              "      border-color: transparent;\n",
              "      border-right-color: var(--fill-color);\n",
              "      border-top-color: var(--fill-color);\n",
              "    }\n",
              "    60% {\n",
              "      border-color: transparent;\n",
              "      border-right-color: var(--fill-color);\n",
              "    }\n",
              "    80% {\n",
              "      border-color: transparent;\n",
              "      border-right-color: var(--fill-color);\n",
              "      border-bottom-color: var(--fill-color);\n",
              "    }\n",
              "    90% {\n",
              "      border-color: transparent;\n",
              "      border-bottom-color: var(--fill-color);\n",
              "    }\n",
              "  }\n",
              "</style>\n",
              "\n",
              "  <script>\n",
              "    async function quickchart(key) {\n",
              "      const quickchartButtonEl =\n",
              "        document.querySelector('#' + key + ' button');\n",
              "      quickchartButtonEl.disabled = true;  // To prevent multiple clicks.\n",
              "      quickchartButtonEl.classList.add('colab-df-spinner');\n",
              "      try {\n",
              "        const charts = await google.colab.kernel.invokeFunction(\n",
              "            'suggestCharts', [key], {});\n",
              "      } catch (error) {\n",
              "        console.error('Error during call to suggestCharts:', error);\n",
              "      }\n",
              "      quickchartButtonEl.classList.remove('colab-df-spinner');\n",
              "      quickchartButtonEl.classList.add('colab-df-quickchart-complete');\n",
              "    }\n",
              "    (() => {\n",
              "      let quickchartButtonEl =\n",
              "        document.querySelector('#df-0dce45a7-2600-4f41-bbf5-5644d705770a button');\n",
              "      quickchartButtonEl.style.display =\n",
              "        google.colab.kernel.accessAllowed ? 'block' : 'none';\n",
              "    })();\n",
              "  </script>\n",
              "</div>\n",
              "    </div>\n",
              "  </div>\n"
            ],
            "text/plain": [
              "                                                                             title  \\\n",
              "0   Donald Trump Sends Out Embarrassing New Year’s Eve Message; This is Disturbing   \n",
              "1             Drunk Bragging Trump Staffer Started Russian Collusion Investigation   \n",
              "\n",
              "                                                                                                                                                                                                                                                                                                                                                                                                                                                                                                                                                                                                                      text  \\\n",
              "0  Donald Trump just couldn t wish all Americans a Happy New Year and leave it at that. Instead, he had to give a shout out to his enemies, haters and  the very dishonest fake news media.  The former reality show star had just one job to do and he couldn t do it. As our Country rapidly grows stronger and smarter, I want to wish all of my friends, supporters, enemies, haters, and even the very dishonest Fake News Media, a Happy and Healthy New Year,  President Angry Pants tweeted.  2018 will be a great year for America! As our Country rapidly grows stronger and smarter, I want to wish all of m...   \n",
              "1  House Intelligence Committee Chairman Devin Nunes is going to have a bad day. He s been under the assumption, like many of us, that the Christopher Steele-dossier was what prompted the Russia investigation so he s been lashing out at the Department of Justice and the FBI in order to protect Trump. As it happens, the dossier is not what started the investigation, according to documents obtained by the New York Times.Former Trump campaign adviser George Papadopoulos was drunk in a wine bar when he revealed knowledge of Russian opposition research on Hillary Clinton.On top of that, Papadopoul...   \n",
              "\n",
              "  subject               date label  \n",
              "0    News  December 31, 2017  fake  \n",
              "1    News  December 31, 2017  fake  "
            ]
          },
          "execution_count": 20,
          "metadata": {},
          "output_type": "execute_result"
        }
      ],
      "source": [
        "fake = pd.read_csv(\"/content/fake.csv\")\n",
        "fake['label'] = \"fake\" # 0 as fake, 1 as real\n",
        "fake.head(2)"
      ]
    },
    {
      "cell_type": "code",
      "execution_count": null,
      "metadata": {
        "colab": {
          "base_uri": "https://localhost:8080/",
          "height": 355
        },
        "id": "EjRgon5h7swQ",
        "outputId": "a0afb030-feb1-47a8-e9c4-43a0ffaa3dd2"
      },
      "outputs": [
        {
          "data": {
            "application/vnd.google.colaboratory.intrinsic+json": {
              "summary": "{\n  \"name\": \"real\",\n  \"rows\": 21417,\n  \"fields\": [\n    {\n      \"column\": \"title\",\n      \"properties\": {\n        \"dtype\": \"string\",\n        \"num_unique_values\": 20826,\n        \"samples\": [\n          \"German, Turkish foreign ministers meet after detainee released\",\n          \"Kremlin calls North Korea's latest missile launch another 'provocation'\",\n          \"Transgender soldiers, veterans shaken by Trump's ban on their service\"\n        ],\n        \"semantic_type\": \"\",\n        \"description\": \"\"\n      }\n    },\n    {\n      \"column\": \"text\",\n      \"properties\": {\n        \"dtype\": \"string\",\n        \"num_unique_values\": 21192,\n        \"samples\": [\n          \"WASHINGTON (Reuters) - A majority of the U.S. Senate on Tuesday backed a new round of disaster aid to help Puerto Rico and several states recover from damage from hurricanes and wildfires. The legislation would provide $36.5 billion in emergency relief as Puerto Rico in particular struggles to regain electricity and other basic services following destructive hurricanes. The House of Representatives approved the bill earlier this month. The Trump administration already has indicated it will seek another round of emergency relief from Congress. \",\n          \"BUDAPEST (Reuters) - About a thousand Hungarians protested on Friday against a crackdown on the main opposition party Jobbik which has been  threatened by a record political campaign fine that the party leader describes as a  death sentence  for democracy. Despite the gloomy rhetoric and Jobbik saying it was fighting for survival, support for the demonstration was well down on other similar rallies over the past year. Hungarians will vote for a new parliament in April and Prime Minister Viktor Orban s conservative, anti-migrant Fidesz party is far ahead in the polls, with Jobbik its nearest rival. Jobbik, once on the far right, has turned toward the center in a bid to attract more support and is now campaigning nationwide against Orban, depicting him as the leader of a criminal gang. Orban, rejecting the charges, says his financial standing is  an open book . Last week the state audit office (ASZ) ruled Jobbik had bought political posters far below market prices, breaching rules on political funding, then it slapped a 663 million forint ($2.5 million) penalty on the party. The protesters, waving Jobbik flags and posters deriding the ruling elite, gathered outside the headquarters of Orban s Fidesz party.  What we see unfolding is not an audit office investigation. It is not an official penalty. This is a death sentence with Jobbik s name on it. But in reality, it is a death sentence for Hungarian democracy,  Jobbiik leader Gabor Vona told the crowd. A government spokesman could not comment immediately on his remarks. ASZ chairman Laszlo Domokos is a former Fidesz lawmaker, whom Jobbik and other critics accuse of making decisions in favor of Orban. The audit office denies that. On Friday, ASZ again called on Jobbik to submit information that would challenge its findings, saying it acted fully within its rights throughout the probe. The ruling Fidesz party and the government have denied any involvement in the ASZ probe.  This case has nothing to do with the election campaign,  Orban aide Janos Lazar said on Thursday. For over a year Fidesz has targeted Jobbik, whose move to the center could upend the longstanding status quo of a dominant Fidesz with weaker opponents to its left and its right, said analyst Zoltan Novak at the Centre for Fair Political Analysis. Gyorgy Illes, a 67-year-old pensioner attending the rally, said he used to be a Socialist supporter but got disillusioned as the party struggled to overcome its internal divisions.  This ASZ probe is a clear sign that Orban is way past any remedy. It is a ruthless attack on everything we hold dear. Democracy, the rule of law, equality, you name it,  he said. \",\n          \"BEIJING/TAIPEI (Reuters) - China accused the United States on Thursday of interfering in its internal affairs and said it had lodged a complaint after U.S. President Donald Trump signed into law an act laying the groundwork for possible U.S. navy visits to self-ruled Taiwan. Tensions have risen in recent days after a senior Chinese diplomat threatened China would invade Taiwan if any U.S. warships made port visits to the island which China claims as its own territory. On Monday, Chinese jets carried out  island encirclement patrols  around Taiwan, with state media showing pictures of bombers with cruise missiles slung under their wings as they carried out the exercise. On Tuesday, Trump signed into law the National Defense Authorization Act for the 2018 fiscal year, which authorizes the possibility of mutual visits by navy vessels between Taiwan and the United States. Such visits would be the first since the United States ended formal diplomatic relations with Taiwan in 1979 and established ties with Beijing. Chinese Foreign Ministry spokesman Lu Kang said while the Taiwan sections of the law were not legally binding, they seriously violate the  One China  policy and  constitute an interference in China s internal affairs .   China is resolutely opposed to this, and we have already lodged stern representations with the U.S. government,  Lu told a daily news briefing. China is firmly opposed to any official exchanges, military contact, or arms sales between Taiwan and the United States, he added.  Proudly democratic Taiwan has become increasingly concerned with the ramped up Chinese military presence, that has included several rounds of Chinese air force drills around the island in recent months.  Taiwan is confident of its defenses and responded quickly to the Chinese air force drills this week, its government said, denouncing the rise in China s military deployments as irresponsible. Taiwan presidential spokesman Alex Huang, speaking to Taiwan media in comments reported late on Wednesday, said the defense ministry had kept a close watch on the patrols and responded immediately and properly. Taiwan  can ensure there are no concerns at all about national security, and people can rest assured , Huang said. Both sides of the narrow Taiwan Strait, which separates Taiwan from its giant neighbor, have a responsibility to protect peace and stability, he added.  Such a raised military posture that may impact upon and harm regional peace and stability and cross-strait ties does not give a feeling of responsibility, and the international community does not look favorably upon this,  Huang was quoted as saying. Relations have soured considerably since Tsai Ing-wen, who leads Taiwan s independence-leaning Democratic Progressive Party, won presidential elections last year. China suspects Tsai wants to declare the island s formal independence, a red line for Beijing. Tsai says she wants to maintain peace with China but will defend Taiwan s security. Taiwan is well equipped with mostly U.S. weapons but has been pressing for more advanced equipment to deal with what it sees as a rising threat from China. The United States is bound by law to provide the island with the means to defend itself. China has never renounced the use of force to bring Taiwan under its control. \"\n        ],\n        \"semantic_type\": \"\",\n        \"description\": \"\"\n      }\n    },\n    {\n      \"column\": \"subject\",\n      \"properties\": {\n        \"dtype\": \"category\",\n        \"num_unique_values\": 2,\n        \"samples\": [\n          \"worldnews\",\n          \"politicsNews\"\n        ],\n        \"semantic_type\": \"\",\n        \"description\": \"\"\n      }\n    },\n    {\n      \"column\": \"date\",\n      \"properties\": {\n        \"dtype\": \"object\",\n        \"num_unique_values\": 716,\n        \"samples\": [\n          \"September 2, 2017 \",\n          \"February 2, 2017 \"\n        ],\n        \"semantic_type\": \"\",\n        \"description\": \"\"\n      }\n    },\n    {\n      \"column\": \"label\",\n      \"properties\": {\n        \"dtype\": \"category\",\n        \"num_unique_values\": 1,\n        \"samples\": [\n          \"real\"\n        ],\n        \"semantic_type\": \"\",\n        \"description\": \"\"\n      }\n    }\n  ]\n}",
              "type": "dataframe",
              "variable_name": "real"
            },
            "text/html": [
              "\n",
              "  <div id=\"df-0e9b0906-176d-4ed5-a6e4-b721ccf7355a\" class=\"colab-df-container\">\n",
              "    <div>\n",
              "<style scoped>\n",
              "    .dataframe tbody tr th:only-of-type {\n",
              "        vertical-align: middle;\n",
              "    }\n",
              "\n",
              "    .dataframe tbody tr th {\n",
              "        vertical-align: top;\n",
              "    }\n",
              "\n",
              "    .dataframe thead th {\n",
              "        text-align: right;\n",
              "    }\n",
              "</style>\n",
              "<table border=\"1\" class=\"dataframe\">\n",
              "  <thead>\n",
              "    <tr style=\"text-align: right;\">\n",
              "      <th></th>\n",
              "      <th>title</th>\n",
              "      <th>text</th>\n",
              "      <th>subject</th>\n",
              "      <th>date</th>\n",
              "      <th>label</th>\n",
              "    </tr>\n",
              "  </thead>\n",
              "  <tbody>\n",
              "    <tr>\n",
              "      <th>0</th>\n",
              "      <td>As U.S. budget fight looms, Republicans flip their fiscal script</td>\n",
              "      <td>WASHINGTON (Reuters) - The head of a conservative Republican faction in the U.S. Congress, who voted this month for a huge expansion of the national debt to pay for tax cuts, called himself a “fiscal conservative” on Sunday and urged budget restraint in 2018. In keeping with a sharp pivot under way among Republicans, U.S. Representative Mark Meadows, speaking on CBS’ “Face the Nation,” drew a hard line on federal spending, which lawmakers are bracing to do battle over in January. When they return from the holidays on Wednesday, lawmakers will begin trying to pass a federal budget in a figh...</td>\n",
              "      <td>politicsNews</td>\n",
              "      <td>December 31, 2017</td>\n",
              "      <td>real</td>\n",
              "    </tr>\n",
              "    <tr>\n",
              "      <th>1</th>\n",
              "      <td>U.S. military to accept transgender recruits on Monday: Pentagon</td>\n",
              "      <td>WASHINGTON (Reuters) - Transgender people will be allowed for the first time to enlist in the U.S. military starting on Monday as ordered by federal courts, the Pentagon said on Friday, after President Donald Trump’s administration decided not to appeal rulings that blocked his transgender ban. Two federal appeals courts, one in Washington and one in Virginia, last week rejected the administration’s request to put on hold orders by lower court judges requiring the military to begin accepting transgender recruits on Jan. 1. A Justice Department official said the administration will not chal...</td>\n",
              "      <td>politicsNews</td>\n",
              "      <td>December 29, 2017</td>\n",
              "      <td>real</td>\n",
              "    </tr>\n",
              "  </tbody>\n",
              "</table>\n",
              "</div>\n",
              "    <div class=\"colab-df-buttons\">\n",
              "\n",
              "  <div class=\"colab-df-container\">\n",
              "    <button class=\"colab-df-convert\" onclick=\"convertToInteractive('df-0e9b0906-176d-4ed5-a6e4-b721ccf7355a')\"\n",
              "            title=\"Convert this dataframe to an interactive table.\"\n",
              "            style=\"display:none;\">\n",
              "\n",
              "  <svg xmlns=\"http://www.w3.org/2000/svg\" height=\"24px\" viewBox=\"0 -960 960 960\">\n",
              "    <path d=\"M120-120v-720h720v720H120Zm60-500h600v-160H180v160Zm220 220h160v-160H400v160Zm0 220h160v-160H400v160ZM180-400h160v-160H180v160Zm440 0h160v-160H620v160ZM180-180h160v-160H180v160Zm440 0h160v-160H620v160Z\"/>\n",
              "  </svg>\n",
              "    </button>\n",
              "\n",
              "  <style>\n",
              "    .colab-df-container {\n",
              "      display:flex;\n",
              "      gap: 12px;\n",
              "    }\n",
              "\n",
              "    .colab-df-convert {\n",
              "      background-color: #E8F0FE;\n",
              "      border: none;\n",
              "      border-radius: 50%;\n",
              "      cursor: pointer;\n",
              "      display: none;\n",
              "      fill: #1967D2;\n",
              "      height: 32px;\n",
              "      padding: 0 0 0 0;\n",
              "      width: 32px;\n",
              "    }\n",
              "\n",
              "    .colab-df-convert:hover {\n",
              "      background-color: #E2EBFA;\n",
              "      box-shadow: 0px 1px 2px rgba(60, 64, 67, 0.3), 0px 1px 3px 1px rgba(60, 64, 67, 0.15);\n",
              "      fill: #174EA6;\n",
              "    }\n",
              "\n",
              "    .colab-df-buttons div {\n",
              "      margin-bottom: 4px;\n",
              "    }\n",
              "\n",
              "    [theme=dark] .colab-df-convert {\n",
              "      background-color: #3B4455;\n",
              "      fill: #D2E3FC;\n",
              "    }\n",
              "\n",
              "    [theme=dark] .colab-df-convert:hover {\n",
              "      background-color: #434B5C;\n",
              "      box-shadow: 0px 1px 3px 1px rgba(0, 0, 0, 0.15);\n",
              "      filter: drop-shadow(0px 1px 2px rgba(0, 0, 0, 0.3));\n",
              "      fill: #FFFFFF;\n",
              "    }\n",
              "  </style>\n",
              "\n",
              "    <script>\n",
              "      const buttonEl =\n",
              "        document.querySelector('#df-0e9b0906-176d-4ed5-a6e4-b721ccf7355a button.colab-df-convert');\n",
              "      buttonEl.style.display =\n",
              "        google.colab.kernel.accessAllowed ? 'block' : 'none';\n",
              "\n",
              "      async function convertToInteractive(key) {\n",
              "        const element = document.querySelector('#df-0e9b0906-176d-4ed5-a6e4-b721ccf7355a');\n",
              "        const dataTable =\n",
              "          await google.colab.kernel.invokeFunction('convertToInteractive',\n",
              "                                                    [key], {});\n",
              "        if (!dataTable) return;\n",
              "\n",
              "        const docLinkHtml = 'Like what you see? Visit the ' +\n",
              "          '<a target=\"_blank\" href=https://colab.research.google.com/notebooks/data_table.ipynb>data table notebook</a>'\n",
              "          + ' to learn more about interactive tables.';\n",
              "        element.innerHTML = '';\n",
              "        dataTable['output_type'] = 'display_data';\n",
              "        await google.colab.output.renderOutput(dataTable, element);\n",
              "        const docLink = document.createElement('div');\n",
              "        docLink.innerHTML = docLinkHtml;\n",
              "        element.appendChild(docLink);\n",
              "      }\n",
              "    </script>\n",
              "  </div>\n",
              "\n",
              "\n",
              "<div id=\"df-725fc839-8410-4c6e-8fa8-7ee5a96c8199\">\n",
              "  <button class=\"colab-df-quickchart\" onclick=\"quickchart('df-725fc839-8410-4c6e-8fa8-7ee5a96c8199')\"\n",
              "            title=\"Suggest charts\"\n",
              "            style=\"display:none;\">\n",
              "\n",
              "<svg xmlns=\"http://www.w3.org/2000/svg\" height=\"24px\"viewBox=\"0 0 24 24\"\n",
              "     width=\"24px\">\n",
              "    <g>\n",
              "        <path d=\"M19 3H5c-1.1 0-2 .9-2 2v14c0 1.1.9 2 2 2h14c1.1 0 2-.9 2-2V5c0-1.1-.9-2-2-2zM9 17H7v-7h2v7zm4 0h-2V7h2v10zm4 0h-2v-4h2v4z\"/>\n",
              "    </g>\n",
              "</svg>\n",
              "  </button>\n",
              "\n",
              "<style>\n",
              "  .colab-df-quickchart {\n",
              "      --bg-color: #E8F0FE;\n",
              "      --fill-color: #1967D2;\n",
              "      --hover-bg-color: #E2EBFA;\n",
              "      --hover-fill-color: #174EA6;\n",
              "      --disabled-fill-color: #AAA;\n",
              "      --disabled-bg-color: #DDD;\n",
              "  }\n",
              "\n",
              "  [theme=dark] .colab-df-quickchart {\n",
              "      --bg-color: #3B4455;\n",
              "      --fill-color: #D2E3FC;\n",
              "      --hover-bg-color: #434B5C;\n",
              "      --hover-fill-color: #FFFFFF;\n",
              "      --disabled-bg-color: #3B4455;\n",
              "      --disabled-fill-color: #666;\n",
              "  }\n",
              "\n",
              "  .colab-df-quickchart {\n",
              "    background-color: var(--bg-color);\n",
              "    border: none;\n",
              "    border-radius: 50%;\n",
              "    cursor: pointer;\n",
              "    display: none;\n",
              "    fill: var(--fill-color);\n",
              "    height: 32px;\n",
              "    padding: 0;\n",
              "    width: 32px;\n",
              "  }\n",
              "\n",
              "  .colab-df-quickchart:hover {\n",
              "    background-color: var(--hover-bg-color);\n",
              "    box-shadow: 0 1px 2px rgba(60, 64, 67, 0.3), 0 1px 3px 1px rgba(60, 64, 67, 0.15);\n",
              "    fill: var(--button-hover-fill-color);\n",
              "  }\n",
              "\n",
              "  .colab-df-quickchart-complete:disabled,\n",
              "  .colab-df-quickchart-complete:disabled:hover {\n",
              "    background-color: var(--disabled-bg-color);\n",
              "    fill: var(--disabled-fill-color);\n",
              "    box-shadow: none;\n",
              "  }\n",
              "\n",
              "  .colab-df-spinner {\n",
              "    border: 2px solid var(--fill-color);\n",
              "    border-color: transparent;\n",
              "    border-bottom-color: var(--fill-color);\n",
              "    animation:\n",
              "      spin 1s steps(1) infinite;\n",
              "  }\n",
              "\n",
              "  @keyframes spin {\n",
              "    0% {\n",
              "      border-color: transparent;\n",
              "      border-bottom-color: var(--fill-color);\n",
              "      border-left-color: var(--fill-color);\n",
              "    }\n",
              "    20% {\n",
              "      border-color: transparent;\n",
              "      border-left-color: var(--fill-color);\n",
              "      border-top-color: var(--fill-color);\n",
              "    }\n",
              "    30% {\n",
              "      border-color: transparent;\n",
              "      border-left-color: var(--fill-color);\n",
              "      border-top-color: var(--fill-color);\n",
              "      border-right-color: var(--fill-color);\n",
              "    }\n",
              "    40% {\n",
              "      border-color: transparent;\n",
              "      border-right-color: var(--fill-color);\n",
              "      border-top-color: var(--fill-color);\n",
              "    }\n",
              "    60% {\n",
              "      border-color: transparent;\n",
              "      border-right-color: var(--fill-color);\n",
              "    }\n",
              "    80% {\n",
              "      border-color: transparent;\n",
              "      border-right-color: var(--fill-color);\n",
              "      border-bottom-color: var(--fill-color);\n",
              "    }\n",
              "    90% {\n",
              "      border-color: transparent;\n",
              "      border-bottom-color: var(--fill-color);\n",
              "    }\n",
              "  }\n",
              "</style>\n",
              "\n",
              "  <script>\n",
              "    async function quickchart(key) {\n",
              "      const quickchartButtonEl =\n",
              "        document.querySelector('#' + key + ' button');\n",
              "      quickchartButtonEl.disabled = true;  // To prevent multiple clicks.\n",
              "      quickchartButtonEl.classList.add('colab-df-spinner');\n",
              "      try {\n",
              "        const charts = await google.colab.kernel.invokeFunction(\n",
              "            'suggestCharts', [key], {});\n",
              "      } catch (error) {\n",
              "        console.error('Error during call to suggestCharts:', error);\n",
              "      }\n",
              "      quickchartButtonEl.classList.remove('colab-df-spinner');\n",
              "      quickchartButtonEl.classList.add('colab-df-quickchart-complete');\n",
              "    }\n",
              "    (() => {\n",
              "      let quickchartButtonEl =\n",
              "        document.querySelector('#df-725fc839-8410-4c6e-8fa8-7ee5a96c8199 button');\n",
              "      quickchartButtonEl.style.display =\n",
              "        google.colab.kernel.accessAllowed ? 'block' : 'none';\n",
              "    })();\n",
              "  </script>\n",
              "</div>\n",
              "    </div>\n",
              "  </div>\n"
            ],
            "text/plain": [
              "                                                              title  \\\n",
              "0  As U.S. budget fight looms, Republicans flip their fiscal script   \n",
              "1  U.S. military to accept transgender recruits on Monday: Pentagon   \n",
              "\n",
              "                                                                                                                                                                                                                                                                                                                                                                                                                                                                                                                                                                                                                      text  \\\n",
              "0  WASHINGTON (Reuters) - The head of a conservative Republican faction in the U.S. Congress, who voted this month for a huge expansion of the national debt to pay for tax cuts, called himself a “fiscal conservative” on Sunday and urged budget restraint in 2018. In keeping with a sharp pivot under way among Republicans, U.S. Representative Mark Meadows, speaking on CBS’ “Face the Nation,” drew a hard line on federal spending, which lawmakers are bracing to do battle over in January. When they return from the holidays on Wednesday, lawmakers will begin trying to pass a federal budget in a figh...   \n",
              "1  WASHINGTON (Reuters) - Transgender people will be allowed for the first time to enlist in the U.S. military starting on Monday as ordered by federal courts, the Pentagon said on Friday, after President Donald Trump’s administration decided not to appeal rulings that blocked his transgender ban. Two federal appeals courts, one in Washington and one in Virginia, last week rejected the administration’s request to put on hold orders by lower court judges requiring the military to begin accepting transgender recruits on Jan. 1. A Justice Department official said the administration will not chal...   \n",
              "\n",
              "        subject                date label  \n",
              "0  politicsNews  December 31, 2017   real  \n",
              "1  politicsNews  December 29, 2017   real  "
            ]
          },
          "execution_count": 21,
          "metadata": {},
          "output_type": "execute_result"
        }
      ],
      "source": [
        "real = pd.read_csv(\"/content/true.csv\")\n",
        "real['label'] = \"real\"\n",
        "real.head(2)"
      ]
    },
    {
      "cell_type": "code",
      "execution_count": null,
      "metadata": {
        "colab": {
          "base_uri": "https://localhost:8080/",
          "height": 987
        },
        "id": "dX9-Bu0j7uor",
        "outputId": "92a2a652-199d-4a08-c8aa-627852a582f3"
      },
      "outputs": [
        {
          "data": {
            "application/vnd.google.colaboratory.intrinsic+json": {
              "summary": "{\n  \"name\": \"news\",\n  \"rows\": 44898,\n  \"fields\": [\n    {\n      \"column\": \"title\",\n      \"properties\": {\n        \"dtype\": \"string\",\n        \"num_unique_values\": 38729,\n        \"samples\": [\n          \"CLASSY! SNOOP DOGG Scheduled To Pimp For Hillary At The DNC Convention\",\n          \"THE PURGE: NYC Mayor De Blasio to Review \\u2018All Symbols of Hate\\u201d on City Property\",\n          \" WATCH: Batsh*t Crazy Christian \\u2018Patriot\\u2019 Threatens ISIS-Like Harm To Texas Mosque\"\n        ],\n        \"semantic_type\": \"\",\n        \"description\": \"\"\n      }\n    },\n    {\n      \"column\": \"text\",\n      \"properties\": {\n        \"dtype\": \"string\",\n        \"num_unique_values\": 38646,\n        \"samples\": [\n          \"WASHINGTON (Reuters) - A former U.S. National Security Agency employee pleaded guilty on Friday to illegally taking classified information outside the spy agency that an intelligence official said was later stolen from his home computer by Russian hackers. Nghia Hoang Pho, who worked in the NSA\\u2019s elite hacking unit, retained U.S. government documents containing top-secret national defense information between 2010 and March 2015, the Justice Department said. Pho, a 67-year-old U.S. citizen born in Vietnam, faces up to 10 years in prison. He is not being held by authorities as he awaits his sentencing, which is scheduled for April 6, 2018, in U.S. District Court in Baltimore. A U.S. intelligence official, speaking on the condition of anonymity, said Pho was the same NSA employee who had been identified in media reports for using Kaspersky Lab antivirus software on his home computer. Some U.S. officials have said software from the Moscow-based company allowed Russian intelligence agencies to pilfer sensitive secrets from the United States through Pho\\u2019s computer.  The Department of Homeland Security in September ordered federal agencies to start removing Kaspersky software from their computers. U.S. officials have said the firm either has ties to Russian intelligence or is forced to share information held on its servers with Russian officials. Kaspersky has repeatedly denied the allegations but acknowledged its software in 2014 took NSA code for a hacking tool from a customer\\u2019s computer before its chief executive, Eugene Kaspersky, ordered the code destroyed. The court documents do not appear to make mention of Russian intelligence agencies or Kaspersky Lab. The connection was first reported by the New York Times. The intelligence official declined to comment on whether  Pho knew the software he was using at home was vulnerable. Pho is at least the third NSA employee or contractor to be charged within the past two years on counts of improperly taking classified information from the agency, breaches that have prompted criticism of the secretive NSA. A federal grand jury indicted former NSA contractor Harold Martin in February on charges alleging he spent up to 20 years stealing up to 50 terabytes of highly sensitive government material from the U.S. intelligence community, which were hoarded at his home. In June another NSA contractor, Reality Winner, 25, was charged with leaking classified material about Russian interference in the 2016 U.S. presidential election to a news outlet. She pleaded not guilty. And in 2013, former contractor Edward Snowden pilfered secrets about NSA\\u2019s surveillance programs and shared them with journalists. He now lives in Moscow. Pho, of Ellicott City, Maryland, took both physical and digital documents that contained \\u201chighly classified information of the United States,\\u201d including information labeled as \\u201ctop secret,\\u201d according to court records unsealed Friday. He was aware the documents contained sensitive information and kept them at his residence in Maryland, the records said. Asked for comment, Pho\\u2019s attorney, Robert Bonsib, said, \\u201cAny conversations regarding this case will be made in the courtroom during the sentencing.\\u201d He declined to comment further. Officials at the NSA and other U.S. intelligence agencies did not immediately respond to requests for comment. The NSA, whose main mission is gathering and analyzing foreign communications for potential security threats, is based at Fort Meade, Maryland. \",\n          \"On Saturday, Green Party candidate Jill Stein was forced to drop her bid for a recount in Pennsylvania when a judge decided on a $1 million bond.Spokesman Sam Scarrow revealed in an emailed statement that an attorney for the Stein campaign said the price was just too high. Petitioners are regular citizens of ordinary means. They cannot afford to post the $1,000,000 bond required by the court,  wrote the lawyer.Stein shared her thoughts on Twitter.How odd is it that we must jump through bureaucratic hoops and raise millions of dollars so we can trust our election results? #Recount2016  Dr. Jill Stein (@DrJillStein) December 4, 2016According to court documents, Donald Trump s campaign requested that the judge set the bond for the recount at $10 million.Stein has filed for recounts of the presidential election in Wisconsin, Pennsylvania, and Michigan. Hillary Clinton announced that she would back Stein s recount efforts in all three states, which prompted Trump to lose his mind. He railed against the efforts on Twitter and denounced the bid for recounts as nothing more than a  scam.  Ironically, he made the case for a recount of even more states at the very same time with his own claims of widespread voter fraud.It is unlikely that the recount would successfully change the outcome of the election in the long run, especially since a margin of this size has never before been overcome. However, Trump sure was acting like he was scared to death of a second look. It seems that, at least in Pennsylvania, he is going to get his way. In Wisconsin and Michigan, Trump has not been so lucky. The recounts in both of these states have already begun. But the push for a recount in the Keystone State seems to have come to an end.On Saturday night, the Pennsylvania GOP issued a statement that read, in part: The filing of a discontinuance of the Election Contest by Jill Stein s petitioners tonight is a recognition that their Election Contest was completely without merit, and meant solely for purposes to delay the Electoral College vote in Pennsylvania for President-Elect Trump Candidate Jill Stein s allegations created the false allusion that some unidentified foreign government hacked our state s voting systems when absolutely no such proof existed. We believe that she always knew that she had no such proof. Pennsylvania election officials published the updated vote count on Friday, which showed Trump s lead over his Democratic rival shrinking to 49,000 from 71,000. As shocking as this may sound, this did not meet Pennsylvania s 0.5 percent trigger for an automatic statewide recount.Featured image via Win McNamee/Getty Images\",\n          \"A Wisconsin man who believed it to be his  CONSTITUTIONAL DUTY  to kill the President was convicted last week of two counts of threatening Barack Obama. After four hours of deliberations, a jury of seven men and five women found 55-year-old Brian Dennis Dutcher guilty of writing a Facebook comment about assassinating the President upon learning of an upcoming visit, and of telling a security guard he would shoot Obama the day before POTUS  arrival in Tomah.In comments under a Facebook post in which he informed people that  all members of the fed gov have targets on their foreheads,  and that they should be shot on sight, Dutcher gleefully remarked that  the upsurper is coming HERE. saving me a 800 mile trip.  Dutcher explained that he planned to kill the President so his daughter can  live free. That s it! Thursday I will be in La Crosse. Hopefully I will get a clear shot at the pretend president,  he said in another post that was deleted before we had a chance to snag a screenshot in June.  Killing him is our CONSTITUTIONAL DUTY! In numerous other posts, Dutcher discussed killing the President, even expressing a desire for the Secret Service to  step out of the way long enough for someone    like him    to take the shot  so the President could be  exucuted.   Dutcher also said that he had a stockpile of fully automatic weapons and ammunitions, as well as plastic explosives, mortars, and other things that would make any NRA member s pants tighten a bit.With all that heavy equipment, it was shocking that Dutcher was arrested with After Tough Guy s arrest on July 2, Dutcher told Secret Service that he meant what he said, and he absolutely intended to use the slingshot to kill the  usurper. Dutch  was detained for 24 hours at a mental health facility in La Crosse, where he threatened the staff and accused them of   helping the tyrant.  He was then moved to Dane County Jail. He said he was very accurate with a slingshot,  Secret Service Special Agent Jeffrey Ferris testified.  His true intention was to circumvent security and figure out how to shoot (Obama) with a slingshot.  Dutcher told police that he had hunted animals with the slingshot and that he could kill a human with it. He also referenced the Biblical story of David and Goliath, with Obama apparently being the latter in the tale.Dennis the Menace Dutcher is due to be sentenced for his crimes in March. He faces up to five years in prison for each count, so he may have a long time to sit in the corner and think about what he did.Featured image via Wisconsin State Journal/Wikimedia Commons\"\n        ],\n        \"semantic_type\": \"\",\n        \"description\": \"\"\n      }\n    },\n    {\n      \"column\": \"subject\",\n      \"properties\": {\n        \"dtype\": \"category\",\n        \"num_unique_values\": 8,\n        \"samples\": [\n          \"left-news\",\n          \"politics\",\n          \"politicsNews\"\n        ],\n        \"semantic_type\": \"\",\n        \"description\": \"\"\n      }\n    },\n    {\n      \"column\": \"date\",\n      \"properties\": {\n        \"dtype\": \"category\",\n        \"num_unique_values\": 2397,\n        \"samples\": [\n          \"November 13, 2016\",\n          \"October 15, 2017 \",\n          \"Mar 5, 2017\"\n        ],\n        \"semantic_type\": \"\",\n        \"description\": \"\"\n      }\n    },\n    {\n      \"column\": \"label\",\n      \"properties\": {\n        \"dtype\": \"category\",\n        \"num_unique_values\": 2,\n        \"samples\": [\n          \"fake\",\n          \"real\"\n        ],\n        \"semantic_type\": \"\",\n        \"description\": \"\"\n      }\n    }\n  ]\n}",
              "type": "dataframe",
              "variable_name": "news"
            },
            "text/html": [
              "\n",
              "  <div id=\"df-f6ad5dbb-b45b-4b8b-b781-c3de0e4493c2\" class=\"colab-df-container\">\n",
              "    <div>\n",
              "<style scoped>\n",
              "    .dataframe tbody tr th:only-of-type {\n",
              "        vertical-align: middle;\n",
              "    }\n",
              "\n",
              "    .dataframe tbody tr th {\n",
              "        vertical-align: top;\n",
              "    }\n",
              "\n",
              "    .dataframe thead th {\n",
              "        text-align: right;\n",
              "    }\n",
              "</style>\n",
              "<table border=\"1\" class=\"dataframe\">\n",
              "  <thead>\n",
              "    <tr style=\"text-align: right;\">\n",
              "      <th></th>\n",
              "      <th>title</th>\n",
              "      <th>text</th>\n",
              "      <th>subject</th>\n",
              "      <th>date</th>\n",
              "      <th>label</th>\n",
              "    </tr>\n",
              "  </thead>\n",
              "  <tbody>\n",
              "    <tr>\n",
              "      <th>0</th>\n",
              "      <td>Obama adviser Deese to lead White House's Supreme Court process</td>\n",
              "      <td>WASHINGTON (Reuters) - President Barack Obama has turned to senior adviser Brian Deese, an economic expert who previously led the administration’s climate change efforts, to head a team formed to pick a Supreme Court nominee and win confirmation, the White House said. White House counsel Neil Eggleston will be a part of that team and will steer the legal process, including the vetting of potential candidates, administration officials said on Monday. Leading Republicans have vowed to block any nominee Obama chooses, leaving the White House with the challenge of finding someone it believes c...</td>\n",
              "      <td>politicsNews</td>\n",
              "      <td>February 29, 2016</td>\n",
              "      <td>real</td>\n",
              "    </tr>\n",
              "    <tr>\n",
              "      <th>1</th>\n",
              "      <td>Trump says abortion doctors, not women should face punishment</td>\n",
              "      <td>WASHINGTON (Reuters) - Donald Trump on Wednesday rowed back statements that women who sought abortions under a proposed ban should be punished. “If Congress were to pass legislation making abortion illegal and the federal courts upheld this legislation, or any state were permitted to ban abortion under state and federal law, the doctor or any other person performing this illegal act upon a woman would be held legally responsible, not the woman,” Trump said in a statement.  It contradicted an earlier statement during an MSNBC town hall appearance when he said in response to questions from t...</td>\n",
              "      <td>politicsNews</td>\n",
              "      <td>March 30, 2016</td>\n",
              "      <td>real</td>\n",
              "    </tr>\n",
              "    <tr>\n",
              "      <th>2</th>\n",
              "      <td>#VeryFakeNews CNN BRAGS ABOUT RATINGS To President Trump On Twitter After CNN Producer Is Caught On Video Admitting Trump-Russia Stories Are Fake News…Only About The RATINGS!</td>\n",
              "      <td>James O Keefe s Project Veritas reporters went undercover at CNN to investigate the #VeryFakeNews network to determine the motivation behind CNN s Trump-Russia collusion obsession. Since the inauguration, CNN has mentioned  Russian story  nearly 16,000 times.Project Veritas  reporters can be seen in the video below having a conversation with CNN s supervising producer John Bonifield. The reporter talked to Bonifield first about the constant barrage of Trump-Russia stories on CNN. Bonifield admitted that although CNN has no evidence or proof of Trump involvement with Russia, they continue t...</td>\n",
              "      <td>left-news</td>\n",
              "      <td>Jun 27, 2017</td>\n",
              "      <td>fake</td>\n",
              "    </tr>\n",
              "    <tr>\n",
              "      <th>3</th>\n",
              "      <td>Trump Attacks James Comey For Not Jailing Clinton: ‘She Was Guilty Of Every Charge’ (VIDEO)</td>\n",
              "      <td>In an interview with Fox Business that aired Tuesday, Donald Trump responded to news that the FBI had successfully obtained a FISA warrant to look into his former advisor Carter Page by trashing James Comey for not locking Hillary Clinton up. Sure, Clinton did not commit any crimes and was never charged with anything, but according to Trump she is GUILTY GUILTY GUILTY. When Jim Comey came out, he saved Hillary Clinton. He saved her life, Trump said, apparently forgetting that a certain letter from Comey helped swing the election his way. When he was reading those charges, she was guilty of...</td>\n",
              "      <td>News</td>\n",
              "      <td>April 12, 2017</td>\n",
              "      <td>fake</td>\n",
              "    </tr>\n",
              "    <tr>\n",
              "      <th>4</th>\n",
              "      <td>Trump Just Sent A MAJOR F*ck You To The Supreme Court, CONFIRMS His Own Incompetency (DETAILS)</td>\n",
              "      <td>Donald Trump and his administration have proven time and time again that they are incapable of performing even the most simple, basic tasks that only require basic human decency and manners. The latest gaffe in the White House demonstrates that even as Trump s 100th day approaches, they still can t get their sh*t together.According to a White House aide and court spokeswoman, Trump did not extend a formal invitation to the Supreme Court to have dinner at the White House on Thursday. An initial report that was released early Sunday stated that a dinner WOULD take place: That evening, the Pr...</td>\n",
              "      <td>News</td>\n",
              "      <td>April 25, 2017</td>\n",
              "      <td>fake</td>\n",
              "    </tr>\n",
              "  </tbody>\n",
              "</table>\n",
              "</div>\n",
              "    <div class=\"colab-df-buttons\">\n",
              "\n",
              "  <div class=\"colab-df-container\">\n",
              "    <button class=\"colab-df-convert\" onclick=\"convertToInteractive('df-f6ad5dbb-b45b-4b8b-b781-c3de0e4493c2')\"\n",
              "            title=\"Convert this dataframe to an interactive table.\"\n",
              "            style=\"display:none;\">\n",
              "\n",
              "  <svg xmlns=\"http://www.w3.org/2000/svg\" height=\"24px\" viewBox=\"0 -960 960 960\">\n",
              "    <path d=\"M120-120v-720h720v720H120Zm60-500h600v-160H180v160Zm220 220h160v-160H400v160Zm0 220h160v-160H400v160ZM180-400h160v-160H180v160Zm440 0h160v-160H620v160ZM180-180h160v-160H180v160Zm440 0h160v-160H620v160Z\"/>\n",
              "  </svg>\n",
              "    </button>\n",
              "\n",
              "  <style>\n",
              "    .colab-df-container {\n",
              "      display:flex;\n",
              "      gap: 12px;\n",
              "    }\n",
              "\n",
              "    .colab-df-convert {\n",
              "      background-color: #E8F0FE;\n",
              "      border: none;\n",
              "      border-radius: 50%;\n",
              "      cursor: pointer;\n",
              "      display: none;\n",
              "      fill: #1967D2;\n",
              "      height: 32px;\n",
              "      padding: 0 0 0 0;\n",
              "      width: 32px;\n",
              "    }\n",
              "\n",
              "    .colab-df-convert:hover {\n",
              "      background-color: #E2EBFA;\n",
              "      box-shadow: 0px 1px 2px rgba(60, 64, 67, 0.3), 0px 1px 3px 1px rgba(60, 64, 67, 0.15);\n",
              "      fill: #174EA6;\n",
              "    }\n",
              "\n",
              "    .colab-df-buttons div {\n",
              "      margin-bottom: 4px;\n",
              "    }\n",
              "\n",
              "    [theme=dark] .colab-df-convert {\n",
              "      background-color: #3B4455;\n",
              "      fill: #D2E3FC;\n",
              "    }\n",
              "\n",
              "    [theme=dark] .colab-df-convert:hover {\n",
              "      background-color: #434B5C;\n",
              "      box-shadow: 0px 1px 3px 1px rgba(0, 0, 0, 0.15);\n",
              "      filter: drop-shadow(0px 1px 2px rgba(0, 0, 0, 0.3));\n",
              "      fill: #FFFFFF;\n",
              "    }\n",
              "  </style>\n",
              "\n",
              "    <script>\n",
              "      const buttonEl =\n",
              "        document.querySelector('#df-f6ad5dbb-b45b-4b8b-b781-c3de0e4493c2 button.colab-df-convert');\n",
              "      buttonEl.style.display =\n",
              "        google.colab.kernel.accessAllowed ? 'block' : 'none';\n",
              "\n",
              "      async function convertToInteractive(key) {\n",
              "        const element = document.querySelector('#df-f6ad5dbb-b45b-4b8b-b781-c3de0e4493c2');\n",
              "        const dataTable =\n",
              "          await google.colab.kernel.invokeFunction('convertToInteractive',\n",
              "                                                    [key], {});\n",
              "        if (!dataTable) return;\n",
              "\n",
              "        const docLinkHtml = 'Like what you see? Visit the ' +\n",
              "          '<a target=\"_blank\" href=https://colab.research.google.com/notebooks/data_table.ipynb>data table notebook</a>'\n",
              "          + ' to learn more about interactive tables.';\n",
              "        element.innerHTML = '';\n",
              "        dataTable['output_type'] = 'display_data';\n",
              "        await google.colab.output.renderOutput(dataTable, element);\n",
              "        const docLink = document.createElement('div');\n",
              "        docLink.innerHTML = docLinkHtml;\n",
              "        element.appendChild(docLink);\n",
              "      }\n",
              "    </script>\n",
              "  </div>\n",
              "\n",
              "\n",
              "<div id=\"df-40ac2666-c9e8-40c6-ad25-1e8028f0aca4\">\n",
              "  <button class=\"colab-df-quickchart\" onclick=\"quickchart('df-40ac2666-c9e8-40c6-ad25-1e8028f0aca4')\"\n",
              "            title=\"Suggest charts\"\n",
              "            style=\"display:none;\">\n",
              "\n",
              "<svg xmlns=\"http://www.w3.org/2000/svg\" height=\"24px\"viewBox=\"0 0 24 24\"\n",
              "     width=\"24px\">\n",
              "    <g>\n",
              "        <path d=\"M19 3H5c-1.1 0-2 .9-2 2v14c0 1.1.9 2 2 2h14c1.1 0 2-.9 2-2V5c0-1.1-.9-2-2-2zM9 17H7v-7h2v7zm4 0h-2V7h2v10zm4 0h-2v-4h2v4z\"/>\n",
              "    </g>\n",
              "</svg>\n",
              "  </button>\n",
              "\n",
              "<style>\n",
              "  .colab-df-quickchart {\n",
              "      --bg-color: #E8F0FE;\n",
              "      --fill-color: #1967D2;\n",
              "      --hover-bg-color: #E2EBFA;\n",
              "      --hover-fill-color: #174EA6;\n",
              "      --disabled-fill-color: #AAA;\n",
              "      --disabled-bg-color: #DDD;\n",
              "  }\n",
              "\n",
              "  [theme=dark] .colab-df-quickchart {\n",
              "      --bg-color: #3B4455;\n",
              "      --fill-color: #D2E3FC;\n",
              "      --hover-bg-color: #434B5C;\n",
              "      --hover-fill-color: #FFFFFF;\n",
              "      --disabled-bg-color: #3B4455;\n",
              "      --disabled-fill-color: #666;\n",
              "  }\n",
              "\n",
              "  .colab-df-quickchart {\n",
              "    background-color: var(--bg-color);\n",
              "    border: none;\n",
              "    border-radius: 50%;\n",
              "    cursor: pointer;\n",
              "    display: none;\n",
              "    fill: var(--fill-color);\n",
              "    height: 32px;\n",
              "    padding: 0;\n",
              "    width: 32px;\n",
              "  }\n",
              "\n",
              "  .colab-df-quickchart:hover {\n",
              "    background-color: var(--hover-bg-color);\n",
              "    box-shadow: 0 1px 2px rgba(60, 64, 67, 0.3), 0 1px 3px 1px rgba(60, 64, 67, 0.15);\n",
              "    fill: var(--button-hover-fill-color);\n",
              "  }\n",
              "\n",
              "  .colab-df-quickchart-complete:disabled,\n",
              "  .colab-df-quickchart-complete:disabled:hover {\n",
              "    background-color: var(--disabled-bg-color);\n",
              "    fill: var(--disabled-fill-color);\n",
              "    box-shadow: none;\n",
              "  }\n",
              "\n",
              "  .colab-df-spinner {\n",
              "    border: 2px solid var(--fill-color);\n",
              "    border-color: transparent;\n",
              "    border-bottom-color: var(--fill-color);\n",
              "    animation:\n",
              "      spin 1s steps(1) infinite;\n",
              "  }\n",
              "\n",
              "  @keyframes spin {\n",
              "    0% {\n",
              "      border-color: transparent;\n",
              "      border-bottom-color: var(--fill-color);\n",
              "      border-left-color: var(--fill-color);\n",
              "    }\n",
              "    20% {\n",
              "      border-color: transparent;\n",
              "      border-left-color: var(--fill-color);\n",
              "      border-top-color: var(--fill-color);\n",
              "    }\n",
              "    30% {\n",
              "      border-color: transparent;\n",
              "      border-left-color: var(--fill-color);\n",
              "      border-top-color: var(--fill-color);\n",
              "      border-right-color: var(--fill-color);\n",
              "    }\n",
              "    40% {\n",
              "      border-color: transparent;\n",
              "      border-right-color: var(--fill-color);\n",
              "      border-top-color: var(--fill-color);\n",
              "    }\n",
              "    60% {\n",
              "      border-color: transparent;\n",
              "      border-right-color: var(--fill-color);\n",
              "    }\n",
              "    80% {\n",
              "      border-color: transparent;\n",
              "      border-right-color: var(--fill-color);\n",
              "      border-bottom-color: var(--fill-color);\n",
              "    }\n",
              "    90% {\n",
              "      border-color: transparent;\n",
              "      border-bottom-color: var(--fill-color);\n",
              "    }\n",
              "  }\n",
              "</style>\n",
              "\n",
              "  <script>\n",
              "    async function quickchart(key) {\n",
              "      const quickchartButtonEl =\n",
              "        document.querySelector('#' + key + ' button');\n",
              "      quickchartButtonEl.disabled = true;  // To prevent multiple clicks.\n",
              "      quickchartButtonEl.classList.add('colab-df-spinner');\n",
              "      try {\n",
              "        const charts = await google.colab.kernel.invokeFunction(\n",
              "            'suggestCharts', [key], {});\n",
              "      } catch (error) {\n",
              "        console.error('Error during call to suggestCharts:', error);\n",
              "      }\n",
              "      quickchartButtonEl.classList.remove('colab-df-spinner');\n",
              "      quickchartButtonEl.classList.add('colab-df-quickchart-complete');\n",
              "    }\n",
              "    (() => {\n",
              "      let quickchartButtonEl =\n",
              "        document.querySelector('#df-40ac2666-c9e8-40c6-ad25-1e8028f0aca4 button');\n",
              "      quickchartButtonEl.style.display =\n",
              "        google.colab.kernel.accessAllowed ? 'block' : 'none';\n",
              "    })();\n",
              "  </script>\n",
              "</div>\n",
              "    </div>\n",
              "  </div>\n"
            ],
            "text/plain": [
              "                                                                                                                                                                            title  \\\n",
              "0                                                                                                                 Obama adviser Deese to lead White House's Supreme Court process   \n",
              "1                                                                                                                   Trump says abortion doctors, not women should face punishment   \n",
              "2  #VeryFakeNews CNN BRAGS ABOUT RATINGS To President Trump On Twitter After CNN Producer Is Caught On Video Admitting Trump-Russia Stories Are Fake News…Only About The RATINGS!   \n",
              "3                                                                                     Trump Attacks James Comey For Not Jailing Clinton: ‘She Was Guilty Of Every Charge’ (VIDEO)   \n",
              "4                                                                                  Trump Just Sent A MAJOR F*ck You To The Supreme Court, CONFIRMS His Own Incompetency (DETAILS)   \n",
              "\n",
              "                                                                                                                                                                                                                                                                                                                                                                                                                                                                                                                                                                                                                      text  \\\n",
              "0  WASHINGTON (Reuters) - President Barack Obama has turned to senior adviser Brian Deese, an economic expert who previously led the administration’s climate change efforts, to head a team formed to pick a Supreme Court nominee and win confirmation, the White House said. White House counsel Neil Eggleston will be a part of that team and will steer the legal process, including the vetting of potential candidates, administration officials said on Monday. Leading Republicans have vowed to block any nominee Obama chooses, leaving the White House with the challenge of finding someone it believes c...   \n",
              "1  WASHINGTON (Reuters) - Donald Trump on Wednesday rowed back statements that women who sought abortions under a proposed ban should be punished. “If Congress were to pass legislation making abortion illegal and the federal courts upheld this legislation, or any state were permitted to ban abortion under state and federal law, the doctor or any other person performing this illegal act upon a woman would be held legally responsible, not the woman,” Trump said in a statement.  It contradicted an earlier statement during an MSNBC town hall appearance when he said in response to questions from t...   \n",
              "2  James O Keefe s Project Veritas reporters went undercover at CNN to investigate the #VeryFakeNews network to determine the motivation behind CNN s Trump-Russia collusion obsession. Since the inauguration, CNN has mentioned  Russian story  nearly 16,000 times.Project Veritas  reporters can be seen in the video below having a conversation with CNN s supervising producer John Bonifield. The reporter talked to Bonifield first about the constant barrage of Trump-Russia stories on CNN. Bonifield admitted that although CNN has no evidence or proof of Trump involvement with Russia, they continue t...   \n",
              "3  In an interview with Fox Business that aired Tuesday, Donald Trump responded to news that the FBI had successfully obtained a FISA warrant to look into his former advisor Carter Page by trashing James Comey for not locking Hillary Clinton up. Sure, Clinton did not commit any crimes and was never charged with anything, but according to Trump she is GUILTY GUILTY GUILTY. When Jim Comey came out, he saved Hillary Clinton. He saved her life, Trump said, apparently forgetting that a certain letter from Comey helped swing the election his way. When he was reading those charges, she was guilty of...   \n",
              "4  Donald Trump and his administration have proven time and time again that they are incapable of performing even the most simple, basic tasks that only require basic human decency and manners. The latest gaffe in the White House demonstrates that even as Trump s 100th day approaches, they still can t get their sh*t together.According to a White House aide and court spokeswoman, Trump did not extend a formal invitation to the Supreme Court to have dinner at the White House on Thursday. An initial report that was released early Sunday stated that a dinner WOULD take place: That evening, the Pr...   \n",
              "\n",
              "        subject                date label  \n",
              "0  politicsNews  February 29, 2016   real  \n",
              "1  politicsNews     March 30, 2016   real  \n",
              "2     left-news        Jun 27, 2017  fake  \n",
              "3          News      April 12, 2017  fake  \n",
              "4          News      April 25, 2017  fake  "
            ]
          },
          "execution_count": 22,
          "metadata": {},
          "output_type": "execute_result"
        }
      ],
      "source": [
        "from random import sample\n",
        "news = pd.concat([fake,real])\n",
        "news = news.sample(frac=1).reset_index(drop=True) #shuffle rows\n",
        "news.head(5)"
      ]
    },
    {
      "cell_type": "code",
      "execution_count": null,
      "metadata": {
        "id": "uZa_8syCFCD8"
      },
      "outputs": [],
      "source": [
        "import pandas as pd\n",
        "import re\n",
        "\n",
        "def remove_punctuation(text):\n",
        "    pattern = r'[\\'\"‘’“”]'\n",
        "    clean_text = re.sub(pattern, '', text)\n",
        "    return clean_text"
      ]
    },
    {
      "cell_type": "code",
      "execution_count": null,
      "metadata": {
        "id": "jtHgpALOFER6"
      },
      "outputs": [],
      "source": [
        "news['text'] = news['text'].apply(remove_punctuation)"
      ]
    },
    {
      "cell_type": "code",
      "execution_count": null,
      "metadata": {
        "id": "GXm_-rzk7wsM"
      },
      "outputs": [],
      "source": [
        "df = tidytext.unnest_tokens(news, \"word\", \"text\")"
      ]
    },
    {
      "cell_type": "code",
      "execution_count": null,
      "metadata": {
        "colab": {
          "base_uri": "https://localhost:8080/",
          "height": 206
        },
        "id": "sXlRTXgo7ygJ",
        "outputId": "9553afe7-7c41-470e-ee38-65382a9c0393"
      },
      "outputs": [
        {
          "data": {
            "application/vnd.google.colaboratory.intrinsic+json": {
              "type": "dataframe",
              "variable_name": "df"
            },
            "text/html": [
              "\n",
              "  <div id=\"df-c058cd5d-a01f-4787-9527-9ced1c5d29b1\" class=\"colab-df-container\">\n",
              "    <div>\n",
              "<style scoped>\n",
              "    .dataframe tbody tr th:only-of-type {\n",
              "        vertical-align: middle;\n",
              "    }\n",
              "\n",
              "    .dataframe tbody tr th {\n",
              "        vertical-align: top;\n",
              "    }\n",
              "\n",
              "    .dataframe thead th {\n",
              "        text-align: right;\n",
              "    }\n",
              "</style>\n",
              "<table border=\"1\" class=\"dataframe\">\n",
              "  <thead>\n",
              "    <tr style=\"text-align: right;\">\n",
              "      <th></th>\n",
              "      <th>label</th>\n",
              "      <th>word</th>\n",
              "    </tr>\n",
              "  </thead>\n",
              "  <tbody>\n",
              "    <tr>\n",
              "      <th>0</th>\n",
              "      <td>real</td>\n",
              "      <td>washington</td>\n",
              "    </tr>\n",
              "    <tr>\n",
              "      <th>0</th>\n",
              "      <td>real</td>\n",
              "      <td>reuters</td>\n",
              "    </tr>\n",
              "    <tr>\n",
              "      <th>0</th>\n",
              "      <td>real</td>\n",
              "      <td>president</td>\n",
              "    </tr>\n",
              "    <tr>\n",
              "      <th>0</th>\n",
              "      <td>real</td>\n",
              "      <td>barack</td>\n",
              "    </tr>\n",
              "    <tr>\n",
              "      <th>0</th>\n",
              "      <td>real</td>\n",
              "      <td>obama</td>\n",
              "    </tr>\n",
              "  </tbody>\n",
              "</table>\n",
              "</div>\n",
              "    <div class=\"colab-df-buttons\">\n",
              "\n",
              "  <div class=\"colab-df-container\">\n",
              "    <button class=\"colab-df-convert\" onclick=\"convertToInteractive('df-c058cd5d-a01f-4787-9527-9ced1c5d29b1')\"\n",
              "            title=\"Convert this dataframe to an interactive table.\"\n",
              "            style=\"display:none;\">\n",
              "\n",
              "  <svg xmlns=\"http://www.w3.org/2000/svg\" height=\"24px\" viewBox=\"0 -960 960 960\">\n",
              "    <path d=\"M120-120v-720h720v720H120Zm60-500h600v-160H180v160Zm220 220h160v-160H400v160Zm0 220h160v-160H400v160ZM180-400h160v-160H180v160Zm440 0h160v-160H620v160ZM180-180h160v-160H180v160Zm440 0h160v-160H620v160Z\"/>\n",
              "  </svg>\n",
              "    </button>\n",
              "\n",
              "  <style>\n",
              "    .colab-df-container {\n",
              "      display:flex;\n",
              "      gap: 12px;\n",
              "    }\n",
              "\n",
              "    .colab-df-convert {\n",
              "      background-color: #E8F0FE;\n",
              "      border: none;\n",
              "      border-radius: 50%;\n",
              "      cursor: pointer;\n",
              "      display: none;\n",
              "      fill: #1967D2;\n",
              "      height: 32px;\n",
              "      padding: 0 0 0 0;\n",
              "      width: 32px;\n",
              "    }\n",
              "\n",
              "    .colab-df-convert:hover {\n",
              "      background-color: #E2EBFA;\n",
              "      box-shadow: 0px 1px 2px rgba(60, 64, 67, 0.3), 0px 1px 3px 1px rgba(60, 64, 67, 0.15);\n",
              "      fill: #174EA6;\n",
              "    }\n",
              "\n",
              "    .colab-df-buttons div {\n",
              "      margin-bottom: 4px;\n",
              "    }\n",
              "\n",
              "    [theme=dark] .colab-df-convert {\n",
              "      background-color: #3B4455;\n",
              "      fill: #D2E3FC;\n",
              "    }\n",
              "\n",
              "    [theme=dark] .colab-df-convert:hover {\n",
              "      background-color: #434B5C;\n",
              "      box-shadow: 0px 1px 3px 1px rgba(0, 0, 0, 0.15);\n",
              "      filter: drop-shadow(0px 1px 2px rgba(0, 0, 0, 0.3));\n",
              "      fill: #FFFFFF;\n",
              "    }\n",
              "  </style>\n",
              "\n",
              "    <script>\n",
              "      const buttonEl =\n",
              "        document.querySelector('#df-c058cd5d-a01f-4787-9527-9ced1c5d29b1 button.colab-df-convert');\n",
              "      buttonEl.style.display =\n",
              "        google.colab.kernel.accessAllowed ? 'block' : 'none';\n",
              "\n",
              "      async function convertToInteractive(key) {\n",
              "        const element = document.querySelector('#df-c058cd5d-a01f-4787-9527-9ced1c5d29b1');\n",
              "        const dataTable =\n",
              "          await google.colab.kernel.invokeFunction('convertToInteractive',\n",
              "                                                    [key], {});\n",
              "        if (!dataTable) return;\n",
              "\n",
              "        const docLinkHtml = 'Like what you see? Visit the ' +\n",
              "          '<a target=\"_blank\" href=https://colab.research.google.com/notebooks/data_table.ipynb>data table notebook</a>'\n",
              "          + ' to learn more about interactive tables.';\n",
              "        element.innerHTML = '';\n",
              "        dataTable['output_type'] = 'display_data';\n",
              "        await google.colab.output.renderOutput(dataTable, element);\n",
              "        const docLink = document.createElement('div');\n",
              "        docLink.innerHTML = docLinkHtml;\n",
              "        element.appendChild(docLink);\n",
              "      }\n",
              "    </script>\n",
              "  </div>\n",
              "\n",
              "\n",
              "<div id=\"df-e702a83a-8efa-4b5c-8e96-5ad72d4dbeb2\">\n",
              "  <button class=\"colab-df-quickchart\" onclick=\"quickchart('df-e702a83a-8efa-4b5c-8e96-5ad72d4dbeb2')\"\n",
              "            title=\"Suggest charts\"\n",
              "            style=\"display:none;\">\n",
              "\n",
              "<svg xmlns=\"http://www.w3.org/2000/svg\" height=\"24px\"viewBox=\"0 0 24 24\"\n",
              "     width=\"24px\">\n",
              "    <g>\n",
              "        <path d=\"M19 3H5c-1.1 0-2 .9-2 2v14c0 1.1.9 2 2 2h14c1.1 0 2-.9 2-2V5c0-1.1-.9-2-2-2zM9 17H7v-7h2v7zm4 0h-2V7h2v10zm4 0h-2v-4h2v4z\"/>\n",
              "    </g>\n",
              "</svg>\n",
              "  </button>\n",
              "\n",
              "<style>\n",
              "  .colab-df-quickchart {\n",
              "      --bg-color: #E8F0FE;\n",
              "      --fill-color: #1967D2;\n",
              "      --hover-bg-color: #E2EBFA;\n",
              "      --hover-fill-color: #174EA6;\n",
              "      --disabled-fill-color: #AAA;\n",
              "      --disabled-bg-color: #DDD;\n",
              "  }\n",
              "\n",
              "  [theme=dark] .colab-df-quickchart {\n",
              "      --bg-color: #3B4455;\n",
              "      --fill-color: #D2E3FC;\n",
              "      --hover-bg-color: #434B5C;\n",
              "      --hover-fill-color: #FFFFFF;\n",
              "      --disabled-bg-color: #3B4455;\n",
              "      --disabled-fill-color: #666;\n",
              "  }\n",
              "\n",
              "  .colab-df-quickchart {\n",
              "    background-color: var(--bg-color);\n",
              "    border: none;\n",
              "    border-radius: 50%;\n",
              "    cursor: pointer;\n",
              "    display: none;\n",
              "    fill: var(--fill-color);\n",
              "    height: 32px;\n",
              "    padding: 0;\n",
              "    width: 32px;\n",
              "  }\n",
              "\n",
              "  .colab-df-quickchart:hover {\n",
              "    background-color: var(--hover-bg-color);\n",
              "    box-shadow: 0 1px 2px rgba(60, 64, 67, 0.3), 0 1px 3px 1px rgba(60, 64, 67, 0.15);\n",
              "    fill: var(--button-hover-fill-color);\n",
              "  }\n",
              "\n",
              "  .colab-df-quickchart-complete:disabled,\n",
              "  .colab-df-quickchart-complete:disabled:hover {\n",
              "    background-color: var(--disabled-bg-color);\n",
              "    fill: var(--disabled-fill-color);\n",
              "    box-shadow: none;\n",
              "  }\n",
              "\n",
              "  .colab-df-spinner {\n",
              "    border: 2px solid var(--fill-color);\n",
              "    border-color: transparent;\n",
              "    border-bottom-color: var(--fill-color);\n",
              "    animation:\n",
              "      spin 1s steps(1) infinite;\n",
              "  }\n",
              "\n",
              "  @keyframes spin {\n",
              "    0% {\n",
              "      border-color: transparent;\n",
              "      border-bottom-color: var(--fill-color);\n",
              "      border-left-color: var(--fill-color);\n",
              "    }\n",
              "    20% {\n",
              "      border-color: transparent;\n",
              "      border-left-color: var(--fill-color);\n",
              "      border-top-color: var(--fill-color);\n",
              "    }\n",
              "    30% {\n",
              "      border-color: transparent;\n",
              "      border-left-color: var(--fill-color);\n",
              "      border-top-color: var(--fill-color);\n",
              "      border-right-color: var(--fill-color);\n",
              "    }\n",
              "    40% {\n",
              "      border-color: transparent;\n",
              "      border-right-color: var(--fill-color);\n",
              "      border-top-color: var(--fill-color);\n",
              "    }\n",
              "    60% {\n",
              "      border-color: transparent;\n",
              "      border-right-color: var(--fill-color);\n",
              "    }\n",
              "    80% {\n",
              "      border-color: transparent;\n",
              "      border-right-color: var(--fill-color);\n",
              "      border-bottom-color: var(--fill-color);\n",
              "    }\n",
              "    90% {\n",
              "      border-color: transparent;\n",
              "      border-bottom-color: var(--fill-color);\n",
              "    }\n",
              "  }\n",
              "</style>\n",
              "\n",
              "  <script>\n",
              "    async function quickchart(key) {\n",
              "      const quickchartButtonEl =\n",
              "        document.querySelector('#' + key + ' button');\n",
              "      quickchartButtonEl.disabled = true;  // To prevent multiple clicks.\n",
              "      quickchartButtonEl.classList.add('colab-df-spinner');\n",
              "      try {\n",
              "        const charts = await google.colab.kernel.invokeFunction(\n",
              "            'suggestCharts', [key], {});\n",
              "      } catch (error) {\n",
              "        console.error('Error during call to suggestCharts:', error);\n",
              "      }\n",
              "      quickchartButtonEl.classList.remove('colab-df-spinner');\n",
              "      quickchartButtonEl.classList.add('colab-df-quickchart-complete');\n",
              "    }\n",
              "    (() => {\n",
              "      let quickchartButtonEl =\n",
              "        document.querySelector('#df-e702a83a-8efa-4b5c-8e96-5ad72d4dbeb2 button');\n",
              "      quickchartButtonEl.style.display =\n",
              "        google.colab.kernel.accessAllowed ? 'block' : 'none';\n",
              "    })();\n",
              "  </script>\n",
              "</div>\n",
              "    </div>\n",
              "  </div>\n"
            ],
            "text/plain": [
              "  label        word\n",
              "0  real  washington\n",
              "0  real     reuters\n",
              "0  real   president\n",
              "0  real      barack\n",
              "0  real       obama"
            ]
          },
          "execution_count": 30,
          "metadata": {},
          "output_type": "execute_result"
        }
      ],
      "source": [
        "df = df[[\"label\", \"word\"]]\n",
        "df.head()"
      ]
    },
    {
      "cell_type": "code",
      "execution_count": null,
      "metadata": {
        "id": "XHYlNmqs70QN"
      },
      "outputs": [],
      "source": [
        "#First, we remove stop words:\n",
        "clean_words = df.loc[ ~df[\"word\"].isin(STOPWORDS) ]"
      ]
    },
    {
      "cell_type": "code",
      "execution_count": null,
      "metadata": {
        "id": "C9AgtjYQ73IH"
      },
      "outputs": [],
      "source": [
        "#Then count them, just as we did before (after some grouping)\n",
        "counts = clean_words.groupby(\"label\")[\"word\"].value_counts(normalize=True)"
      ]
    },
    {
      "cell_type": "code",
      "execution_count": null,
      "metadata": {
        "id": "hYV9Io0v76sv"
      },
      "outputs": [],
      "source": [
        "# keep anything with a count > 0.0005\n",
        "counts = counts[counts > 0.0005]"
      ]
    },
    {
      "cell_type": "code",
      "execution_count": null,
      "metadata": {
        "id": "tpDTg-3F77fv"
      },
      "outputs": [],
      "source": [
        "#...and then convert it back to a dataframe.\n",
        "counts.name = \"text_freq\"\n",
        "counts = counts.reset_index()"
      ]
    },
    {
      "cell_type": "code",
      "execution_count": null,
      "metadata": {
        "colab": {
          "base_uri": "https://localhost:8080/",
          "height": 206
        },
        "id": "69p56Jao8A_9",
        "outputId": "3e19356c-43f1-4f2a-8963-5705271ff6e5"
      },
      "outputs": [
        {
          "data": {
            "application/vnd.google.colaboratory.intrinsic+json": {
              "summary": "{\n  \"name\": \"counts\",\n  \"rows\": 567,\n  \"fields\": [\n    {\n      \"column\": \"label\",\n      \"properties\": {\n        \"dtype\": \"category\",\n        \"num_unique_values\": 2,\n        \"samples\": [\n          \"fake\",\n          \"real\"\n        ],\n        \"semantic_type\": \"\",\n        \"description\": \"\"\n      }\n    },\n    {\n      \"column\": \"word\",\n      \"properties\": {\n        \"dtype\": \"string\",\n        \"num_unique_values\": 402,\n        \"samples\": [\n          \"officials\",\n          \"prime\"\n        ],\n        \"semantic_type\": \"\",\n        \"description\": \"\"\n      }\n    },\n    {\n      \"column\": \"text_freq\",\n      \"properties\": {\n        \"dtype\": \"number\",\n        \"std\": 0.001610378904516006,\n        \"min\": 0.0005004344497460901,\n        \"max\": 0.02269292059134441,\n        \"num_unique_values\": 547,\n        \"samples\": [\n          0.003628149760659153,\n          0.0006768589955980499\n        ],\n        \"semantic_type\": \"\",\n        \"description\": \"\"\n      }\n    }\n  ]\n}",
              "type": "dataframe",
              "variable_name": "counts"
            },
            "text/html": [
              "\n",
              "  <div id=\"df-2e97138b-1805-4f31-80e0-86c5e11db091\" class=\"colab-df-container\">\n",
              "    <div>\n",
              "<style scoped>\n",
              "    .dataframe tbody tr th:only-of-type {\n",
              "        vertical-align: middle;\n",
              "    }\n",
              "\n",
              "    .dataframe tbody tr th {\n",
              "        vertical-align: top;\n",
              "    }\n",
              "\n",
              "    .dataframe thead th {\n",
              "        text-align: right;\n",
              "    }\n",
              "</style>\n",
              "<table border=\"1\" class=\"dataframe\">\n",
              "  <thead>\n",
              "    <tr style=\"text-align: right;\">\n",
              "      <th></th>\n",
              "      <th>label</th>\n",
              "      <th>word</th>\n",
              "      <th>text_freq</th>\n",
              "    </tr>\n",
              "  </thead>\n",
              "  <tbody>\n",
              "    <tr>\n",
              "      <th>0</th>\n",
              "      <td>real</td>\n",
              "      <td>democrat</td>\n",
              "      <td>0.000547</td>\n",
              "    </tr>\n",
              "    <tr>\n",
              "      <th>1</th>\n",
              "      <td>real</td>\n",
              "      <td>reuters</td>\n",
              "      <td>0.005732</td>\n",
              "    </tr>\n",
              "    <tr>\n",
              "      <th>2</th>\n",
              "      <td>fake</td>\n",
              "      <td>obama</td>\n",
              "      <td>0.003113</td>\n",
              "    </tr>\n",
              "    <tr>\n",
              "      <th>3</th>\n",
              "      <td>fake</td>\n",
              "      <td>home</td>\n",
              "      <td>0.000576</td>\n",
              "    </tr>\n",
              "    <tr>\n",
              "      <th>4</th>\n",
              "      <td>fake</td>\n",
              "      <td>doesn</td>\n",
              "      <td>0.000911</td>\n",
              "    </tr>\n",
              "  </tbody>\n",
              "</table>\n",
              "</div>\n",
              "    <div class=\"colab-df-buttons\">\n",
              "\n",
              "  <div class=\"colab-df-container\">\n",
              "    <button class=\"colab-df-convert\" onclick=\"convertToInteractive('df-2e97138b-1805-4f31-80e0-86c5e11db091')\"\n",
              "            title=\"Convert this dataframe to an interactive table.\"\n",
              "            style=\"display:none;\">\n",
              "\n",
              "  <svg xmlns=\"http://www.w3.org/2000/svg\" height=\"24px\" viewBox=\"0 -960 960 960\">\n",
              "    <path d=\"M120-120v-720h720v720H120Zm60-500h600v-160H180v160Zm220 220h160v-160H400v160Zm0 220h160v-160H400v160ZM180-400h160v-160H180v160Zm440 0h160v-160H620v160ZM180-180h160v-160H180v160Zm440 0h160v-160H620v160Z\"/>\n",
              "  </svg>\n",
              "    </button>\n",
              "\n",
              "  <style>\n",
              "    .colab-df-container {\n",
              "      display:flex;\n",
              "      gap: 12px;\n",
              "    }\n",
              "\n",
              "    .colab-df-convert {\n",
              "      background-color: #E8F0FE;\n",
              "      border: none;\n",
              "      border-radius: 50%;\n",
              "      cursor: pointer;\n",
              "      display: none;\n",
              "      fill: #1967D2;\n",
              "      height: 32px;\n",
              "      padding: 0 0 0 0;\n",
              "      width: 32px;\n",
              "    }\n",
              "\n",
              "    .colab-df-convert:hover {\n",
              "      background-color: #E2EBFA;\n",
              "      box-shadow: 0px 1px 2px rgba(60, 64, 67, 0.3), 0px 1px 3px 1px rgba(60, 64, 67, 0.15);\n",
              "      fill: #174EA6;\n",
              "    }\n",
              "\n",
              "    .colab-df-buttons div {\n",
              "      margin-bottom: 4px;\n",
              "    }\n",
              "\n",
              "    [theme=dark] .colab-df-convert {\n",
              "      background-color: #3B4455;\n",
              "      fill: #D2E3FC;\n",
              "    }\n",
              "\n",
              "    [theme=dark] .colab-df-convert:hover {\n",
              "      background-color: #434B5C;\n",
              "      box-shadow: 0px 1px 3px 1px rgba(0, 0, 0, 0.15);\n",
              "      filter: drop-shadow(0px 1px 2px rgba(0, 0, 0, 0.3));\n",
              "      fill: #FFFFFF;\n",
              "    }\n",
              "  </style>\n",
              "\n",
              "    <script>\n",
              "      const buttonEl =\n",
              "        document.querySelector('#df-2e97138b-1805-4f31-80e0-86c5e11db091 button.colab-df-convert');\n",
              "      buttonEl.style.display =\n",
              "        google.colab.kernel.accessAllowed ? 'block' : 'none';\n",
              "\n",
              "      async function convertToInteractive(key) {\n",
              "        const element = document.querySelector('#df-2e97138b-1805-4f31-80e0-86c5e11db091');\n",
              "        const dataTable =\n",
              "          await google.colab.kernel.invokeFunction('convertToInteractive',\n",
              "                                                    [key], {});\n",
              "        if (!dataTable) return;\n",
              "\n",
              "        const docLinkHtml = 'Like what you see? Visit the ' +\n",
              "          '<a target=\"_blank\" href=https://colab.research.google.com/notebooks/data_table.ipynb>data table notebook</a>'\n",
              "          + ' to learn more about interactive tables.';\n",
              "        element.innerHTML = '';\n",
              "        dataTable['output_type'] = 'display_data';\n",
              "        await google.colab.output.renderOutput(dataTable, element);\n",
              "        const docLink = document.createElement('div');\n",
              "        docLink.innerHTML = docLinkHtml;\n",
              "        element.appendChild(docLink);\n",
              "      }\n",
              "    </script>\n",
              "  </div>\n",
              "\n",
              "\n",
              "<div id=\"df-66e25802-872d-4db9-9c7d-25d57dd13132\">\n",
              "  <button class=\"colab-df-quickchart\" onclick=\"quickchart('df-66e25802-872d-4db9-9c7d-25d57dd13132')\"\n",
              "            title=\"Suggest charts\"\n",
              "            style=\"display:none;\">\n",
              "\n",
              "<svg xmlns=\"http://www.w3.org/2000/svg\" height=\"24px\"viewBox=\"0 0 24 24\"\n",
              "     width=\"24px\">\n",
              "    <g>\n",
              "        <path d=\"M19 3H5c-1.1 0-2 .9-2 2v14c0 1.1.9 2 2 2h14c1.1 0 2-.9 2-2V5c0-1.1-.9-2-2-2zM9 17H7v-7h2v7zm4 0h-2V7h2v10zm4 0h-2v-4h2v4z\"/>\n",
              "    </g>\n",
              "</svg>\n",
              "  </button>\n",
              "\n",
              "<style>\n",
              "  .colab-df-quickchart {\n",
              "      --bg-color: #E8F0FE;\n",
              "      --fill-color: #1967D2;\n",
              "      --hover-bg-color: #E2EBFA;\n",
              "      --hover-fill-color: #174EA6;\n",
              "      --disabled-fill-color: #AAA;\n",
              "      --disabled-bg-color: #DDD;\n",
              "  }\n",
              "\n",
              "  [theme=dark] .colab-df-quickchart {\n",
              "      --bg-color: #3B4455;\n",
              "      --fill-color: #D2E3FC;\n",
              "      --hover-bg-color: #434B5C;\n",
              "      --hover-fill-color: #FFFFFF;\n",
              "      --disabled-bg-color: #3B4455;\n",
              "      --disabled-fill-color: #666;\n",
              "  }\n",
              "\n",
              "  .colab-df-quickchart {\n",
              "    background-color: var(--bg-color);\n",
              "    border: none;\n",
              "    border-radius: 50%;\n",
              "    cursor: pointer;\n",
              "    display: none;\n",
              "    fill: var(--fill-color);\n",
              "    height: 32px;\n",
              "    padding: 0;\n",
              "    width: 32px;\n",
              "  }\n",
              "\n",
              "  .colab-df-quickchart:hover {\n",
              "    background-color: var(--hover-bg-color);\n",
              "    box-shadow: 0 1px 2px rgba(60, 64, 67, 0.3), 0 1px 3px 1px rgba(60, 64, 67, 0.15);\n",
              "    fill: var(--button-hover-fill-color);\n",
              "  }\n",
              "\n",
              "  .colab-df-quickchart-complete:disabled,\n",
              "  .colab-df-quickchart-complete:disabled:hover {\n",
              "    background-color: var(--disabled-bg-color);\n",
              "    fill: var(--disabled-fill-color);\n",
              "    box-shadow: none;\n",
              "  }\n",
              "\n",
              "  .colab-df-spinner {\n",
              "    border: 2px solid var(--fill-color);\n",
              "    border-color: transparent;\n",
              "    border-bottom-color: var(--fill-color);\n",
              "    animation:\n",
              "      spin 1s steps(1) infinite;\n",
              "  }\n",
              "\n",
              "  @keyframes spin {\n",
              "    0% {\n",
              "      border-color: transparent;\n",
              "      border-bottom-color: var(--fill-color);\n",
              "      border-left-color: var(--fill-color);\n",
              "    }\n",
              "    20% {\n",
              "      border-color: transparent;\n",
              "      border-left-color: var(--fill-color);\n",
              "      border-top-color: var(--fill-color);\n",
              "    }\n",
              "    30% {\n",
              "      border-color: transparent;\n",
              "      border-left-color: var(--fill-color);\n",
              "      border-top-color: var(--fill-color);\n",
              "      border-right-color: var(--fill-color);\n",
              "    }\n",
              "    40% {\n",
              "      border-color: transparent;\n",
              "      border-right-color: var(--fill-color);\n",
              "      border-top-color: var(--fill-color);\n",
              "    }\n",
              "    60% {\n",
              "      border-color: transparent;\n",
              "      border-right-color: var(--fill-color);\n",
              "    }\n",
              "    80% {\n",
              "      border-color: transparent;\n",
              "      border-right-color: var(--fill-color);\n",
              "      border-bottom-color: var(--fill-color);\n",
              "    }\n",
              "    90% {\n",
              "      border-color: transparent;\n",
              "      border-bottom-color: var(--fill-color);\n",
              "    }\n",
              "  }\n",
              "</style>\n",
              "\n",
              "  <script>\n",
              "    async function quickchart(key) {\n",
              "      const quickchartButtonEl =\n",
              "        document.querySelector('#' + key + ' button');\n",
              "      quickchartButtonEl.disabled = true;  // To prevent multiple clicks.\n",
              "      quickchartButtonEl.classList.add('colab-df-spinner');\n",
              "      try {\n",
              "        const charts = await google.colab.kernel.invokeFunction(\n",
              "            'suggestCharts', [key], {});\n",
              "      } catch (error) {\n",
              "        console.error('Error during call to suggestCharts:', error);\n",
              "      }\n",
              "      quickchartButtonEl.classList.remove('colab-df-spinner');\n",
              "      quickchartButtonEl.classList.add('colab-df-quickchart-complete');\n",
              "    }\n",
              "    (() => {\n",
              "      let quickchartButtonEl =\n",
              "        document.querySelector('#df-66e25802-872d-4db9-9c7d-25d57dd13132 button');\n",
              "      quickchartButtonEl.style.display =\n",
              "        google.colab.kernel.accessAllowed ? 'block' : 'none';\n",
              "    })();\n",
              "  </script>\n",
              "</div>\n",
              "    </div>\n",
              "  </div>\n"
            ],
            "text/plain": [
              "  label      word  text_freq\n",
              "0  real  democrat   0.000547\n",
              "1  real   reuters   0.005732\n",
              "2  fake     obama   0.003113\n",
              "3  fake      home   0.000576\n",
              "4  fake     doesn   0.000911"
            ]
          },
          "execution_count": 35,
          "metadata": {},
          "output_type": "execute_result"
        }
      ],
      "source": [
        "counts = counts.sample(frac=1).reset_index(drop=True)\n",
        "counts.head()"
      ]
    },
    {
      "cell_type": "code",
      "execution_count": null,
      "metadata": {
        "id": "AZDKo7sM8DGt"
      },
      "outputs": [],
      "source": [
        "counts = counts.pivot(index='word', columns='label', values='text_freq')\n",
        "counts = counts.reset_index()"
      ]
    },
    {
      "cell_type": "code",
      "execution_count": null,
      "metadata": {
        "id": "nfY2FOZj8FBZ"
      },
      "outputs": [],
      "source": [
        "counts.loc[counts[\"fake\"].isna(), \"fake\"] = 0.0005/2\n",
        "counts.loc[counts[\"real\"].isna(), \"real\"]  = 0.0005/2"
      ]
    },
    {
      "cell_type": "code",
      "execution_count": null,
      "metadata": {
        "id": "f-NtHAW58HGR"
      },
      "outputs": [],
      "source": [
        "# column ratio should be the TF for MOVIE divided by TF for SHOW\n",
        "counts[\"ratio\"] = counts[\"fake\"]/counts[\"real\"]\n",
        "counts[\"logratio\"] = np.log10(counts[\"ratio\"])"
      ]
    },
    {
      "cell_type": "code",
      "execution_count": null,
      "metadata": {
        "id": "WFn2OqAz8LUu"
      },
      "outputs": [],
      "source": [
        "counts = counts.sort_values(\"logratio\", ascending=True)\n",
        "counts"
      ]
    },
    {
      "cell_type": "code",
      "execution_count": null,
      "metadata": {
        "colab": {
          "base_uri": "https://localhost:8080/",
          "height": 462
        },
        "id": "pbiPW7pt8NBG",
        "outputId": "e2d77d30-1ef5-4ddd-eb93-1cf1e28e22a5"
      },
      "outputs": [
        {
          "data": {
            "image/png": "[encoded data removed]",
            "text/plain": [
              "<Figure size 640x480 with 1 Axes>"
            ]
          },
          "metadata": {},
          "output_type": "display_data"
        }
      ],
      "source": [
        "firstlast = pd.concat([  counts[0:10] , counts[-10:]  ]) #remove quotations\n",
        "\n",
        "# What kind of plot should I use?\n",
        "sns.barplot(data=firstlast, x=\"logratio\", y=\"word\")\n",
        "plt.show()"
      ]
    }
  ],
  "metadata": {
    "accelerator": "GPU",
    "colab": {
      "collapsed_sections": [
        "OOet17dxFvh6",
        "ro9qDtNheaAv"
      ],
      "gpuType": "T4",
      "provenance": []
    },
    "kernelspec": {
      "display_name": "Python 3",
      "language": "python",
      "name": "python3"
    },
    "language_info": {
      "codemirror_mode": {
        "name": "ipython",
        "version": 3
      },
      "file_extension": ".py",
      "mimetype": "text/x-python",
      "name": "python",
      "nbconvert_exporter": "python",
      "pygments_lexer": "ipython3",
      "version": "3.10.9"
    },
    "vscode": {
      "interpreter": {
        "hash": "aee8b7b246df8f9039afb4144a1f6fd8d2ca17a180786b69acc140d282b71a49"
      }
    }
  },
  "nbformat": 4,
  "nbformat_minor": 0
}
